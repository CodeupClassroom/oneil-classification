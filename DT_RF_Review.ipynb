{
 "cells": [
  {
   "cell_type": "markdown",
   "id": "39485914-bd02-4a9f-a2d3-985f6d3d0873",
   "metadata": {},
   "source": [
    "<h2 id=\"exercises\">Exercises</h2>\n",
    "<p>Using the titanic data, in your classification-exercises repository, create a notebook, decision_tree.ipynb where you will do the following:</p>\n",
    "<ol>\n",
    "<li>\n",
    "<p>What is your baseline prediction? What is your baseline accuracy? <em>remember: your baseline prediction for a classification problem is predicting the most prevelant class in the training dataset (the mode). When you make those predictions, what is your accuracy? This is your baseline accuracy.</em></p>\n",
    "</li>"
   ]
  },
  {
   "cell_type": "code",
   "execution_count": 1,
   "id": "79f4511e-5bd9-4dbb-a195-6515db2ef2e2",
   "metadata": {},
   "outputs": [],
   "source": [
    "from acquire import get_titanic_data\n",
    "from prepare import clean_titanic\n",
    "import warnings\n",
    "warnings.filterwarnings('ignore')"
   ]
  },
  {
   "cell_type": "code",
   "execution_count": 2,
   "id": "d7bf2452-dbe2-4698-a806-cd3c26fbb24b",
   "metadata": {},
   "outputs": [],
   "source": [
    "# grab and clean our data:\n",
    "train, validate, test = clean_titanic(\n",
    "    get_titanic_data()\n",
    ")"
   ]
  },
  {
   "cell_type": "code",
   "execution_count": 3,
   "id": "44073a01-8842-46b9-9133-e3a0a7926b11",
   "metadata": {},
   "outputs": [
    {
     "data": {
      "text/plain": [
       "((498, 12), (214, 12), (179, 12))"
      ]
     },
     "execution_count": 3,
     "metadata": {},
     "output_type": "execute_result"
    }
   ],
   "source": [
    "train.shape, validate.shape, test.shape"
   ]
  },
  {
   "cell_type": "code",
   "execution_count": 4,
   "id": "309f8009-b646-4c73-935f-d2b3287b230c",
   "metadata": {},
   "outputs": [
    {
     "data": {
      "text/html": [
       "<div>\n",
       "<style scoped>\n",
       "    .dataframe tbody tr th:only-of-type {\n",
       "        vertical-align: middle;\n",
       "    }\n",
       "\n",
       "    .dataframe tbody tr th {\n",
       "        vertical-align: top;\n",
       "    }\n",
       "\n",
       "    .dataframe thead th {\n",
       "        text-align: right;\n",
       "    }\n",
       "</style>\n",
       "<table border=\"1\" class=\"dataframe\">\n",
       "  <thead>\n",
       "    <tr style=\"text-align: right;\">\n",
       "      <th></th>\n",
       "      <th>survived</th>\n",
       "      <th>pclass</th>\n",
       "      <th>sex</th>\n",
       "      <th>age</th>\n",
       "      <th>sibsp</th>\n",
       "      <th>parch</th>\n",
       "      <th>fare</th>\n",
       "      <th>embark_town</th>\n",
       "      <th>alone</th>\n",
       "      <th>sex_male</th>\n",
       "      <th>embark_town_Queenstown</th>\n",
       "      <th>embark_town_Southampton</th>\n",
       "    </tr>\n",
       "  </thead>\n",
       "  <tbody>\n",
       "    <tr>\n",
       "      <th>474</th>\n",
       "      <td>0</td>\n",
       "      <td>3</td>\n",
       "      <td>female</td>\n",
       "      <td>22.00000</td>\n",
       "      <td>0</td>\n",
       "      <td>0</td>\n",
       "      <td>9.8375</td>\n",
       "      <td>Southampton</td>\n",
       "      <td>1</td>\n",
       "      <td>0</td>\n",
       "      <td>0</td>\n",
       "      <td>1</td>\n",
       "    </tr>\n",
       "    <tr>\n",
       "      <th>370</th>\n",
       "      <td>1</td>\n",
       "      <td>1</td>\n",
       "      <td>male</td>\n",
       "      <td>25.00000</td>\n",
       "      <td>1</td>\n",
       "      <td>0</td>\n",
       "      <td>55.4417</td>\n",
       "      <td>Cherbourg</td>\n",
       "      <td>0</td>\n",
       "      <td>1</td>\n",
       "      <td>0</td>\n",
       "      <td>0</td>\n",
       "    </tr>\n",
       "    <tr>\n",
       "      <th>573</th>\n",
       "      <td>1</td>\n",
       "      <td>3</td>\n",
       "      <td>female</td>\n",
       "      <td>30.53944</td>\n",
       "      <td>0</td>\n",
       "      <td>0</td>\n",
       "      <td>7.7500</td>\n",
       "      <td>Queenstown</td>\n",
       "      <td>1</td>\n",
       "      <td>0</td>\n",
       "      <td>1</td>\n",
       "      <td>0</td>\n",
       "    </tr>\n",
       "    <tr>\n",
       "      <th>110</th>\n",
       "      <td>0</td>\n",
       "      <td>1</td>\n",
       "      <td>male</td>\n",
       "      <td>47.00000</td>\n",
       "      <td>0</td>\n",
       "      <td>0</td>\n",
       "      <td>52.0000</td>\n",
       "      <td>Southampton</td>\n",
       "      <td>1</td>\n",
       "      <td>1</td>\n",
       "      <td>0</td>\n",
       "      <td>1</td>\n",
       "    </tr>\n",
       "    <tr>\n",
       "      <th>167</th>\n",
       "      <td>0</td>\n",
       "      <td>3</td>\n",
       "      <td>female</td>\n",
       "      <td>45.00000</td>\n",
       "      <td>1</td>\n",
       "      <td>4</td>\n",
       "      <td>27.9000</td>\n",
       "      <td>Southampton</td>\n",
       "      <td>0</td>\n",
       "      <td>0</td>\n",
       "      <td>0</td>\n",
       "      <td>1</td>\n",
       "    </tr>\n",
       "  </tbody>\n",
       "</table>\n",
       "</div>"
      ],
      "text/plain": [
       "     survived  ...  embark_town_Southampton\n",
       "474         0  ...                        1\n",
       "370         1  ...                        0\n",
       "573         1  ...                        0\n",
       "110         0  ...                        1\n",
       "167         0  ...                        1\n",
       "\n",
       "[5 rows x 12 columns]"
      ]
     },
     "execution_count": 4,
     "metadata": {},
     "output_type": "execute_result"
    }
   ],
   "source": [
    "train.head()"
   ]
  },
  {
   "cell_type": "code",
   "execution_count": 6,
   "id": "79c0c5f4-4217-4b90-9b4a-f8bc7ad2dd08",
   "metadata": {},
   "outputs": [
    {
     "data": {
      "text/plain": [
       "0    0\n",
       "dtype: int64"
      ]
     },
     "execution_count": 6,
     "metadata": {},
     "output_type": "execute_result"
    }
   ],
   "source": [
    "# whats the target?\n",
    "# y is our survival for titanic\n",
    "# i.e. we want to predict if someone survives or not\n",
    "# train.survive == target\n",
    "# to get the baseline,\n",
    "# we want the majority class\n",
    "train.survived.mode()"
   ]
  },
  {
   "cell_type": "code",
   "execution_count": 7,
   "id": "02d96000-4bb8-42a4-a75e-1e21c67c791c",
   "metadata": {},
   "outputs": [
    {
     "data": {
      "text/plain": [
       "0    307\n",
       "1    191\n",
       "Name: survived, dtype: int64"
      ]
     },
     "execution_count": 7,
     "metadata": {},
     "output_type": "execute_result"
    }
   ],
   "source": [
    "train.survived.value_counts()"
   ]
  },
  {
   "cell_type": "code",
   "execution_count": 8,
   "id": "6ebbb864-82d5-4014-a31c-7eb8f6048fe8",
   "metadata": {},
   "outputs": [],
   "source": [
    "# baseline prediction: its death! death for everyone"
   ]
  },
  {
   "cell_type": "code",
   "execution_count": 10,
   "id": "d0978577-63b9-49b3-b22e-54c5067b966d",
   "metadata": {},
   "outputs": [
    {
     "data": {
      "text/plain": [
       "0.6164658634538153"
      ]
     },
     "execution_count": 10,
     "metadata": {},
     "output_type": "execute_result"
    }
   ],
   "source": [
    "(train.survived == 0).mean()"
   ]
  },
  {
   "cell_type": "code",
   "execution_count": 11,
   "id": "a43de110-562a-4088-8508-004c441bfd97",
   "metadata": {},
   "outputs": [],
   "source": [
    "train['baseline_pred'] = 0\n",
    "baseline = 0\n",
    "baseline_accuracy = (train.survived == 0).mean()"
   ]
  },
  {
   "cell_type": "code",
   "execution_count": 14,
   "id": "1bf365c5-5804-4d31-8801-e640e1e06bb8",
   "metadata": {},
   "outputs": [],
   "source": [
    "baseline_array = train['baseline_pred'].values"
   ]
  },
  {
   "cell_type": "code",
   "execution_count": 13,
   "id": "48761899-302f-41cf-a7de-d68ff29f86e4",
   "metadata": {},
   "outputs": [
    {
     "data": {
      "text/plain": [
       "0    498\n",
       "Name: baseline_pred, dtype: int64"
      ]
     },
     "execution_count": 13,
     "metadata": {},
     "output_type": "execute_result"
    }
   ],
   "source": [
    "train['baseline_pred'].value_counts()"
   ]
  },
  {
   "cell_type": "code",
   "execution_count": 15,
   "id": "f7fa3288-bca3-4675-a562-502d0ffa370d",
   "metadata": {},
   "outputs": [
    {
     "data": {
      "text/plain": [
       "array([0, 0, 0, 0, 0, 0, 0, 0, 0, 0, 0, 0, 0, 0, 0, 0, 0, 0, 0, 0, 0, 0,\n",
       "       0, 0, 0, 0, 0, 0, 0, 0, 0, 0, 0, 0, 0, 0, 0, 0, 0, 0, 0, 0, 0, 0,\n",
       "       0, 0, 0, 0, 0, 0, 0, 0, 0, 0, 0, 0, 0, 0, 0, 0, 0, 0, 0, 0, 0, 0,\n",
       "       0, 0, 0, 0, 0, 0, 0, 0, 0, 0, 0, 0, 0, 0, 0, 0, 0, 0, 0, 0, 0, 0,\n",
       "       0, 0, 0, 0, 0, 0, 0, 0, 0, 0, 0, 0, 0, 0, 0, 0, 0, 0, 0, 0, 0, 0,\n",
       "       0, 0, 0, 0, 0, 0, 0, 0, 0, 0, 0, 0, 0, 0, 0, 0, 0, 0, 0, 0, 0, 0,\n",
       "       0, 0, 0, 0, 0, 0, 0, 0, 0, 0, 0, 0, 0, 0, 0, 0, 0, 0, 0, 0, 0, 0,\n",
       "       0, 0, 0, 0, 0, 0, 0, 0, 0, 0, 0, 0, 0, 0, 0, 0, 0, 0, 0, 0, 0, 0,\n",
       "       0, 0, 0, 0, 0, 0, 0, 0, 0, 0, 0, 0, 0, 0, 0, 0, 0, 0, 0, 0, 0, 0,\n",
       "       0, 0, 0, 0, 0, 0, 0, 0, 0, 0, 0, 0, 0, 0, 0, 0, 0, 0, 0, 0, 0, 0,\n",
       "       0, 0, 0, 0, 0, 0, 0, 0, 0, 0, 0, 0, 0, 0, 0, 0, 0, 0, 0, 0, 0, 0,\n",
       "       0, 0, 0, 0, 0, 0, 0, 0, 0, 0, 0, 0, 0, 0, 0, 0, 0, 0, 0, 0, 0, 0,\n",
       "       0, 0, 0, 0, 0, 0, 0, 0, 0, 0, 0, 0, 0, 0, 0, 0, 0, 0, 0, 0, 0, 0,\n",
       "       0, 0, 0, 0, 0, 0, 0, 0, 0, 0, 0, 0, 0, 0, 0, 0, 0, 0, 0, 0, 0, 0,\n",
       "       0, 0, 0, 0, 0, 0, 0, 0, 0, 0, 0, 0, 0, 0, 0, 0, 0, 0, 0, 0, 0, 0,\n",
       "       0, 0, 0, 0, 0, 0, 0, 0, 0, 0, 0, 0, 0, 0, 0, 0, 0, 0, 0, 0, 0, 0,\n",
       "       0, 0, 0, 0, 0, 0, 0, 0, 0, 0, 0, 0, 0, 0, 0, 0, 0, 0, 0, 0, 0, 0,\n",
       "       0, 0, 0, 0, 0, 0, 0, 0, 0, 0, 0, 0, 0, 0, 0, 0, 0, 0, 0, 0, 0, 0,\n",
       "       0, 0, 0, 0, 0, 0, 0, 0, 0, 0, 0, 0, 0, 0, 0, 0, 0, 0, 0, 0, 0, 0,\n",
       "       0, 0, 0, 0, 0, 0, 0, 0, 0, 0, 0, 0, 0, 0, 0, 0, 0, 0, 0, 0, 0, 0,\n",
       "       0, 0, 0, 0, 0, 0, 0, 0, 0, 0, 0, 0, 0, 0, 0, 0, 0, 0, 0, 0, 0, 0,\n",
       "       0, 0, 0, 0, 0, 0, 0, 0, 0, 0, 0, 0, 0, 0, 0, 0, 0, 0, 0, 0, 0, 0,\n",
       "       0, 0, 0, 0, 0, 0, 0, 0, 0, 0, 0, 0, 0, 0])"
      ]
     },
     "execution_count": 15,
     "metadata": {},
     "output_type": "execute_result"
    }
   ],
   "source": [
    "baseline_array"
   ]
  },
  {
   "cell_type": "code",
   "execution_count": 16,
   "id": "647fac58-09d5-4e97-9731-69b0e6a5e956",
   "metadata": {},
   "outputs": [],
   "source": [
    "train = train.drop(columns='baseline_pred')"
   ]
  },
  {
   "cell_type": "code",
   "execution_count": 17,
   "id": "742a5e9e-4cd2-4b0c-974f-2c12d8b5217b",
   "metadata": {},
   "outputs": [],
   "source": [
    "X_cols = train.columns.to_list()\n",
    "y_col = 'survived'"
   ]
  },
  {
   "cell_type": "code",
   "execution_count": 27,
   "id": "1083a651-c2a1-4775-a503-95bf1e066b49",
   "metadata": {},
   "outputs": [],
   "source": [
    "# remove the target from our X\n",
    "# remove sex and embark town,\n",
    "# since we have the encoded versions\n",
    "# so itll play nice with any algorithm"
   ]
  },
  {
   "cell_type": "code",
   "execution_count": 23,
   "id": "7beb80ea-49bf-4c8a-9708-d7d39cb6f650",
   "metadata": {},
   "outputs": [],
   "source": [
    "X_cols.remove('survived')"
   ]
  },
  {
   "cell_type": "code",
   "execution_count": 24,
   "id": "4c013ac5-be45-421a-9ea2-dba830322e19",
   "metadata": {},
   "outputs": [],
   "source": [
    "X_cols.remove('sex')\n",
    "X_cols.remove('embark_town')"
   ]
  },
  {
   "cell_type": "code",
   "execution_count": 25,
   "id": "ae321fe2-da51-4eb7-9eea-af35854d2d55",
   "metadata": {},
   "outputs": [
    {
     "name": "stdout",
     "output_type": "stream",
     "text": [
      "<class 'pandas.core.frame.DataFrame'>\n",
      "Int64Index: 498 entries, 474 to 94\n",
      "Data columns (total 9 columns):\n",
      " #   Column                   Non-Null Count  Dtype  \n",
      "---  ------                   --------------  -----  \n",
      " 0   pclass                   498 non-null    int64  \n",
      " 1   age                      498 non-null    float64\n",
      " 2   sibsp                    498 non-null    int64  \n",
      " 3   parch                    498 non-null    int64  \n",
      " 4   fare                     498 non-null    float64\n",
      " 5   alone                    498 non-null    int64  \n",
      " 6   sex_male                 498 non-null    uint8  \n",
      " 7   embark_town_Queenstown   498 non-null    uint8  \n",
      " 8   embark_town_Southampton  498 non-null    uint8  \n",
      "dtypes: float64(2), int64(4), uint8(3)\n",
      "memory usage: 28.7 KB\n"
     ]
    }
   ],
   "source": [
    "train[X_cols].info()"
   ]
  },
  {
   "cell_type": "code",
   "execution_count": 26,
   "id": "73c26463-631f-47d7-ae80-89b78d26db78",
   "metadata": {},
   "outputs": [],
   "source": [
    "# assign X_train to the portion of train that meets my\n",
    "# standards for independent variables\n",
    "# assign y_train to just my target\n",
    "X_train = train[X_cols]\n",
    "y_train = train[y_col]"
   ]
  },
  {
   "cell_type": "markdown",
   "id": "89a07642-1535-4fe6-a0e6-70493a48adbe",
   "metadata": {},
   "source": [
    "<li>\n",
    "<p>Fit the decision tree classifier to your training sample and transform (i.e.  make predictions on the training sample)</p>\n",
    "</li>"
   ]
  },
  {
   "cell_type": "code",
   "execution_count": 28,
   "id": "dde8804c-c6a1-4851-89c2-443922732be5",
   "metadata": {},
   "outputs": [],
   "source": [
    "from sklearn.tree import DecisionTreeClassifier,\\\n",
    "export_text,\\\n",
    "plot_tree\n",
    "from sklearn.metrics import accuracy_score, \\\n",
    "confusion_matrix,\\\n",
    "classification_report"
   ]
  },
  {
   "cell_type": "code",
   "execution_count": 29,
   "id": "dd4104f2-f460-4a9b-9980-530f7513011b",
   "metadata": {},
   "outputs": [],
   "source": [
    "# make the thing\n",
    "dt = DecisionTreeClassifier()\n",
    "# fit the thing\n",
    "dt.fit(X_train, y_train)\n",
    "# use the thing\n",
    "preds = dt.predict(X_train)"
   ]
  },
  {
   "cell_type": "markdown",
   "id": "b50aa3bc-ff0b-4cf7-9e04-f05cbbaa143d",
   "metadata": {},
   "source": [
    "<li>\n",
    "<p>Evaluate your in-sample results using the model score, confusion matrix, and classification report.</p>\n",
    "</li>"
   ]
  },
  {
   "cell_type": "code",
   "execution_count": 30,
   "id": "fe088714-cdf2-4087-b875-1d8c76eaaf90",
   "metadata": {},
   "outputs": [
    {
     "data": {
      "text/plain": [
       "0.9839357429718876"
      ]
     },
     "execution_count": 30,
     "metadata": {},
     "output_type": "execute_result"
    }
   ],
   "source": [
    "# model score: same as accuracy!\n",
    "accuracy_score(train.survived, preds)"
   ]
  },
  {
   "cell_type": "code",
   "execution_count": 31,
   "id": "6c034129-44a7-43b3-aa48-087531a38269",
   "metadata": {},
   "outputs": [
    {
     "data": {
      "text/plain": [
       "0.9839357429718876"
      ]
     },
     "execution_count": 31,
     "metadata": {},
     "output_type": "execute_result"
    }
   ],
   "source": [
    "# same thing with score\n",
    "# predict based on my x train, compare to y_train\n",
    "dt.score(X_train, y_train)"
   ]
  },
  {
   "cell_type": "code",
   "execution_count": 35,
   "id": "f902265d-ae3d-4c5f-aae3-9100d46568b2",
   "metadata": {},
   "outputs": [
    {
     "data": {
      "text/plain": [
       "0.9839357429718876"
      ]
     },
     "execution_count": 35,
     "metadata": {},
     "output_type": "execute_result"
    }
   ],
   "source": [
    "(preds == y_train).mean()"
   ]
  },
  {
   "cell_type": "code",
   "execution_count": 33,
   "id": "3dbe02aa-0cd9-404a-8a67-ca43f1270a4f",
   "metadata": {},
   "outputs": [
    {
     "name": "stdout",
     "output_type": "stream",
     "text": [
      "              precision    recall  f1-score   support\n",
      "\n",
      "           0       0.98      1.00      0.99       307\n",
      "           1       0.99      0.96      0.98       191\n",
      "\n",
      "    accuracy                           0.98       498\n",
      "   macro avg       0.99      0.98      0.98       498\n",
      "weighted avg       0.98      0.98      0.98       498\n",
      "\n"
     ]
    }
   ],
   "source": [
    "# classification report:\n",
    "print(classification_report(y_train, preds))"
   ]
  },
  {
   "cell_type": "code",
   "execution_count": 36,
   "id": "5cec1bbc-2ff2-4ac4-a3cf-6fc8486c88ac",
   "metadata": {},
   "outputs": [
    {
     "data": {
      "text/plain": [
       "0    307\n",
       "1    191\n",
       "Name: survived, dtype: int64"
      ]
     },
     "execution_count": 36,
     "metadata": {},
     "output_type": "execute_result"
    }
   ],
   "source": [
    "train.survived.value_counts()"
   ]
  },
  {
   "cell_type": "code",
   "execution_count": 37,
   "id": "7c486a4f-a9d4-4a24-b36c-c370aee6436e",
   "metadata": {},
   "outputs": [
    {
     "data": {
      "text/plain": [
       "array([[306,   1],\n",
       "       [  7, 184]])"
      ]
     },
     "execution_count": 37,
     "metadata": {},
     "output_type": "execute_result"
    }
   ],
   "source": [
    "confusion_matrix(y_train, preds)"
   ]
  },
  {
   "cell_type": "code",
   "execution_count": 39,
   "id": "c4381098-ee4e-4971-ac07-ca6df879a0c6",
   "metadata": {},
   "outputs": [],
   "source": [
    "import pandas as pd\n",
    "import numpy as np"
   ]
  },
  {
   "cell_type": "code",
   "execution_count": 40,
   "id": "cfac0043-9363-47f6-849f-e8fc425fdc52",
   "metadata": {},
   "outputs": [],
   "source": [
    "rubric = pd.DataFrame(\n",
    "    {'pred_0': ['True Negative', 'False Negative'],\n",
    "     'pred_1': ['False Positive', 'True Positive']\n",
    "    }, index=['actual_0','actual_1']\n",
    ")"
   ]
  },
  {
   "cell_type": "code",
   "execution_count": 45,
   "id": "e0d3681e-744d-40a6-aeff-040871ad7543",
   "metadata": {},
   "outputs": [],
   "source": [
    "conf = confusion_matrix(y_train, preds, labels=[0,1])"
   ]
  },
  {
   "cell_type": "code",
   "execution_count": 46,
   "id": "f8ee4929-8759-42e7-9f69-ffcfb56ef8ae",
   "metadata": {},
   "outputs": [
    {
     "data": {
      "text/plain": [
       "array([[306,   1],\n",
       "       [  7, 184]])"
      ]
     },
     "execution_count": 46,
     "metadata": {},
     "output_type": "execute_result"
    }
   ],
   "source": [
    "conf"
   ]
  },
  {
   "cell_type": "code",
   "execution_count": 44,
   "id": "99a23034-b610-4539-8b68-2cfa9b6446bb",
   "metadata": {},
   "outputs": [
    {
     "data": {
      "text/html": [
       "<div>\n",
       "<style scoped>\n",
       "    .dataframe tbody tr th:only-of-type {\n",
       "        vertical-align: middle;\n",
       "    }\n",
       "\n",
       "    .dataframe tbody tr th {\n",
       "        vertical-align: top;\n",
       "    }\n",
       "\n",
       "    .dataframe thead th {\n",
       "        text-align: right;\n",
       "    }\n",
       "</style>\n",
       "<table border=\"1\" class=\"dataframe\">\n",
       "  <thead>\n",
       "    <tr style=\"text-align: right;\">\n",
       "      <th></th>\n",
       "      <th>pred_0</th>\n",
       "      <th>pred_1</th>\n",
       "    </tr>\n",
       "  </thead>\n",
       "  <tbody>\n",
       "    <tr>\n",
       "      <th>actual_0</th>\n",
       "      <td>True Negative: 306</td>\n",
       "      <td>False Positive: 1</td>\n",
       "    </tr>\n",
       "    <tr>\n",
       "      <th>actual_1</th>\n",
       "      <td>False Negative: 7</td>\n",
       "      <td>True Positive: 184</td>\n",
       "    </tr>\n",
       "  </tbody>\n",
       "</table>\n",
       "</div>"
      ],
      "text/plain": [
       "                      pred_0              pred_1\n",
       "actual_0  True Negative: 306   False Positive: 1\n",
       "actual_1   False Negative: 7  True Positive: 184"
      ]
     },
     "execution_count": 44,
     "metadata": {},
     "output_type": "execute_result"
    }
   ],
   "source": [
    "rubric + ': ' + conf.astype(str)"
   ]
  },
  {
   "cell_type": "markdown",
   "id": "4d9006ee-6b3b-4f3a-ac4d-4217f56b6db1",
   "metadata": {},
   "source": [
    "<li>\n",
    "<p>Compute:  Accuracy, true positive rate, false positive rate, true negative rate, false negative rate, precision, recall, f1-score, and support.</p>\n",
    "</li>"
   ]
  },
  {
   "cell_type": "code",
   "execution_count": 48,
   "id": "8d607891-3169-441e-8d92-7fe705a82464",
   "metadata": {},
   "outputs": [],
   "source": [
    "conf.ravel()\n",
    "TN, FP, FN, TP = conf.ravel()"
   ]
  },
  {
   "cell_type": "code",
   "execution_count": 49,
   "id": "d565b788-660e-46cc-b8a2-700d06254732",
   "metadata": {},
   "outputs": [],
   "source": [
    "accuracy = (TP + TN) / (TP + TN + FP + FN)\n",
    "TPR = recall = TP / (TP + FN)\n",
    "FPR = FP / (FP + TN)\n",
    "TNR = TN / (FP + TN)\n",
    "FNR = FN / (FN + TP)\n",
    "precision =  TP / (TP + FP)\n",
    "f1 =  2 * ((precision * recall) / ( precision + recall))\n",
    "support_0 = train[train.survived == 0].shape[0]\n",
    "support_1 = train[train.survived == 1].shape[0]"
   ]
  },
  {
   "cell_type": "code",
   "execution_count": 51,
   "id": "c7ad5bef-49a1-4cc1-a3cf-838943a38a04",
   "metadata": {},
   "outputs": [
    {
     "data": {
      "text/plain": [
       "(0.9839357429718876,\n",
       " 0.9633507853403142,\n",
       " 0.003257328990228013,\n",
       " 0.996742671009772,\n",
       " 0.03664921465968586,\n",
       " 0.9945945945945946,\n",
       " 0.9633507853403142,\n",
       " 0.9787234042553191,\n",
       " 307,\n",
       " 191)"
      ]
     },
     "execution_count": 51,
     "metadata": {},
     "output_type": "execute_result"
    }
   ],
   "source": [
    "accuracy, TPR, FPR, TNR, FNR, precision, recall, f1, support_0, support_1"
   ]
  },
  {
   "cell_type": "markdown",
   "id": "f7a88c2c-3bd8-4439-8f2b-410dd151e483",
   "metadata": {},
   "source": [
    "accuracy: everything right / everything ==> TP + TN / (TP + TN + FP + FN)\n",
    "TPR: TP / (TP + FN)\n",
    "FPR: FP / (FP + TN)\n",
    "TNR: TN / (FP + TN)\n",
    "FNR: FN / (FN + TP)\n",
    "Precision: TP / (TP + FP)\n",
    "Recall: TP / (TP + FN)\n",
    "F1: 2 * (Precision * Recall) / ( Precision + Recall)\n",
    "Support: sum of true positives, sum of true negatives"
   ]
  },
  {
   "cell_type": "markdown",
   "id": "527f1196-195e-439a-93ff-731db52818b5",
   "metadata": {},
   "source": [
    "<li>\n",
    "<p>Run through steps 2-4 using a different <code>max_depth</code> value.</p>\n",
    "</li>"
   ]
  },
  {
   "cell_type": "code",
   "execution_count": 52,
   "id": "fc12e2f5-f673-41b6-a455-1cf9df481687",
   "metadata": {},
   "outputs": [],
   "source": [
    "X_val = validate[X_cols]\n",
    "y_val = validate[y_col]"
   ]
  },
  {
   "cell_type": "code",
   "execution_count": 57,
   "id": "e2209970-457c-41cb-8fb7-64b11027e245",
   "metadata": {},
   "outputs": [],
   "source": [
    "model_dict = {}\n",
    "for i in range(2,15):\n",
    "    clf = DecisionTreeClassifier(max_depth=i)\n",
    "    clf.fit(X_train, y_train)\n",
    "    model_dict[f'dt_depth_{i}'] =  {}\n",
    "    model_dict[f'dt_depth_{i}']['model'] = clf\n",
    "    model_dict[f'dt_depth_{i}']['train_score'] = \\\n",
    "    clf.score(X_train, y_train)\n",
    "    model_dict[f'dt_depth_{i}']['val_score'] = \\\n",
    "    clf.score(X_val, y_val)\n",
    "    model_dict[f'dt_depth_{i}']['val_diff'] = \\\n",
    "    clf.score(X_train, y_train) - clf.score(X_val, y_val)"
   ]
  },
  {
   "cell_type": "code",
   "execution_count": 58,
   "id": "896c8a70-c5cc-4966-88af-04b9bbf6570b",
   "metadata": {},
   "outputs": [
    {
     "data": {
      "text/plain": [
       "dict_keys(['dt_depth_2', 'dt_depth_3', 'dt_depth_4', 'dt_depth_5', 'dt_depth_6', 'dt_depth_7', 'dt_depth_8', 'dt_depth_9', 'dt_depth_10', 'dt_depth_11', 'dt_depth_12', 'dt_depth_13', 'dt_depth_14'])"
      ]
     },
     "execution_count": 58,
     "metadata": {},
     "output_type": "execute_result"
    }
   ],
   "source": [
    "model_dict.keys()"
   ]
  },
  {
   "cell_type": "code",
   "execution_count": 61,
   "id": "7d09d111-0732-4c40-99bd-89e6f04bc326",
   "metadata": {},
   "outputs": [
    {
     "data": {
      "text/plain": [
       "{'model': DecisionTreeClassifier(max_depth=2),\n",
       " 'train_score': 0.8012048192771084,\n",
       " 'val_score': 0.7616822429906542,\n",
       " 'val_diff': 0.03952257628645417}"
      ]
     },
     "execution_count": 61,
     "metadata": {},
     "output_type": "execute_result"
    }
   ],
   "source": [
    "model_dict['dt_depth_2']"
   ]
  },
  {
   "cell_type": "markdown",
   "id": "674ca582-797e-4f68-85b4-2c05b6b4d67c",
   "metadata": {},
   "source": [
    "<li>\n",
    "<p>Which model performs better on your in-sample data?</p>\n",
    "</li>"
   ]
  },
  {
   "cell_type": "code",
   "execution_count": 64,
   "id": "dd1620cf-03ee-43f1-8dd9-675ecc1058ed",
   "metadata": {},
   "outputs": [
    {
     "name": "stdout",
     "output_type": "stream",
     "text": [
      "dt_depth_2\n",
      "0.8012048192771084\n",
      "dt_depth_3\n",
      "0.8333333333333334\n",
      "dt_depth_4\n",
      "0.8433734939759037\n",
      "dt_depth_5\n",
      "0.8614457831325302\n",
      "dt_depth_6\n",
      "0.8795180722891566\n",
      "dt_depth_7\n",
      "0.8895582329317269\n",
      "dt_depth_8\n",
      "0.8995983935742972\n",
      "dt_depth_9\n",
      "0.9196787148594378\n",
      "dt_depth_10\n",
      "0.9437751004016064\n",
      "dt_depth_11\n",
      "0.9578313253012049\n",
      "dt_depth_12\n",
      "0.9718875502008032\n",
      "dt_depth_13\n",
      "0.9759036144578314\n",
      "dt_depth_14\n",
      "0.9799196787148594\n"
     ]
    }
   ],
   "source": [
    "for model in model_dict:\n",
    "    print(model)\n",
    "    print(model_dict[model]['train_score'])"
   ]
  },
  {
   "cell_type": "markdown",
   "id": "1fd02da6-7196-491c-86f0-d89728914c67",
   "metadata": {},
   "source": [
    "<li>\n",
    "<p>Which model performs best on your out-of-sample data, the <code>validate</code> set?</p>\n",
    "</li>"
   ]
  },
  {
   "cell_type": "code",
   "execution_count": 66,
   "id": "5d00a8d1-eb61-42ce-9668-a0cf89494f0a",
   "metadata": {},
   "outputs": [
    {
     "name": "stdout",
     "output_type": "stream",
     "text": [
      "dt_depth_2\n",
      "0.7616822429906542\n",
      "dt_depth_3\n",
      "0.7757009345794392\n",
      "dt_depth_4\n",
      "0.7757009345794392\n",
      "dt_depth_5\n",
      "0.7850467289719626\n",
      "dt_depth_6\n",
      "0.7850467289719626\n",
      "dt_depth_7\n",
      "0.7616822429906542\n",
      "dt_depth_8\n",
      "0.7289719626168224\n",
      "dt_depth_9\n",
      "0.7383177570093458\n",
      "dt_depth_10\n",
      "0.7383177570093458\n",
      "dt_depth_11\n",
      "0.7242990654205608\n",
      "dt_depth_12\n",
      "0.7242990654205608\n",
      "dt_depth_13\n",
      "0.719626168224299\n",
      "dt_depth_14\n",
      "0.705607476635514\n"
     ]
    }
   ],
   "source": [
    "for model in model_dict:\n",
    "    print(model)\n",
    "    print(model_dict[model]['val_score'])"
   ]
  },
  {
   "cell_type": "code",
   "execution_count": 67,
   "id": "c06ac2f7-945f-4624-a897-f61dd6fafcbe",
   "metadata": {},
   "outputs": [],
   "source": [
    "# 5 and six appear to be the best!"
   ]
  },
  {
   "cell_type": "markdown",
   "id": "d383818f-aaf8-49c9-b34c-afbea745b774",
   "metadata": {},
   "source": [
    "work with titanic data to do the following: </p>"
   ]
  },
  {
   "cell_type": "markdown",
   "id": "0f7e292c-e003-4116-b326-f4444176b887",
   "metadata": {},
   "source": [
    "<ol>\n",
    "<li>\n",
    "<p>Fit the Random Forest classifier to your training sample and transform (i.e. make predictions on the training sample) setting the random_state accordingly and setting min_samples_leaf = 1 and max_depth = 10.</p>\n",
    "</li>"
   ]
  },
  {
   "cell_type": "code",
   "execution_count": 68,
   "id": "81ae68a3-baba-42a4-92b4-9bc74419c6d0",
   "metadata": {},
   "outputs": [],
   "source": [
    "from sklearn.ensemble import RandomForestClassifier"
   ]
  },
  {
   "cell_type": "code",
   "execution_count": 69,
   "id": "cc27abbf-cdb0-4cfe-a65b-3a5fcc7c2f81",
   "metadata": {},
   "outputs": [
    {
     "data": {
      "text/plain": [
       "0.9598393574297188"
      ]
     },
     "execution_count": 69,
     "metadata": {},
     "output_type": "execute_result"
    }
   ],
   "source": [
    "# make the thing\n",
    "rf = RandomForestClassifier(min_samples_leaf=1,\n",
    "                            max_depth=10,\n",
    "                            random_state=1349)\n",
    "# fit the thing\n",
    "# remember only ever call fit on train data!!\n",
    "# !!\n",
    "rf.fit(X_train, y_train)\n",
    "# use the thing!\n",
    "rf_0_preds = rf.predict(X_train)\n",
    "rf.score(X_train, y_train)"
   ]
  },
  {
   "cell_type": "code",
   "execution_count": 70,
   "id": "ff673a5c-b6f3-48c8-a110-8be440db385f",
   "metadata": {},
   "outputs": [
    {
     "data": {
      "text/plain": [
       "0.7850467289719626"
      ]
     },
     "execution_count": 70,
     "metadata": {},
     "output_type": "execute_result"
    }
   ],
   "source": [
    "rf.score(X_val, y_val)"
   ]
  },
  {
   "cell_type": "markdown",
   "id": "dbd49ab6-c6cb-4026-81a8-d72a2ddb3cf3",
   "metadata": {},
   "source": [
    "<li>\n",
    "<p>Evaluate your results using the model score, confusion matrix, and classification report.</p>\n",
    "</li>"
   ]
  },
  {
   "cell_type": "code",
   "execution_count": 71,
   "id": "92fdc7e5-aea4-4517-9656-5cc2057b5100",
   "metadata": {},
   "outputs": [],
   "source": [
    "conf_rf = confusion_matrix(y_train, rf_0_preds)"
   ]
  },
  {
   "cell_type": "code",
   "execution_count": 72,
   "id": "e672e28b-0aa8-4e43-9027-2cef2f521a94",
   "metadata": {},
   "outputs": [
    {
     "data": {
      "text/html": [
       "<div>\n",
       "<style scoped>\n",
       "    .dataframe tbody tr th:only-of-type {\n",
       "        vertical-align: middle;\n",
       "    }\n",
       "\n",
       "    .dataframe tbody tr th {\n",
       "        vertical-align: top;\n",
       "    }\n",
       "\n",
       "    .dataframe thead th {\n",
       "        text-align: right;\n",
       "    }\n",
       "</style>\n",
       "<table border=\"1\" class=\"dataframe\">\n",
       "  <thead>\n",
       "    <tr style=\"text-align: right;\">\n",
       "      <th></th>\n",
       "      <th>pred_0</th>\n",
       "      <th>pred_1</th>\n",
       "    </tr>\n",
       "  </thead>\n",
       "  <tbody>\n",
       "    <tr>\n",
       "      <th>actual_0</th>\n",
       "      <td>True Negative: 304</td>\n",
       "      <td>False Positive: 3</td>\n",
       "    </tr>\n",
       "    <tr>\n",
       "      <th>actual_1</th>\n",
       "      <td>False Negative: 17</td>\n",
       "      <td>True Positive: 174</td>\n",
       "    </tr>\n",
       "  </tbody>\n",
       "</table>\n",
       "</div>"
      ],
      "text/plain": [
       "                      pred_0              pred_1\n",
       "actual_0  True Negative: 304   False Positive: 3\n",
       "actual_1  False Negative: 17  True Positive: 174"
      ]
     },
     "execution_count": 72,
     "metadata": {},
     "output_type": "execute_result"
    }
   ],
   "source": [
    "rubric + ': ' + conf_rf.astype(str)"
   ]
  },
  {
   "cell_type": "code",
   "execution_count": 74,
   "id": "80d3eac4-9df8-4226-9932-543f022262c1",
   "metadata": {},
   "outputs": [
    {
     "data": {
      "text/html": [
       "<div>\n",
       "<style scoped>\n",
       "    .dataframe tbody tr th:only-of-type {\n",
       "        vertical-align: middle;\n",
       "    }\n",
       "\n",
       "    .dataframe tbody tr th {\n",
       "        vertical-align: top;\n",
       "    }\n",
       "\n",
       "    .dataframe thead th {\n",
       "        text-align: right;\n",
       "    }\n",
       "</style>\n",
       "<table border=\"1\" class=\"dataframe\">\n",
       "  <thead>\n",
       "    <tr style=\"text-align: right;\">\n",
       "      <th></th>\n",
       "      <th>0</th>\n",
       "      <th>1</th>\n",
       "      <th>accuracy</th>\n",
       "      <th>macro avg</th>\n",
       "      <th>weighted avg</th>\n",
       "    </tr>\n",
       "  </thead>\n",
       "  <tbody>\n",
       "    <tr>\n",
       "      <th>precision</th>\n",
       "      <td>0.947040</td>\n",
       "      <td>0.983051</td>\n",
       "      <td>0.959839</td>\n",
       "      <td>0.965046</td>\n",
       "      <td>0.960852</td>\n",
       "    </tr>\n",
       "    <tr>\n",
       "      <th>recall</th>\n",
       "      <td>0.990228</td>\n",
       "      <td>0.910995</td>\n",
       "      <td>0.959839</td>\n",
       "      <td>0.950611</td>\n",
       "      <td>0.959839</td>\n",
       "    </tr>\n",
       "    <tr>\n",
       "      <th>f1-score</th>\n",
       "      <td>0.968153</td>\n",
       "      <td>0.945652</td>\n",
       "      <td>0.959839</td>\n",
       "      <td>0.956903</td>\n",
       "      <td>0.959523</td>\n",
       "    </tr>\n",
       "    <tr>\n",
       "      <th>support</th>\n",
       "      <td>307.000000</td>\n",
       "      <td>191.000000</td>\n",
       "      <td>0.959839</td>\n",
       "      <td>498.000000</td>\n",
       "      <td>498.000000</td>\n",
       "    </tr>\n",
       "  </tbody>\n",
       "</table>\n",
       "</div>"
      ],
      "text/plain": [
       "                    0  ...  weighted avg\n",
       "precision    0.947040  ...      0.960852\n",
       "recall       0.990228  ...      0.959839\n",
       "f1-score     0.968153  ...      0.959523\n",
       "support    307.000000  ...    498.000000\n",
       "\n",
       "[4 rows x 5 columns]"
      ]
     },
     "execution_count": 74,
     "metadata": {},
     "output_type": "execute_result"
    }
   ],
   "source": [
    "pd.DataFrame(\n",
    "    classification_report(\n",
    "        y_train,\n",
    "        rf_0_preds,\n",
    "        output_dict=True)\n",
    ")"
   ]
  },
  {
   "cell_type": "markdown",
   "id": "320be9ab-2ece-41bd-ae3a-678873f67fd2",
   "metadata": {},
   "source": [
    "<li>\n",
    "<p>Print and clearly label the following:  Accuracy, true positive rate, false positive rate, true negative rate, false negative rate, precision, recall, f1-score, and support.</p>\n",
    "</li>"
   ]
  },
  {
   "cell_type": "code",
   "execution_count": 78,
   "id": "31bca20f-ea01-4fc2-8de4-92c99dc2bc43",
   "metadata": {},
   "outputs": [],
   "source": [
    "conf_rf.ravel()\n",
    "TN, FP, FN, TP = conf_rf.ravel()"
   ]
  },
  {
   "cell_type": "code",
   "execution_count": 79,
   "id": "1f289241-71f2-43f1-b211-92b1419dda47",
   "metadata": {},
   "outputs": [],
   "source": [
    "accuracy = (TP + TN) / (TP + TN + FP + FN)\n",
    "TPR = recall = TP / (TP + FN)\n",
    "FPR = FP / (FP + TN)\n",
    "TNR = TN / (FP + TN)\n",
    "FNR = FN / (FN + TP)\n",
    "precision =  TP / (TP + FP)\n",
    "f1 =  2 * ((precision * recall) / ( precision + recall))\n",
    "support_0 = train[train.survived == 0].shape[0]\n",
    "support_1 = train[train.survived == 1].shape[0]"
   ]
  },
  {
   "cell_type": "code",
   "execution_count": 80,
   "id": "e14f59f5-6352-4383-b0d8-ec4d2e2e3f37",
   "metadata": {},
   "outputs": [
    {
     "data": {
      "text/plain": [
       "(0.9598393574297188,\n",
       " 0.9109947643979057,\n",
       " 0.009771986970684038,\n",
       " 0.990228013029316,\n",
       " 0.08900523560209424,\n",
       " 0.9830508474576272,\n",
       " 0.9109947643979057,\n",
       " 0.9456521739130435,\n",
       " 307,\n",
       " 191)"
      ]
     },
     "execution_count": 80,
     "metadata": {},
     "output_type": "execute_result"
    }
   ],
   "source": [
    "accuracy, TPR, FPR, TNR, FNR, precision, recall, f1, support_0, support_1"
   ]
  },
  {
   "cell_type": "markdown",
   "id": "f77ce216-ff96-4cd3-80e5-049767d4f09b",
   "metadata": {},
   "source": [
    "<li>\n",
    "<p>Run through steps increasing your min_samples_leaf and decreasing your max_depth. </p>\n",
    "</li>"
   ]
  },
  {
   "cell_type": "code",
   "execution_count": 87,
   "id": "9f39b354-3903-4b2c-be03-9460c7593ec3",
   "metadata": {},
   "outputs": [
    {
     "data": {
      "text/plain": [
       "[1, 2, 3, 4, 5, 6, 7, 8, 9]"
      ]
     },
     "execution_count": 87,
     "metadata": {},
     "output_type": "execute_result"
    }
   ],
   "source": [
    "list(range(1,10))"
   ]
  },
  {
   "cell_type": "code",
   "execution_count": 89,
   "id": "60206bce-5e97-4b20-949d-fd4cdef91b41",
   "metadata": {},
   "outputs": [
    {
     "data": {
      "text/plain": [
       "[10, 9, 8, 7, 6, 5, 4, 3, 2]"
      ]
     },
     "execution_count": 89,
     "metadata": {},
     "output_type": "execute_result"
    }
   ],
   "source": [
    "list(range(10,1, -1))"
   ]
  },
  {
   "cell_type": "code",
   "execution_count": 91,
   "id": "fa9a7797-0b49-4ba8-8575-bf4ab556d57b",
   "metadata": {},
   "outputs": [
    {
     "data": {
      "text/plain": [
       "[(1, 10), (2, 9), (3, 8), (4, 7), (5, 6), (6, 5), (7, 4), (8, 3), (9, 2)]"
      ]
     },
     "execution_count": 91,
     "metadata": {},
     "output_type": "execute_result"
    }
   ],
   "source": [
    "[pair for pair in zip(range(1,10), range(10,1,-1))]"
   ]
  },
  {
   "cell_type": "code",
   "execution_count": null,
   "id": "26cbe4b8-0d36-4c11-a5fa-2aa4c8849efb",
   "metadata": {
    "jupyter": {
     "source_hidden": true
    },
    "tags": []
   },
   "outputs": [],
   "source": [
    "min_leaf = range(1,10)\n",
    "max_depth = "
   ]
  },
  {
   "cell_type": "code",
   "execution_count": 93,
   "id": "79442579-78b2-480a-a6d7-b26731d55591",
   "metadata": {},
   "outputs": [],
   "source": [
    "# I perhaps would do the same thing I did before with a loop!\n",
    "rf_model_dict = {}\n",
    "for i in [pair for pair in zip(range(1,10), \n",
    "                                range(10,1,-1))]:\n",
    "    clf = RandomForestClassifier(min_samples_leaf=i[0],\n",
    "                                 max_depth=i[1])\n",
    "    clf.fit(X_train, y_train)\n",
    "    # make a dictionary inside of my model_dictionary\n",
    "    rf_model_dict[f'rf_{i[0]}'] =  {}\n",
    "    # in the sub-dictionary:\n",
    "    # assign the model object\n",
    "    rf_model_dict[f'rf_{i[0]}']['model'] = clf\n",
    "    #assign the train score\n",
    "    rf_model_dict[f'rf_{i[0]}']['train_score'] = \\\n",
    "    clf.score(X_train, y_train)\n",
    "    # assign the validate score\n",
    "    rf_model_dict[f'rf_{i[0]}']['val_score'] = \\\n",
    "    clf.score(X_val, y_val)\n",
    "    # assign the validation dropoff\n",
    "    rf_model_dict[f'rf_{i[0]}']['val_diff'] = \\\n",
    "    clf.score(X_train, y_train) - clf.score(X_val, y_val)"
   ]
  },
  {
   "cell_type": "code",
   "execution_count": 116,
   "id": "e6bbce4e-9003-4a07-80e3-68e648d76a38",
   "metadata": {},
   "outputs": [
    {
     "data": {
      "text/plain": [
       "{'rf_1': {'model': RandomForestClassifier(max_depth=10),\n",
       "  'train_score': 0.9598393574297188,\n",
       "  'val_score': 0.780373831775701,\n",
       "  'val_diff': 0.17946552565401785},\n",
       " 'rf_2': {'model': RandomForestClassifier(max_depth=9, min_samples_leaf=2),\n",
       "  'train_score': 0.9116465863453815,\n",
       "  'val_score': 0.8084112149532711,\n",
       "  'val_diff': 0.10323537139211048},\n",
       " 'rf_3': {'model': RandomForestClassifier(max_depth=8, min_samples_leaf=3),\n",
       "  'train_score': 0.8875502008032129,\n",
       "  'val_score': 0.794392523364486,\n",
       "  'val_diff': 0.09315767743872694},\n",
       " 'rf_4': {'model': RandomForestClassifier(max_depth=7, min_samples_leaf=4),\n",
       "  'train_score': 0.8775100401606426,\n",
       "  'val_score': 0.794392523364486,\n",
       "  'val_diff': 0.08311751679615664},\n",
       " 'rf_5': {'model': RandomForestClassifier(max_depth=6, min_samples_leaf=5),\n",
       "  'train_score': 0.8694779116465864,\n",
       "  'val_score': 0.780373831775701,\n",
       "  'val_diff': 0.08910407987088542},\n",
       " 'rf_6': {'model': RandomForestClassifier(max_depth=5, min_samples_leaf=6),\n",
       "  'train_score': 0.8594377510040161,\n",
       "  'val_score': 0.780373831775701,\n",
       "  'val_diff': 0.07906391922831513},\n",
       " 'rf_7': {'model': RandomForestClassifier(max_depth=4, min_samples_leaf=7),\n",
       "  'train_score': 0.857429718875502,\n",
       "  'val_score': 0.7757009345794392,\n",
       "  'val_diff': 0.08172878429606278},\n",
       " 'rf_8': {'model': RandomForestClassifier(max_depth=3, min_samples_leaf=8),\n",
       "  'train_score': 0.8453815261044176,\n",
       "  'val_score': 0.780373831775701,\n",
       "  'val_diff': 0.06500769432871667},\n",
       " 'rf_9': {'model': RandomForestClassifier(max_depth=2, min_samples_leaf=9),\n",
       "  'train_score': 0.8072289156626506,\n",
       "  'val_score': 0.7570093457943925,\n",
       "  'val_diff': 0.05021956986825815}}"
      ]
     },
     "execution_count": 116,
     "metadata": {},
     "output_type": "execute_result"
    }
   ],
   "source": [
    "rf_model_dict"
   ]
  },
  {
   "cell_type": "code",
   "execution_count": 97,
   "id": "95191cf0-3436-4fe0-b6df-2c58c0d57f7d",
   "metadata": {},
   "outputs": [],
   "source": [
    "max_score = 0\n",
    "for model in rf_model_dict:\n",
    "    if rf_model_dict[model]['val_score'] > max_score:\n",
    "        max_score = rf_model_dict[model]['val_score']\n",
    "        model_name = model"
   ]
  },
  {
   "cell_type": "code",
   "execution_count": 98,
   "id": "064955d1-427d-49fe-94e4-a7d7a2039dc8",
   "metadata": {},
   "outputs": [
    {
     "data": {
      "text/plain": [
       "0.8084112149532711"
      ]
     },
     "execution_count": 98,
     "metadata": {},
     "output_type": "execute_result"
    }
   ],
   "source": [
    "max_score"
   ]
  },
  {
   "cell_type": "code",
   "execution_count": 99,
   "id": "159496a0-8fc7-4b2e-b9be-5ae8b9c9db60",
   "metadata": {},
   "outputs": [
    {
     "data": {
      "text/plain": [
       "'rf_9'"
      ]
     },
     "execution_count": 99,
     "metadata": {},
     "output_type": "execute_result"
    }
   ],
   "source": [
    "model"
   ]
  },
  {
   "cell_type": "code",
   "execution_count": 101,
   "id": "a376fd57-0941-44b7-b00c-371f65176dee",
   "metadata": {},
   "outputs": [
    {
     "data": {
      "text/plain": [
       "RandomForestClassifier(max_depth=2, min_samples_leaf=9)"
      ]
     },
     "execution_count": 101,
     "metadata": {},
     "output_type": "execute_result"
    }
   ],
   "source": [
    "rf_model_dict['rf_9']['model']"
   ]
  },
  {
   "cell_type": "code",
   "execution_count": 103,
   "id": "11b0cbea-e1f7-4853-a15b-9c3d845cb5fa",
   "metadata": {},
   "outputs": [
    {
     "data": {
      "text/plain": [
       "214"
      ]
     },
     "execution_count": 103,
     "metadata": {},
     "output_type": "execute_result"
    }
   ],
   "source": [
    "len([0 for i in range(0, validate.shape[0])])"
   ]
  },
  {
   "cell_type": "code",
   "execution_count": 106,
   "id": "5ba153fe-0537-4dd6-b151-b27a2e80bb3c",
   "metadata": {},
   "outputs": [],
   "source": [
    "# Prediction DataFrame!\n",
    "pred_df = pd.DataFrame(\n",
    "    {\n",
    "        'baseline': [0 for i in range(\n",
    "        0, validate.shape[0])],\n",
    "        'y_true': y_val.values\n",
    "    }\n",
    ")"
   ]
  },
  {
   "cell_type": "code",
   "execution_count": 108,
   "id": "a16b17be-052f-45a3-a26f-513c2ee3c8d3",
   "metadata": {},
   "outputs": [],
   "source": [
    "for model in rf_model_dict:\n",
    "    model_preds = rf_model_dict[model]['model'].predict(X_val)\n",
    "    pred_df[model] = model_preds"
   ]
  },
  {
   "cell_type": "code",
   "execution_count": 109,
   "id": "db7dd517-bd99-47ff-a8db-ae4ca901aee3",
   "metadata": {},
   "outputs": [
    {
     "data": {
      "text/html": [
       "<div>\n",
       "<style scoped>\n",
       "    .dataframe tbody tr th:only-of-type {\n",
       "        vertical-align: middle;\n",
       "    }\n",
       "\n",
       "    .dataframe tbody tr th {\n",
       "        vertical-align: top;\n",
       "    }\n",
       "\n",
       "    .dataframe thead th {\n",
       "        text-align: right;\n",
       "    }\n",
       "</style>\n",
       "<table border=\"1\" class=\"dataframe\">\n",
       "  <thead>\n",
       "    <tr style=\"text-align: right;\">\n",
       "      <th></th>\n",
       "      <th>baseline</th>\n",
       "      <th>y_true</th>\n",
       "      <th>rf_1</th>\n",
       "      <th>rf_2</th>\n",
       "      <th>rf_3</th>\n",
       "      <th>rf_4</th>\n",
       "      <th>rf_5</th>\n",
       "      <th>rf_6</th>\n",
       "      <th>rf_7</th>\n",
       "      <th>rf_8</th>\n",
       "      <th>rf_9</th>\n",
       "    </tr>\n",
       "  </thead>\n",
       "  <tbody>\n",
       "    <tr>\n",
       "      <th>0</th>\n",
       "      <td>0</td>\n",
       "      <td>1</td>\n",
       "      <td>0</td>\n",
       "      <td>0</td>\n",
       "      <td>0</td>\n",
       "      <td>0</td>\n",
       "      <td>0</td>\n",
       "      <td>0</td>\n",
       "      <td>0</td>\n",
       "      <td>0</td>\n",
       "      <td>0</td>\n",
       "    </tr>\n",
       "    <tr>\n",
       "      <th>1</th>\n",
       "      <td>0</td>\n",
       "      <td>0</td>\n",
       "      <td>0</td>\n",
       "      <td>0</td>\n",
       "      <td>0</td>\n",
       "      <td>0</td>\n",
       "      <td>0</td>\n",
       "      <td>0</td>\n",
       "      <td>0</td>\n",
       "      <td>0</td>\n",
       "      <td>0</td>\n",
       "    </tr>\n",
       "    <tr>\n",
       "      <th>2</th>\n",
       "      <td>0</td>\n",
       "      <td>0</td>\n",
       "      <td>0</td>\n",
       "      <td>0</td>\n",
       "      <td>0</td>\n",
       "      <td>0</td>\n",
       "      <td>0</td>\n",
       "      <td>0</td>\n",
       "      <td>0</td>\n",
       "      <td>0</td>\n",
       "      <td>0</td>\n",
       "    </tr>\n",
       "    <tr>\n",
       "      <th>3</th>\n",
       "      <td>0</td>\n",
       "      <td>0</td>\n",
       "      <td>1</td>\n",
       "      <td>1</td>\n",
       "      <td>1</td>\n",
       "      <td>1</td>\n",
       "      <td>1</td>\n",
       "      <td>1</td>\n",
       "      <td>1</td>\n",
       "      <td>0</td>\n",
       "      <td>0</td>\n",
       "    </tr>\n",
       "    <tr>\n",
       "      <th>4</th>\n",
       "      <td>0</td>\n",
       "      <td>0</td>\n",
       "      <td>0</td>\n",
       "      <td>0</td>\n",
       "      <td>0</td>\n",
       "      <td>0</td>\n",
       "      <td>0</td>\n",
       "      <td>0</td>\n",
       "      <td>0</td>\n",
       "      <td>0</td>\n",
       "      <td>0</td>\n",
       "    </tr>\n",
       "    <tr>\n",
       "      <th>...</th>\n",
       "      <td>...</td>\n",
       "      <td>...</td>\n",
       "      <td>...</td>\n",
       "      <td>...</td>\n",
       "      <td>...</td>\n",
       "      <td>...</td>\n",
       "      <td>...</td>\n",
       "      <td>...</td>\n",
       "      <td>...</td>\n",
       "      <td>...</td>\n",
       "      <td>...</td>\n",
       "    </tr>\n",
       "    <tr>\n",
       "      <th>209</th>\n",
       "      <td>0</td>\n",
       "      <td>0</td>\n",
       "      <td>0</td>\n",
       "      <td>0</td>\n",
       "      <td>0</td>\n",
       "      <td>0</td>\n",
       "      <td>0</td>\n",
       "      <td>0</td>\n",
       "      <td>0</td>\n",
       "      <td>0</td>\n",
       "      <td>0</td>\n",
       "    </tr>\n",
       "    <tr>\n",
       "      <th>210</th>\n",
       "      <td>0</td>\n",
       "      <td>1</td>\n",
       "      <td>1</td>\n",
       "      <td>1</td>\n",
       "      <td>1</td>\n",
       "      <td>1</td>\n",
       "      <td>1</td>\n",
       "      <td>1</td>\n",
       "      <td>1</td>\n",
       "      <td>1</td>\n",
       "      <td>1</td>\n",
       "    </tr>\n",
       "    <tr>\n",
       "      <th>211</th>\n",
       "      <td>0</td>\n",
       "      <td>1</td>\n",
       "      <td>1</td>\n",
       "      <td>1</td>\n",
       "      <td>1</td>\n",
       "      <td>1</td>\n",
       "      <td>1</td>\n",
       "      <td>1</td>\n",
       "      <td>1</td>\n",
       "      <td>1</td>\n",
       "      <td>1</td>\n",
       "    </tr>\n",
       "    <tr>\n",
       "      <th>212</th>\n",
       "      <td>0</td>\n",
       "      <td>0</td>\n",
       "      <td>0</td>\n",
       "      <td>0</td>\n",
       "      <td>0</td>\n",
       "      <td>0</td>\n",
       "      <td>0</td>\n",
       "      <td>0</td>\n",
       "      <td>0</td>\n",
       "      <td>0</td>\n",
       "      <td>0</td>\n",
       "    </tr>\n",
       "    <tr>\n",
       "      <th>213</th>\n",
       "      <td>0</td>\n",
       "      <td>0</td>\n",
       "      <td>0</td>\n",
       "      <td>0</td>\n",
       "      <td>0</td>\n",
       "      <td>0</td>\n",
       "      <td>0</td>\n",
       "      <td>0</td>\n",
       "      <td>0</td>\n",
       "      <td>0</td>\n",
       "      <td>0</td>\n",
       "    </tr>\n",
       "  </tbody>\n",
       "</table>\n",
       "<p>214 rows × 11 columns</p>\n",
       "</div>"
      ],
      "text/plain": [
       "     baseline  y_true  rf_1  rf_2  rf_3  rf_4  rf_5  rf_6  rf_7  rf_8  rf_9\n",
       "0           0       1     0     0     0     0     0     0     0     0     0\n",
       "1           0       0     0     0     0     0     0     0     0     0     0\n",
       "2           0       0     0     0     0     0     0     0     0     0     0\n",
       "3           0       0     1     1     1     1     1     1     1     0     0\n",
       "4           0       0     0     0     0     0     0     0     0     0     0\n",
       "..        ...     ...   ...   ...   ...   ...   ...   ...   ...   ...   ...\n",
       "209         0       0     0     0     0     0     0     0     0     0     0\n",
       "210         0       1     1     1     1     1     1     1     1     1     1\n",
       "211         0       1     1     1     1     1     1     1     1     1     1\n",
       "212         0       0     0     0     0     0     0     0     0     0     0\n",
       "213         0       0     0     0     0     0     0     0     0     0     0\n",
       "\n",
       "[214 rows x 11 columns]"
      ]
     },
     "execution_count": 109,
     "metadata": {},
     "output_type": "execute_result"
    }
   ],
   "source": [
    "pred_df"
   ]
  },
  {
   "cell_type": "code",
   "execution_count": 110,
   "id": "969f61fa-a065-4934-93b0-f9504fae68cc",
   "metadata": {},
   "outputs": [
    {
     "data": {
      "text/plain": [
       "dict_keys(['rf_1', 'rf_2', 'rf_3', 'rf_4', 'rf_5', 'rf_6', 'rf_7', 'rf_8', 'rf_9'])"
      ]
     },
     "execution_count": 110,
     "metadata": {},
     "output_type": "execute_result"
    }
   ],
   "source": [
    "rf_model_dict.keys()"
   ]
  },
  {
   "cell_type": "code",
   "execution_count": 111,
   "id": "a797567e-6e2c-4cd8-b6c4-85d2ad7fbcd4",
   "metadata": {},
   "outputs": [
    {
     "data": {
      "text/plain": [
       "dict_keys(['model', 'train_score', 'val_score', 'val_diff'])"
      ]
     },
     "execution_count": 111,
     "metadata": {},
     "output_type": "execute_result"
    }
   ],
   "source": [
    "rf_model_dict['rf_1'].keys()"
   ]
  },
  {
   "cell_type": "code",
   "execution_count": 112,
   "id": "056a1cb5-5923-403b-8340-858697a0eb61",
   "metadata": {},
   "outputs": [
    {
     "data": {
      "text/plain": [
       "[0.9598393574297188,\n",
       " 0.9116465863453815,\n",
       " 0.8875502008032129,\n",
       " 0.8775100401606426,\n",
       " 0.8694779116465864,\n",
       " 0.8594377510040161,\n",
       " 0.857429718875502,\n",
       " 0.8453815261044176,\n",
       " 0.8072289156626506]"
      ]
     },
     "execution_count": 112,
     "metadata": {},
     "output_type": "execute_result"
    }
   ],
   "source": [
    "[rf_model_dict[model]['train_score'] \n",
    " for model in rf_model_dict]"
   ]
  },
  {
   "cell_type": "code",
   "execution_count": null,
   "id": "f7d534fb-6af1-47eb-9172-07d142e93dfe",
   "metadata": {},
   "outputs": [],
   "source": [
    "for model in rf_model_dict:\n",
    "    rf_model_dict[model]['train_accuracy']"
   ]
  },
  {
   "cell_type": "code",
   "execution_count": 113,
   "id": "f678a88c-2f2d-4ab6-9789-76cbdfad6518",
   "metadata": {},
   "outputs": [],
   "source": [
    "accuracy_df = pd.DataFrame(\n",
    " {\n",
    "     'model':[model for model in rf_model_dict],\n",
    "     'train_accuracy':[rf_model_dict[model]['train_score'] for model in rf_model_dict],\n",
    "     'val_accuracy': [rf_model_dict[model]['val_score'] for model in rf_model_dict],\n",
    "     'diff': [rf_model_dict[model]['val_diff'] for model in rf_model_dict]\n",
    " }\n",
    ")"
   ]
  },
  {
   "cell_type": "code",
   "execution_count": 114,
   "id": "796835fc-608a-4a46-b2b3-5ccfdc0a1037",
   "metadata": {},
   "outputs": [
    {
     "data": {
      "text/html": [
       "<div>\n",
       "<style scoped>\n",
       "    .dataframe tbody tr th:only-of-type {\n",
       "        vertical-align: middle;\n",
       "    }\n",
       "\n",
       "    .dataframe tbody tr th {\n",
       "        vertical-align: top;\n",
       "    }\n",
       "\n",
       "    .dataframe thead th {\n",
       "        text-align: right;\n",
       "    }\n",
       "</style>\n",
       "<table border=\"1\" class=\"dataframe\">\n",
       "  <thead>\n",
       "    <tr style=\"text-align: right;\">\n",
       "      <th></th>\n",
       "      <th>model</th>\n",
       "      <th>train_accuracy</th>\n",
       "      <th>val_accuracy</th>\n",
       "      <th>diff</th>\n",
       "    </tr>\n",
       "  </thead>\n",
       "  <tbody>\n",
       "    <tr>\n",
       "      <th>0</th>\n",
       "      <td>rf_1</td>\n",
       "      <td>0.959839</td>\n",
       "      <td>0.780374</td>\n",
       "      <td>0.179466</td>\n",
       "    </tr>\n",
       "    <tr>\n",
       "      <th>1</th>\n",
       "      <td>rf_2</td>\n",
       "      <td>0.911647</td>\n",
       "      <td>0.808411</td>\n",
       "      <td>0.103235</td>\n",
       "    </tr>\n",
       "    <tr>\n",
       "      <th>2</th>\n",
       "      <td>rf_3</td>\n",
       "      <td>0.887550</td>\n",
       "      <td>0.794393</td>\n",
       "      <td>0.093158</td>\n",
       "    </tr>\n",
       "    <tr>\n",
       "      <th>3</th>\n",
       "      <td>rf_4</td>\n",
       "      <td>0.877510</td>\n",
       "      <td>0.794393</td>\n",
       "      <td>0.083118</td>\n",
       "    </tr>\n",
       "    <tr>\n",
       "      <th>4</th>\n",
       "      <td>rf_5</td>\n",
       "      <td>0.869478</td>\n",
       "      <td>0.780374</td>\n",
       "      <td>0.089104</td>\n",
       "    </tr>\n",
       "    <tr>\n",
       "      <th>5</th>\n",
       "      <td>rf_6</td>\n",
       "      <td>0.859438</td>\n",
       "      <td>0.780374</td>\n",
       "      <td>0.079064</td>\n",
       "    </tr>\n",
       "    <tr>\n",
       "      <th>6</th>\n",
       "      <td>rf_7</td>\n",
       "      <td>0.857430</td>\n",
       "      <td>0.775701</td>\n",
       "      <td>0.081729</td>\n",
       "    </tr>\n",
       "    <tr>\n",
       "      <th>7</th>\n",
       "      <td>rf_8</td>\n",
       "      <td>0.845382</td>\n",
       "      <td>0.780374</td>\n",
       "      <td>0.065008</td>\n",
       "    </tr>\n",
       "    <tr>\n",
       "      <th>8</th>\n",
       "      <td>rf_9</td>\n",
       "      <td>0.807229</td>\n",
       "      <td>0.757009</td>\n",
       "      <td>0.050220</td>\n",
       "    </tr>\n",
       "  </tbody>\n",
       "</table>\n",
       "</div>"
      ],
      "text/plain": [
       "  model  train_accuracy  val_accuracy      diff\n",
       "0  rf_1        0.959839      0.780374  0.179466\n",
       "1  rf_2        0.911647      0.808411  0.103235\n",
       "2  rf_3        0.887550      0.794393  0.093158\n",
       "3  rf_4        0.877510      0.794393  0.083118\n",
       "4  rf_5        0.869478      0.780374  0.089104\n",
       "5  rf_6        0.859438      0.780374  0.079064\n",
       "6  rf_7        0.857430      0.775701  0.081729\n",
       "7  rf_8        0.845382      0.780374  0.065008\n",
       "8  rf_9        0.807229      0.757009  0.050220"
      ]
     },
     "execution_count": 114,
     "metadata": {},
     "output_type": "execute_result"
    }
   ],
   "source": [
    "accuracy_df"
   ]
  },
  {
   "cell_type": "code",
   "execution_count": 115,
   "id": "b19c2e11-389f-46fd-bb5f-6081437275d4",
   "metadata": {},
   "outputs": [
    {
     "data": {
      "text/plain": [
       "<AxesSubplot:title={'center':'performance over depth of RF'}>"
      ]
     },
     "execution_count": 115,
     "metadata": {},
     "output_type": "execute_result"
    },
    {
     "data": {
      "image/png": "[encoded data removed]",
      "text/plain": [
       "<Figure size 1440x1080 with 1 Axes>"
      ]
     },
     "metadata": {
      "needs_background": "light"
     },
     "output_type": "display_data"
    }
   ],
   "source": [
    "accuracy_df.set_index(accuracy_df.index + 1).plot(title='performance over depth of RF', figsize=(20,15))"
   ]
  },
  {
   "cell_type": "markdown",
   "id": "89c9ba0a-be44-4748-8381-db9e88ef3cbb",
   "metadata": {},
   "source": [
    "<li>\n",
    "<p>What are the differences in the evaluation metrics?  Which performs better on your in-sample data?  Why?</p>\n",
    "</li>"
   ]
  },
  {
   "cell_type": "markdown",
   "id": "58ddd12d-5fe6-4122-a63f-c32298b53595",
   "metadata": {},
   "source": [
    "</ol>\n",
    "<p>After making a few models, which one has the best performance (or closest metrics) on both train and validate?</p>"
   ]
  },
  {
   "cell_type": "code",
   "execution_count": 117,
   "id": "f4db93ce-5c81-4324-9c93-444fe36cf03d",
   "metadata": {},
   "outputs": [
    {
     "data": {
      "text/plain": [
       "'rf_2'"
      ]
     },
     "execution_count": 117,
     "metadata": {},
     "output_type": "execute_result"
    }
   ],
   "source": [
    "model_name"
   ]
  },
  {
   "cell_type": "code",
   "execution_count": 118,
   "id": "79da12bb-eeaa-4a79-b033-b8c452695799",
   "metadata": {},
   "outputs": [
    {
     "data": {
      "text/plain": [
       "{'model': RandomForestClassifier(max_depth=9, min_samples_leaf=2),\n",
       " 'train_score': 0.9116465863453815,\n",
       " 'val_score': 0.8084112149532711,\n",
       " 'val_diff': 0.10323537139211048}"
      ]
     },
     "execution_count": 118,
     "metadata": {},
     "output_type": "execute_result"
    }
   ],
   "source": [
    "rf_model_dict['rf_2']"
   ]
  },
  {
   "cell_type": "code",
   "execution_count": 119,
   "id": "96771507-b227-46ca-ba96-24fe89742d0a",
   "metadata": {},
   "outputs": [],
   "source": [
    "# Let's presume this is indeed our best model, since\n",
    "# it tends to perform the best on validate set\n"
   ]
  },
  {
   "cell_type": "code",
   "execution_count": 121,
   "id": "9e168171-18b5-4a74-999c-aebc0a34911b",
   "metadata": {},
   "outputs": [],
   "source": [
    "test_preds = rf_model_dict['rf_2']['model'].predict(\n",
    "    test[X_cols])\n",
    "test_score = rf_model_dict['rf_2']['model'].score(\n",
    "    test[X_cols],test[y_col])"
   ]
  },
  {
   "cell_type": "code",
   "execution_count": 122,
   "id": "c05e6e9b-09c2-41ca-90bf-128e52fe4112",
   "metadata": {},
   "outputs": [
    {
     "data": {
      "text/plain": [
       "0.8212290502793296"
      ]
     },
     "execution_count": 122,
     "metadata": {},
     "output_type": "execute_result"
    }
   ],
   "source": [
    "test_score"
   ]
  },
  {
   "cell_type": "code",
   "execution_count": null,
   "id": "197caf57-99e1-4654-a81c-b998b96ff88f",
   "metadata": {},
   "outputs": [],
   "source": []
  }
 ],
 "metadata": {
  "kernelspec": {
   "display_name": "Python 3",
   "language": "python",
   "name": "python3"
  },
  "language_info": {
   "codemirror_mode": {
    "name": "ipython",
    "version": 3
   },
   "file_extension": ".py",
   "mimetype": "text/x-python",
   "name": "python",
   "nbconvert_exporter": "python",
   "pygments_lexer": "ipython3",
   "version": "3.9.4"
  }
 },
 "nbformat": 4,
 "nbformat_minor": 5
}
