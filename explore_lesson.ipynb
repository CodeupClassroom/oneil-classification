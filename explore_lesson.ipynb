{
 "cells": [
  {
   "cell_type": "markdown",
   "id": "dd37f45a-7f9d-4f7c-b043-0739919c923c",
   "metadata": {},
   "source": [
    "# Explore"
   ]
  },
  {
   "cell_type": "markdown",
   "id": "8596403d-c379-47e0-ac7c-5c1ae31de921",
   "metadata": {},
   "source": [
    "## Where we are living currently:\n",
    "    - We have done so far:\n",
    "    - Planning:\n",
    "        - Establishing what we want to know about our data (in general)\n",
    "    - Acquisition:\n",
    "        - How we extract and examine our data initially\n",
    "        - How we make the process of getting the data speedy, replicable, and reliable\n",
    "    - Prep:\n",
    "        - Examining all the features on a univariate level\n",
    "        - Examining the data for any corruption, redundancy, or incongruence\n",
    "        - executing the changes desired from the observed shortcoming mentioned above\n",
    "        - How we make that process replicable, modular, and reliable"
   ]
  },
  {
   "cell_type": "markdown",
   "id": "0dee56a2-cbbd-455a-8f4c-9978ef5e180d",
   "metadata": {},
   "source": [
    "### Exploration:\n"
   ]
  },
  {
   "cell_type": "markdown",
   "id": "afa2d95e-786a-4e60-ae74-7c9a895f42f9",
   "metadata": {},
   "source": [
    " - What can we say about the data now that we have it in proper working condition?"
   ]
  },
  {
   "cell_type": "markdown",
   "id": "f92f855b-4ecf-4965-9c3c-5d5a9137180e",
   "metadata": {},
   "source": [
    " - Steps in this process:"
   ]
  },
  {
   "cell_type": "markdown",
   "id": "216156d6-685a-4451-bc69-0db8956a005b",
   "metadata": {},
   "source": [
    "1. Univariate Exploration\n",
    " - visualizations (distributive)\n",
    "2. Bivariate Exploration\n",
    " - visualizations (comparative)\n",
    " - statistical testing\n",
    "3. Multivariate Exploration\n",
    " - visualizations(comparative)\n",
    " - statistical testing\n",
    " - clues for feature engineering"
   ]
  },
  {
   "cell_type": "code",
   "execution_count": 1,
   "id": "0b25e78f-3275-4ed9-b83d-6caf7d3a0f3e",
   "metadata": {},
   "outputs": [],
   "source": [
    "# within these steps:\n",
    "# What do we want to know about the data in this context?\n",
    "# What specific question can we ask?\n",
    "# I that specific question something that we can translate\n",
    "# into a stats test/ null+alt hypothesis?\n",
    "# Does this question relate to the outcome that we want to\n",
    "# predict with our data?"
   ]
  },
  {
   "cell_type": "markdown",
   "id": "1a269b7c-962c-4840-9a91-9b642f2282f4",
   "metadata": {},
   "source": [
    "Objective at the end of this phase:\n",
    "- we will have a train, validate, and test set as we did before\n",
    "- we may or may not have the desire to add in new feature engineering or transformative processes to our original training set (which would require a new edit to the preprocessing phase of our prepare script)\n",
    "- we *will* have concrete observations that we have made based on *strictly* the training set within our exploratory data analysis.\n",
    "- The concrete observations that we make will allow us to select the most consequential features and variables to begin assessing with our predictive modeling as we go into the modeling phase of the pipeline"
   ]
  },
  {
   "cell_type": "code",
   "execution_count": 7,
   "id": "696b5666-f08f-47ba-83c5-fdd7eac1d7f0",
   "metadata": {},
   "outputs": [],
   "source": [
    "# tabular data\n",
    "import numpy as np\n",
    "import pandas as pd\n",
    "# visualizations\n",
    "import matplotlib.pyplot as plt\n",
    "import seaborn as sns\n",
    "# stats testing\n",
    "from scipy import stats\n",
    "# custom acquire script\n",
    "from acquire import get_titanic_data\n",
    "# from prepare import prepare_titanic_data\n",
    "import warnings\n",
    "warnings.filterwarnings('ignore')"
   ]
  },
  {
   "cell_type": "code",
   "execution_count": 10,
   "id": "03fb8c8d-0134-41df-a1f2-cdb2e83c4267",
   "metadata": {},
   "outputs": [],
   "source": [
    "from sklearn.impute import SimpleImputer"
   ]
  },
  {
   "cell_type": "code",
   "execution_count": 4,
   "id": "2aa221a9-be18-48f1-9ee3-dd3d018ccb02",
   "metadata": {},
   "outputs": [],
   "source": [
    "from sklearn.model_selection import train_test_split"
   ]
  },
  {
   "cell_type": "code",
   "execution_count": 5,
   "id": "e126e338-3586-4a50-a865-ecbc1e81f5e0",
   "metadata": {
    "tags": []
   },
   "outputs": [],
   "source": [
    "def split_titanic_data(df, target='survived'):\n",
    "    '''\n",
    "    split titanic data will split data based on \n",
    "    the values present in a cleaned version of titanic\n",
    "    that is from clean_titanic\n",
    "    \n",
    "    '''\n",
    "    train_val, test = train_test_split(df,\n",
    "                                   train_size=0.8,\n",
    "                                   random_state=1349,\n",
    "                                   stratify=df[target])\n",
    "    train, validate = train_test_split(train_val,\n",
    "                                   train_size=0.7,\n",
    "                                   random_state=1349,\n",
    "                                   stratify=train_val[target])\n",
    "    return train, validate, test"
   ]
  },
  {
   "cell_type": "code",
   "execution_count": 6,
   "id": "c52ed864-a1aa-495e-9a2d-9e9a728157cf",
   "metadata": {},
   "outputs": [],
   "source": [
    "def clean_titanic(df):\n",
    "    '''\n",
    "    clean titanic will take in a single pandas dataframe\n",
    "    and will proceed to drop redundant columns\n",
    "    and nonuseful information\n",
    "    in addition to addressing null values\n",
    "    and encoding categorical variables\n",
    "    '''\n",
    "    #drop out any redundant, excessively empty, or bad columns\n",
    "    df = df.drop(columns=['passenger_id','embarked','deck','class'])\n",
    "    # impute average age and most common embark_town:\n",
    "    train, validate, test = split_titanic_data(df)\n",
    "    my_age_imputer = SimpleImputer(strategy='mean')\n",
    "    my_age_imputer.fit(train[['age']])\n",
    "    train.loc[:,'age'] = my_age_imputer.transform(train[['age']])\n",
    "    validate.loc[:,'age'] = my_age_imputer.transform(validate[['age']])\n",
    "    test.loc[:,'age'] = my_age_imputer.transform(test[['age']])                                              \n",
    "    my_embark_imputer = SimpleImputer(strategy='most_frequent')\n",
    "    my_embark_imputer.fit(train[['embark_town']])\n",
    "    train.loc[:,'embark_town'] = my_embark_imputer.transform(train[['embark_town']])\n",
    "    validate.loc[:,'embark_town'] = my_embark_imputer.transform(validate[['embark_town']])\n",
    "    test.loc[:,'embark_town'] = my_embark_imputer.transform(test[['embark_town']])\n",
    "    # encode categorical values:                                      \n",
    "    train = pd.concat(\n",
    "    [train, pd.get_dummies(train[['sex', 'embark_town']],\n",
    "                        drop_first=True)], axis=1)\n",
    "    validate = pd.concat(\n",
    "    [validate, pd.get_dummies(validate[['sex', 'embark_town']],\n",
    "                        drop_first=True)], axis=1)\n",
    "    test = pd.concat(\n",
    "    [test, pd.get_dummies(test[['sex', 'embark_town']],\n",
    "                        drop_first=True)], axis=1)                                                  \n",
    "    return train, validate, test"
   ]
  },
  {
   "cell_type": "code",
   "execution_count": 12,
   "id": "ebb1b74e-5234-4a36-9c56-959f300cd640",
   "metadata": {},
   "outputs": [],
   "source": [
    "train, validate, test = clean_titanic(get_titanic_data())"
   ]
  },
  {
   "cell_type": "code",
   "execution_count": 13,
   "id": "050a43e4-9abe-4b7a-909d-755fa3f6e040",
   "metadata": {},
   "outputs": [
    {
     "data": {
      "text/plain": [
       "((498, 12), (214, 12), (179, 12))"
      ]
     },
     "execution_count": 13,
     "metadata": {},
     "output_type": "execute_result"
    }
   ],
   "source": [
    "train.shape, validate.shape, test.shape"
   ]
  },
  {
   "cell_type": "code",
   "execution_count": 14,
   "id": "489239b9-754e-48b0-a242-d1a8def7404c",
   "metadata": {},
   "outputs": [
    {
     "data": {
      "text/html": [
       "<div>\n",
       "<style scoped>\n",
       "    .dataframe tbody tr th:only-of-type {\n",
       "        vertical-align: middle;\n",
       "    }\n",
       "\n",
       "    .dataframe tbody tr th {\n",
       "        vertical-align: top;\n",
       "    }\n",
       "\n",
       "    .dataframe thead th {\n",
       "        text-align: right;\n",
       "    }\n",
       "</style>\n",
       "<table border=\"1\" class=\"dataframe\">\n",
       "  <thead>\n",
       "    <tr style=\"text-align: right;\">\n",
       "      <th></th>\n",
       "      <th>survived</th>\n",
       "      <th>pclass</th>\n",
       "      <th>sex</th>\n",
       "      <th>age</th>\n",
       "      <th>sibsp</th>\n",
       "      <th>parch</th>\n",
       "      <th>fare</th>\n",
       "      <th>embark_town</th>\n",
       "      <th>alone</th>\n",
       "      <th>sex_male</th>\n",
       "      <th>embark_town_Queenstown</th>\n",
       "      <th>embark_town_Southampton</th>\n",
       "    </tr>\n",
       "  </thead>\n",
       "  <tbody>\n",
       "    <tr>\n",
       "      <th>474</th>\n",
       "      <td>0</td>\n",
       "      <td>3</td>\n",
       "      <td>female</td>\n",
       "      <td>22.00000</td>\n",
       "      <td>0</td>\n",
       "      <td>0</td>\n",
       "      <td>9.8375</td>\n",
       "      <td>Southampton</td>\n",
       "      <td>1</td>\n",
       "      <td>0</td>\n",
       "      <td>0</td>\n",
       "      <td>1</td>\n",
       "    </tr>\n",
       "    <tr>\n",
       "      <th>370</th>\n",
       "      <td>1</td>\n",
       "      <td>1</td>\n",
       "      <td>male</td>\n",
       "      <td>25.00000</td>\n",
       "      <td>1</td>\n",
       "      <td>0</td>\n",
       "      <td>55.4417</td>\n",
       "      <td>Cherbourg</td>\n",
       "      <td>0</td>\n",
       "      <td>1</td>\n",
       "      <td>0</td>\n",
       "      <td>0</td>\n",
       "    </tr>\n",
       "    <tr>\n",
       "      <th>573</th>\n",
       "      <td>1</td>\n",
       "      <td>3</td>\n",
       "      <td>female</td>\n",
       "      <td>30.53944</td>\n",
       "      <td>0</td>\n",
       "      <td>0</td>\n",
       "      <td>7.7500</td>\n",
       "      <td>Queenstown</td>\n",
       "      <td>1</td>\n",
       "      <td>0</td>\n",
       "      <td>1</td>\n",
       "      <td>0</td>\n",
       "    </tr>\n",
       "    <tr>\n",
       "      <th>110</th>\n",
       "      <td>0</td>\n",
       "      <td>1</td>\n",
       "      <td>male</td>\n",
       "      <td>47.00000</td>\n",
       "      <td>0</td>\n",
       "      <td>0</td>\n",
       "      <td>52.0000</td>\n",
       "      <td>Southampton</td>\n",
       "      <td>1</td>\n",
       "      <td>1</td>\n",
       "      <td>0</td>\n",
       "      <td>1</td>\n",
       "    </tr>\n",
       "    <tr>\n",
       "      <th>167</th>\n",
       "      <td>0</td>\n",
       "      <td>3</td>\n",
       "      <td>female</td>\n",
       "      <td>45.00000</td>\n",
       "      <td>1</td>\n",
       "      <td>4</td>\n",
       "      <td>27.9000</td>\n",
       "      <td>Southampton</td>\n",
       "      <td>0</td>\n",
       "      <td>0</td>\n",
       "      <td>0</td>\n",
       "      <td>1</td>\n",
       "    </tr>\n",
       "  </tbody>\n",
       "</table>\n",
       "</div>"
      ],
      "text/plain": [
       "     survived  pclass     sex       age  sibsp  parch     fare  embark_town  \\\n",
       "474         0       3  female  22.00000      0      0   9.8375  Southampton   \n",
       "370         1       1    male  25.00000      1      0  55.4417    Cherbourg   \n",
       "573         1       3  female  30.53944      0      0   7.7500   Queenstown   \n",
       "110         0       1    male  47.00000      0      0  52.0000  Southampton   \n",
       "167         0       3  female  45.00000      1      4  27.9000  Southampton   \n",
       "\n",
       "     alone  sex_male  embark_town_Queenstown  embark_town_Southampton  \n",
       "474      1         0                       0                        1  \n",
       "370      0         1                       0                        0  \n",
       "573      1         0                       1                        0  \n",
       "110      1         1                       0                        1  \n",
       "167      0         0                       0                        1  "
      ]
     },
     "execution_count": 14,
     "metadata": {},
     "output_type": "execute_result"
    }
   ],
   "source": [
    "train.head(5)"
   ]
  },
  {
   "cell_type": "code",
   "execution_count": 15,
   "id": "1cb334f3-da0e-4b6c-b343-f3171e71b1d5",
   "metadata": {},
   "outputs": [],
   "source": [
    "# initial questions:\n",
    "# Does class have an impact on survival?\n",
    "# does age have an impact on survival?\n",
    "# Does fare have an imact on survival?\n",
    "# siblings? spouses? let's check out how these things \n",
    "# impact our target"
   ]
  },
  {
   "cell_type": "code",
   "execution_count": 16,
   "id": "aa422a45-9aee-4f16-b5a4-694c6816b4e6",
   "metadata": {},
   "outputs": [],
   "source": [
    "# first questions:\n",
    "# before we start about bivariate or multivariate exploration,\n",
    "# let's examine how the information looks on a univariate basis\n",
    "# once again (we did this briefly in prepare,\n",
    "# but we will do it again here to be mindful about\n",
    "# the distribution of our features\n",
    "# and how that will impact our capacity to do\n",
    "# statistical parametric tests)"
   ]
  },
  {
   "cell_type": "code",
   "execution_count": 17,
   "id": "4cea1293-4ffd-43b2-a270-52ddd2ddcb63",
   "metadata": {},
   "outputs": [
    {
     "data": {
      "text/plain": [
       "Index(['survived', 'pclass', 'sex', 'age', 'sibsp', 'parch', 'fare',\n",
       "       'embark_town', 'alone', 'sex_male', 'embark_town_Queenstown',\n",
       "       'embark_town_Southampton'],\n",
       "      dtype='object')"
      ]
     },
     "execution_count": 17,
     "metadata": {},
     "output_type": "execute_result"
    }
   ],
   "source": [
    "train.columns"
   ]
  },
  {
   "cell_type": "code",
   "execution_count": 19,
   "id": "78414005-85a8-4621-b324-efed0cf1000e",
   "metadata": {},
   "outputs": [],
   "source": [
    "cat_cols, num_cols = [], []\n",
    "for col in train.columns:\n",
    "    if train[col].dtype == 'O':\n",
    "        cat_cols.append(col)\n",
    "    else:\n",
    "        if train[col].nunique() < 10:\n",
    "            cat_cols.append(col)\n",
    "        else:\n",
    "            num_cols.append(col)"
   ]
  },
  {
   "cell_type": "code",
   "execution_count": 20,
   "id": "72eb3455-d5de-4fdb-99d1-5322f30a23e3",
   "metadata": {},
   "outputs": [
    {
     "data": {
      "text/plain": [
       "['survived',\n",
       " 'pclass',\n",
       " 'sex',\n",
       " 'sibsp',\n",
       " 'parch',\n",
       " 'embark_town',\n",
       " 'alone',\n",
       " 'sex_male',\n",
       " 'embark_town_Queenstown',\n",
       " 'embark_town_Southampton']"
      ]
     },
     "execution_count": 20,
     "metadata": {},
     "output_type": "execute_result"
    }
   ],
   "source": [
    "cat_cols"
   ]
  },
  {
   "cell_type": "code",
   "execution_count": 21,
   "id": "dff9be99-f051-4c3d-a2cd-e5dddebb30f8",
   "metadata": {},
   "outputs": [
    {
     "data": {
      "text/plain": [
       "['age', 'fare']"
      ]
     },
     "execution_count": 21,
     "metadata": {},
     "output_type": "execute_result"
    }
   ],
   "source": [
    "num_cols"
   ]
  },
  {
   "cell_type": "code",
   "execution_count": 22,
   "id": "8606b3fc-3757-4bdb-944c-ae7bf848571b",
   "metadata": {},
   "outputs": [],
   "source": [
    "# I perhaps dont want my one-hot encoded variables\n",
    "# inside of what I want to assess in exploration,\n",
    "# theyre really more there for the ML side when we start\n",
    "# using and interacting with algorithms"
   ]
  },
  {
   "cell_type": "code",
   "execution_count": 24,
   "id": "add5e691-dad6-4a6a-a1f7-118326f3bbda",
   "metadata": {},
   "outputs": [
    {
     "data": {
      "text/plain": [
       "['survived',\n",
       " 'pclass',\n",
       " 'sex',\n",
       " 'sibsp',\n",
       " 'parch',\n",
       " 'embark_town',\n",
       " 'alone',\n",
       " 'sex_male']"
      ]
     },
     "execution_count": 24,
     "metadata": {},
     "output_type": "execute_result"
    }
   ],
   "source": [
    "cat_cols[:-2]"
   ]
  },
  {
   "cell_type": "code",
   "execution_count": 25,
   "id": "5e5d665f-10cc-4bf2-af0d-217c9beb61ba",
   "metadata": {},
   "outputs": [],
   "source": [
    "# we'll remove those last two columns\n",
    "cat_cols = cat_cols[:-2]"
   ]
  },
  {
   "cell_type": "code",
   "execution_count": 26,
   "id": "7e30a86a-af49-4751-ad5f-8256b0ba98d3",
   "metadata": {},
   "outputs": [
    {
     "data": {
      "text/plain": [
       "['survived',\n",
       " 'pclass',\n",
       " 'sex',\n",
       " 'sibsp',\n",
       " 'parch',\n",
       " 'embark_town',\n",
       " 'alone',\n",
       " 'sex_male',\n",
       " 'age',\n",
       " 'fare']"
      ]
     },
     "execution_count": 26,
     "metadata": {},
     "output_type": "execute_result"
    }
   ],
   "source": [
    "cat_cols + num_cols"
   ]
  },
  {
   "cell_type": "code",
   "execution_count": 27,
   "id": "dd91652f-89ae-478c-a138-99d85387d509",
   "metadata": {},
   "outputs": [],
   "source": [
    "# wrap up everything into a total explore list\n",
    "explore_cols = cat_cols + num_cols "
   ]
  },
  {
   "cell_type": "code",
   "execution_count": null,
   "id": "5a2d45d8-d412-4368-ba1c-c967c94ef21d",
   "metadata": {},
   "outputs": [],
   "source": [
    "# looping through this stuff and looking at it on \n",
    "# a univariate basis\n",
    "# to get a breakdown of spread/distribution for my\n",
    "# continuous features and proportion for my categoricals"
   ]
  },
  {
   "cell_type": "code",
   "execution_count": 28,
   "id": "31dadba2-00a8-4557-bb5f-ba49eb347052",
   "metadata": {},
   "outputs": [],
   "source": [
    "# univariate for continuous:"
   ]
  },
  {
   "cell_type": "code",
   "execution_count": 41,
   "id": "ec0eda62-5614-4ef5-959b-29ef29808f90",
   "metadata": {},
   "outputs": [
    {
     "data": {
      "image/png": "[encoded data removed]",
      "text/plain": [
       "<Figure size 432x288 with 1 Axes>"
      ]
     },
     "metadata": {
      "needs_background": "light"
     },
     "output_type": "display_data"
    }
   ],
   "source": [
    "plt.hist(train['fare'])\n",
    "plt.show()"
   ]
  },
  {
   "cell_type": "code",
   "execution_count": 42,
   "id": "e52cc8c9-975e-4e55-893e-ea1d8d5b92ff",
   "metadata": {},
   "outputs": [
    {
     "data": {
      "image/png": "[encoded data removed]",
      "text/plain": [
       "<Figure size 432x288 with 1 Axes>"
      ]
     },
     "metadata": {
      "needs_background": "light"
     },
     "output_type": "display_data"
    }
   ],
   "source": [
    "sns.boxplot(data=train, x='fare')\n",
    "plt.show()"
   ]
  },
  {
   "cell_type": "code",
   "execution_count": 43,
   "id": "8ccd549a-9230-4484-97bc-f5bd7cc3c2f8",
   "metadata": {},
   "outputs": [
    {
     "data": {
      "text/plain": [
       "count    498.000000\n",
       "mean      34.345013\n",
       "std       54.116433\n",
       "min        0.000000\n",
       "25%        7.895800\n",
       "50%       14.458300\n",
       "75%       31.275000\n",
       "max      512.329200\n",
       "Name: fare, dtype: float64"
      ]
     },
     "execution_count": 43,
     "metadata": {},
     "output_type": "execute_result"
    }
   ],
   "source": [
    "train['fare'].describe()"
   ]
  },
  {
   "cell_type": "code",
   "execution_count": 44,
   "id": "cf39cc9b-d5cc-4304-b4bd-8c2935ddbefd",
   "metadata": {},
   "outputs": [
    {
     "data": {
      "image/png": "[encoded data removed]",
      "text/plain": [
       "<Figure size 432x288 with 1 Axes>"
      ]
     },
     "metadata": {
      "needs_background": "light"
     },
     "output_type": "display_data"
    }
   ],
   "source": [
    "# what about for categorical?\n",
    "plt.hist(train['sex_male'])\n",
    "plt.show()"
   ]
  },
  {
   "cell_type": "code",
   "execution_count": 45,
   "id": "c4315df1-5c7f-42bb-8c16-240a13a4b1c0",
   "metadata": {},
   "outputs": [
    {
     "data": {
      "text/plain": [
       "<AxesSubplot:xlabel='sex_male', ylabel='count'>"
      ]
     },
     "execution_count": 45,
     "metadata": {},
     "output_type": "execute_result"
    },
    {
     "data": {
      "image/png": "[encoded data removed]",
      "text/plain": [
       "<Figure size 432x288 with 1 Axes>"
      ]
     },
     "metadata": {
      "needs_background": "light"
     },
     "output_type": "display_data"
    }
   ],
   "source": [
    "sns.countplot(data=train, x='sex_male')"
   ]
  },
  {
   "cell_type": "code",
   "execution_count": 46,
   "id": "cff4d21a-4e94-42e9-bbb5-aeb360e6fa96",
   "metadata": {},
   "outputs": [
    {
     "data": {
      "text/html": [
       "<div>\n",
       "<style scoped>\n",
       "    .dataframe tbody tr th:only-of-type {\n",
       "        vertical-align: middle;\n",
       "    }\n",
       "\n",
       "    .dataframe tbody tr th {\n",
       "        vertical-align: top;\n",
       "    }\n",
       "\n",
       "    .dataframe thead th {\n",
       "        text-align: right;\n",
       "    }\n",
       "</style>\n",
       "<table border=\"1\" class=\"dataframe\">\n",
       "  <thead>\n",
       "    <tr style=\"text-align: right;\">\n",
       "      <th></th>\n",
       "      <th>sex_male</th>\n",
       "      <th>sex_male</th>\n",
       "    </tr>\n",
       "  </thead>\n",
       "  <tbody>\n",
       "    <tr>\n",
       "      <th>1</th>\n",
       "      <td>324</td>\n",
       "      <td>0.650602</td>\n",
       "    </tr>\n",
       "    <tr>\n",
       "      <th>0</th>\n",
       "      <td>174</td>\n",
       "      <td>0.349398</td>\n",
       "    </tr>\n",
       "  </tbody>\n",
       "</table>\n",
       "</div>"
      ],
      "text/plain": [
       "   sex_male  sex_male\n",
       "1       324  0.650602\n",
       "0       174  0.349398"
      ]
     },
     "execution_count": 46,
     "metadata": {},
     "output_type": "execute_result"
    }
   ],
   "source": [
    "pd.concat([train['sex_male'].value_counts(),\n",
    "    train['sex_male'].value_counts(normalize=True)],\n",
    "         axis=1)"
   ]
  },
  {
   "cell_type": "code",
   "execution_count": 52,
   "id": "9617808c-30dd-4a6f-b31c-c1ee7028fb53",
   "metadata": {},
   "outputs": [
    {
     "name": "stdout",
     "output_type": "stream",
     "text": [
      "   embark_town_Southampton  embark_town_Southampton\n",
      "1                      360                 0.722892\n",
      "0                      138                 0.277108\n"
     ]
    }
   ],
   "source": [
    "print(pd.concat([train[col].value_counts(),\n",
    "            train[col].value_counts(normalize=True)],\n",
    "                 axis=1))"
   ]
  },
  {
   "cell_type": "code",
   "execution_count": 53,
   "id": "bcdc20f4-8a47-486f-839c-ba82ebd56265",
   "metadata": {},
   "outputs": [
    {
     "name": "stdout",
     "output_type": "stream",
     "text": [
      "Univariate assessment of feature survived:\n"
     ]
    },
    {
     "data": {
      "image/png": "[encoded data removed]",
      "text/plain": [
       "<Figure size 432x288 with 1 Axes>"
      ]
     },
     "metadata": {
      "needs_background": "light"
     },
     "output_type": "display_data"
    },
    {
     "name": "stdout",
     "output_type": "stream",
     "text": [
      "   survived  survived\n",
      "0       307  0.616466\n",
      "1       191  0.383534\n",
      "------------------------------\n",
      "------------------------------\n",
      "Univariate assessment of feature pclass:\n"
     ]
    },
    {
     "data": {
      "image/png": "[encoded data removed]",
      "text/plain": [
       "<Figure size 432x288 with 1 Axes>"
      ]
     },
     "metadata": {
      "needs_background": "light"
     },
     "output_type": "display_data"
    },
    {
     "name": "stdout",
     "output_type": "stream",
     "text": [
      "   pclass    pclass\n",
      "3     277  0.556225\n",
      "1     126  0.253012\n",
      "2      95  0.190763\n",
      "------------------------------\n",
      "------------------------------\n",
      "Univariate assessment of feature sex:\n"
     ]
    },
    {
     "data": {
      "image/png": "[encoded data removed]",
      "text/plain": [
       "<Figure size 432x288 with 1 Axes>"
      ]
     },
     "metadata": {
      "needs_background": "light"
     },
     "output_type": "display_data"
    },
    {
     "name": "stdout",
     "output_type": "stream",
     "text": [
      "        sex       sex\n",
      "male    324  0.650602\n",
      "female  174  0.349398\n",
      "------------------------------\n",
      "------------------------------\n",
      "Univariate assessment of feature sibsp:\n"
     ]
    },
    {
     "data": {
      "image/png": "[encoded data removed]",
      "text/plain": [
       "<Figure size 432x288 with 1 Axes>"
      ]
     },
     "metadata": {
      "needs_background": "light"
     },
     "output_type": "display_data"
    },
    {
     "name": "stdout",
     "output_type": "stream",
     "text": [
      "   sibsp     sibsp\n",
      "0    341  0.684739\n",
      "1    115  0.230924\n",
      "2     12  0.024096\n",
      "3     11  0.022088\n",
      "4     10  0.020080\n",
      "8      6  0.012048\n",
      "5      3  0.006024\n",
      "------------------------------\n",
      "------------------------------\n",
      "Univariate assessment of feature parch:\n"
     ]
    },
    {
     "data": {
      "image/png": "[encoded data removed]",
      "text/plain": [
       "<Figure size 432x288 with 1 Axes>"
      ]
     },
     "metadata": {
      "needs_background": "light"
     },
     "output_type": "display_data"
    },
    {
     "name": "stdout",
     "output_type": "stream",
     "text": [
      "   parch     parch\n",
      "0    383  0.769076\n",
      "1     57  0.114458\n",
      "2     50  0.100402\n",
      "5      4  0.008032\n",
      "3      2  0.004016\n",
      "4      2  0.004016\n",
      "------------------------------\n",
      "------------------------------\n",
      "Univariate assessment of feature embark_town:\n"
     ]
    },
    {
     "data": {
      "image/png": "[encoded data removed]",
      "text/plain": [
       "<Figure size 432x288 with 1 Axes>"
      ]
     },
     "metadata": {
      "needs_background": "light"
     },
     "output_type": "display_data"
    },
    {
     "name": "stdout",
     "output_type": "stream",
     "text": [
      "             embark_town  embark_town\n",
      "Southampton          360     0.722892\n",
      "Cherbourg             91     0.182731\n",
      "Queenstown            47     0.094378\n",
      "------------------------------\n",
      "------------------------------\n",
      "Univariate assessment of feature alone:\n"
     ]
    },
    {
     "data": {
      "image/png": "[encoded data removed]",
      "text/plain": [
       "<Figure size 432x288 with 1 Axes>"
      ]
     },
     "metadata": {
      "needs_background": "light"
     },
     "output_type": "display_data"
    },
    {
     "name": "stdout",
     "output_type": "stream",
     "text": [
      "   alone     alone\n",
      "1    302  0.606426\n",
      "0    196  0.393574\n",
      "------------------------------\n",
      "------------------------------\n",
      "Univariate assessment of feature sex_male:\n"
     ]
    },
    {
     "data": {
      "image/png": "[encoded data removed]",
      "text/plain": [
       "<Figure size 432x288 with 1 Axes>"
      ]
     },
     "metadata": {
      "needs_background": "light"
     },
     "output_type": "display_data"
    },
    {
     "name": "stdout",
     "output_type": "stream",
     "text": [
      "   sex_male  sex_male\n",
      "1       324  0.650602\n",
      "0       174  0.349398\n",
      "------------------------------\n",
      "------------------------------\n",
      "Univariate Feature analysis of feature age:\n"
     ]
    },
    {
     "data": {
      "image/png": "[encoded data removed]",
      "text/plain": [
       "<Figure size 432x288 with 1 Axes>"
      ]
     },
     "metadata": {
      "needs_background": "light"
     },
     "output_type": "display_data"
    },
    {
     "data": {
      "image/png": "[encoded data removed]",
      "text/plain": [
       "<Figure size 432x288 with 1 Axes>"
      ]
     },
     "metadata": {
      "needs_background": "light"
     },
     "output_type": "display_data"
    },
    {
     "name": "stdout",
     "output_type": "stream",
     "text": [
      "------------------------------\n",
      "------------------------------\n",
      "Univariate Feature analysis of feature fare:\n"
     ]
    },
    {
     "data": {
      "image/png": "[encoded data removed]",
      "text/plain": [
       "<Figure size 432x288 with 1 Axes>"
      ]
     },
     "metadata": {
      "needs_background": "light"
     },
     "output_type": "display_data"
    },
    {
     "data": {
      "image/png": "[encoded data removed]",
      "text/plain": [
       "<Figure size 432x288 with 1 Axes>"
      ]
     },
     "metadata": {
      "needs_background": "light"
     },
     "output_type": "display_data"
    },
    {
     "name": "stdout",
     "output_type": "stream",
     "text": [
      "------------------------------\n",
      "------------------------------\n"
     ]
    }
   ],
   "source": [
    "for col in explore_cols:\n",
    "    if col in cat_cols:\n",
    "        print(f'Univariate assessment of feature {col}:')\n",
    "        sns.countplot(data=train, x=col)\n",
    "        plt.show()\n",
    "        print(\n",
    "            pd.concat([train[col].value_counts(),\n",
    "            train[col].value_counts(normalize=True)],\n",
    "                 axis=1))\n",
    "    else:\n",
    "        print(f'Univariate Feature analysis of feature {col}:')\n",
    "        plt.hist(train[col])\n",
    "        plt.show()\n",
    "        sns.boxplot(data=train, x=col)\n",
    "        plt.show()\n",
    "        train[col].describe()\n",
    "    print('------------------------------')\n",
    "    print('------------------------------')"
   ]
  },
  {
   "cell_type": "code",
   "execution_count": 55,
   "id": "ed1b5f95-7517-40ca-9087-5ed08acfb524",
   "metadata": {},
   "outputs": [],
   "source": [
    "# Initial takeaways on univariate analysis:\n",
    "# We have a fairly normal dist. on age\n",
    "# likely enough normality to assess age with a parametric test\n",
    "# maybe not so much on fare, which seems heavily skewed\n",
    "# we may want to address the fare outliers on a further run after mvp\n",
    "# we may want to on a second run combine some of the categories\n",
    "# like sibsp or parch in order to reduce the number\n",
    "# of categories that we have encoded presently\n",
    "# these ones have some values with low n counts\n",
    "# that will likely not prove exceptionally generalizable\n",
    "# due to their low numbers"
   ]
  },
  {
   "cell_type": "code",
   "execution_count": 56,
   "id": "9deb73e5-7cba-460a-b2a8-3ffb685216db",
   "metadata": {},
   "outputs": [],
   "source": [
    "# bivariate and multivariate analysis:"
   ]
  },
  {
   "cell_type": "code",
   "execution_count": 57,
   "id": "859b8a27-8b3f-4194-b01c-d60d081de302",
   "metadata": {},
   "outputs": [],
   "source": [
    "# think about what type of visualizations we\n",
    "# want to create for the type of conclusions\n",
    "# that we wish to draw:\n",
    "# we know that our target in this analytical instance\n",
    "# is survival on the titanic,\n",
    "# and this is going to frame a lot of the analysis\n",
    "# we do on interactions with said target"
   ]
  },
  {
   "cell_type": "code",
   "execution_count": 61,
   "id": "4d865074-e92c-4533-bfe3-a7094be25376",
   "metadata": {},
   "outputs": [
    {
     "data": {
      "image/png": "[encoded data removed]",
      "text/plain": [
       "<Figure size 432x288 with 1 Axes>"
      ]
     },
     "metadata": {
      "needs_background": "light"
     },
     "output_type": "display_data"
    },
    {
     "data": {
      "image/png": "[encoded data removed]",
      "text/plain": [
       "<Figure size 432x288 with 1 Axes>"
      ]
     },
     "metadata": {
      "needs_background": "light"
     },
     "output_type": "display_data"
    },
    {
     "data": {
      "image/png": "[encoded data removed]",
      "text/plain": [
       "<Figure size 432x288 with 1 Axes>"
      ]
     },
     "metadata": {
      "needs_background": "light"
     },
     "output_type": "display_data"
    },
    {
     "data": {
      "image/png": "[encoded data removed]",
      "text/plain": [
       "<Figure size 432x288 with 1 Axes>"
      ]
     },
     "metadata": {
      "needs_background": "light"
     },
     "output_type": "display_data"
    },
    {
     "data": {
      "image/png": "[encoded data removed]",
      "text/plain": [
       "<Figure size 432x288 with 1 Axes>"
      ]
     },
     "metadata": {
      "needs_background": "light"
     },
     "output_type": "display_data"
    },
    {
     "data": {
      "image/png": "[encoded data removed]",
      "text/plain": [
       "<Figure size 432x288 with 1 Axes>"
      ]
     },
     "metadata": {
      "needs_background": "light"
     },
     "output_type": "display_data"
    },
    {
     "data": {
      "image/png": "[encoded data removed]",
      "text/plain": [
       "<Figure size 432x288 with 1 Axes>"
      ]
     },
     "metadata": {
      "needs_background": "light"
     },
     "output_type": "display_data"
    }
   ],
   "source": [
    "for col in cat_cols:\n",
    "    if col != 'survived':\n",
    "        sns.barplot(data=train,\n",
    "                    x=col,\n",
    "                    y = 'survived',\n",
    "                   ci=False)\n",
    "        plt.title(f'Surivival of Passengers based on {col}')\n",
    "        plt.show()"
   ]
  },
  {
   "cell_type": "code",
   "execution_count": 62,
   "id": "3b874269-b97a-4566-8ace-27ee1c2088c9",
   "metadata": {},
   "outputs": [],
   "source": [
    "# takeaways here:\n",
    "# it looks like first and second class passengers had\n",
    "# a better shot at survivival, as did women\n",
    "# the most survivors had a 1 in the sibsp category, so perhaps women that survived\n",
    "# were taking their husbands, or siblings with them\n",
    "# parents and children were a bit more uniform, so\n",
    "# it may not have been as impactful for entire families to exit"
   ]
  },
  {
   "cell_type": "code",
   "execution_count": 66,
   "id": "61d74f81-3d7c-42f9-a4ee-2a2d7b77e063",
   "metadata": {},
   "outputs": [],
   "source": [
    "def bin_vals(val):\n",
    "    if val == 0:\n",
    "        return 0\n",
    "    elif val == 1:\n",
    "        return 1\n",
    "    else:\n",
    "        return 2"
   ]
  },
  {
   "cell_type": "code",
   "execution_count": 68,
   "id": "c8775021-4b11-4b44-b763-c4d831427fd2",
   "metadata": {},
   "outputs": [
    {
     "data": {
      "text/plain": [
       "0    341\n",
       "1    115\n",
       "2     42\n",
       "Name: sibsp, dtype: int64"
      ]
     },
     "execution_count": 68,
     "metadata": {},
     "output_type": "execute_result"
    }
   ],
   "source": [
    "train['sibsp'].apply(bin_vals).value_counts()"
   ]
  },
  {
   "cell_type": "code",
   "execution_count": 69,
   "id": "d797c0b2-6788-4f32-870d-25a40175cfda",
   "metadata": {},
   "outputs": [],
   "source": [
    "train['sibsp_custom'] = train['sibsp'].apply(bin_vals)"
   ]
  },
  {
   "cell_type": "code",
   "execution_count": 63,
   "id": "440142e5-cd09-463d-8dbc-93d7b22ed71c",
   "metadata": {},
   "outputs": [],
   "source": [
    "# Is survival (a categorical variable)\n",
    "# Different across sibsp values(categorical)\n",
    "# categorical vs a categorical:\n",
    "# chi-squared"
   ]
  },
  {
   "cell_type": "markdown",
   "id": "68b8eb7e-7645-4c78-a5f3-bcb995734896",
   "metadata": {},
   "source": [
    "H$_0$: There is no proportional difference in the survival of passengers based on the category of sibsp\n",
    "\n",
    "H$_a$: There is a proporportional difference in the distribution of sibsp to survival"
   ]
  },
  {
   "cell_type": "code",
   "execution_count": null,
   "id": "4cd08fe7-449c-46e0-9fc7-fb1b8cfb2297",
   "metadata": {},
   "outputs": [],
   "source": [
    "# CL: 0.95\n",
    "α= 0.05"
   ]
  },
  {
   "cell_type": "code",
   "execution_count": 70,
   "id": "3a3da4c0-ad0e-49ad-b4f4-8c94c6a731c0",
   "metadata": {},
   "outputs": [],
   "source": [
    "observed = pd.crosstab(train['sibsp_custom'], train['survived'])\n",
    "chi2, p, _, hypothetical = stats.chi2_contingency(observed)"
   ]
  },
  {
   "cell_type": "code",
   "execution_count": 71,
   "id": "6b971f66-8b72-4921-b58f-64d91eacdbda",
   "metadata": {},
   "outputs": [
    {
     "data": {
      "text/plain": [
       "49.41469255838372"
      ]
     },
     "execution_count": 71,
     "metadata": {},
     "output_type": "execute_result"
    }
   ],
   "source": [
    "chi2"
   ]
  },
  {
   "cell_type": "code",
   "execution_count": 72,
   "id": "0d568214-fe43-48e7-a757-98e22789e00a",
   "metadata": {},
   "outputs": [
    {
     "data": {
      "text/plain": [
       "1.860954901226051e-11"
      ]
     },
     "execution_count": 72,
     "metadata": {},
     "output_type": "execute_result"
    }
   ],
   "source": [
    "p"
   ]
  },
  {
   "cell_type": "code",
   "execution_count": null,
   "id": "f63bc1f4-8499-4f58-b6b2-8c9134934c5c",
   "metadata": {},
   "outputs": [],
   "source": [
    "# we can reject the null hypothesis and suggest there is a different proportional difference\n",
    "# in the groups of sibsp passengers"
   ]
  },
  {
   "cell_type": "code",
   "execution_count": null,
   "id": "be6e60c3-1b17-4590-a31c-9ced0fae9960",
   "metadata": {},
   "outputs": [],
   "source": [
    "# what if we interpret sibsp as a continuous value?"
   ]
  },
  {
   "cell_type": "code",
   "execution_count": 65,
   "id": "4d0ed1a0-fa3b-4b95-a286-35bfcbc9b0ff",
   "metadata": {},
   "outputs": [
    {
     "data": {
      "text/plain": [
       "0    341\n",
       "1    115\n",
       "2     12\n",
       "3     11\n",
       "4     10\n",
       "8      6\n",
       "5      3\n",
       "Name: sibsp, dtype: int64"
      ]
     },
     "execution_count": 65,
     "metadata": {},
     "output_type": "execute_result"
    }
   ],
   "source": [
    "train['sibsp'].value_counts()"
   ]
  },
  {
   "cell_type": "code",
   "execution_count": 75,
   "id": "a223a6cf-f2d4-4691-a647-24c86d404154",
   "metadata": {},
   "outputs": [],
   "source": [
    "survived_sibsp = train[train.survived==1].sibsp\n",
    "died_sibsp = train[train.survived==0].sibsp"
   ]
  },
  {
   "cell_type": "code",
   "execution_count": 77,
   "id": "44d0bf52-a49c-4318-ad45-db4abbc1874f",
   "metadata": {},
   "outputs": [
    {
     "data": {
      "text/plain": [
       "0.8510383973415218"
      ]
     },
     "execution_count": 77,
     "metadata": {},
     "output_type": "execute_result"
    }
   ],
   "source": [
    "# h0: there is no difference in the mean of sibsp between those \n",
    "# that survived and those that did not survive\n",
    "# ha: there is a difference in the mean of sibsp between those \n",
    "# that survived and those that did not survive\n",
    "t_stat, p = stats.ttest_ind(survived_sibsp, died_sibsp)\n",
    "# we fail to reject the null hypothesis here\n",
    "p"
   ]
  },
  {
   "cell_type": "code",
   "execution_count": 78,
   "id": "708effd7-c023-48a6-b50c-eee660e50599",
   "metadata": {},
   "outputs": [],
   "source": [
    "# following through with this process, we will\n",
    "# examine the differences in these features against survival,\n",
    "# using statistical testing to back up the conslusions\n",
    "# that we draw visually from the information"
   ]
  },
  {
   "cell_type": "code",
   "execution_count": 79,
   "id": "8ddce200-8bd4-478c-bb29-1cd696e8ce98",
   "metadata": {},
   "outputs": [],
   "source": [
    "# we will continue forward and make notes of which are most consequential"
   ]
  },
  {
   "cell_type": "code",
   "execution_count": 83,
   "id": "1c70c34f-235e-43a2-8155-fcf10e5c9101",
   "metadata": {},
   "outputs": [
    {
     "data": {
      "text/plain": [
       "<AxesSubplot:xlabel='survived', ylabel='fare'>"
      ]
     },
     "execution_count": 83,
     "metadata": {},
     "output_type": "execute_result"
    },
    {
     "data": {
      "image/png": "[encoded data removed]",
      "text/plain": [
       "<Figure size 432x288 with 1 Axes>"
      ]
     },
     "metadata": {
      "needs_background": "light"
     },
     "output_type": "display_data"
    }
   ],
   "source": [
    "# for the continuous variables:\n",
    "sns.boxplot(data=train, y='fare',x='survived')"
   ]
  },
  {
   "cell_type": "code",
   "execution_count": 84,
   "id": "70c508b8-71e6-443d-8842-fa69658ef3c3",
   "metadata": {},
   "outputs": [
    {
     "data": {
      "text/plain": [
       "<AxesSubplot:xlabel='survived', ylabel='fare'>"
      ]
     },
     "execution_count": 84,
     "metadata": {},
     "output_type": "execute_result"
    },
    {
     "data": {
      "image/png": "[encoded data removed]",
      "text/plain": [
       "<Figure size 432x288 with 1 Axes>"
      ]
     },
     "metadata": {
      "needs_background": "light"
     },
     "output_type": "display_data"
    }
   ],
   "source": [
    "sns.swarmplot(data=train, x='survived', y='fare')"
   ]
  },
  {
   "cell_type": "code",
   "execution_count": 85,
   "id": "eb527f93-a4a4-419a-b931-f67fe1d9d736",
   "metadata": {},
   "outputs": [],
   "source": [
    "# fare is unquestionably a continuous variable\n",
    "# let's do a quick t-test to establish that this is likely\n",
    "# not one of our biggest drivers"
   ]
  },
  {
   "cell_type": "markdown",
   "id": "6c544f60-a549-4696-8052-fe6cb42c9800",
   "metadata": {},
   "source": [
    "H$_0$: There is no difference in the means of fare for survived and non survived passengers\n",
    "\n",
    "H$_a$: There is a difference in the means of fare for survived and non survived passengers"
   ]
  },
  {
   "cell_type": "code",
   "execution_count": 89,
   "id": "e9ddef33-559f-42f1-8d2c-5c6bc748c5c5",
   "metadata": {},
   "outputs": [
    {
     "data": {
      "text/plain": [
       "(array([404.,  57.,  20.,   2.,   9.,   4.,   0.,   0.,   0.,   2.]),\n",
       " array([  0.     ,  51.23292, 102.46584, 153.69876, 204.93168, 256.1646 ,\n",
       "        307.39752, 358.63044, 409.86336, 461.09628, 512.3292 ]),\n",
       " <BarContainer object of 10 artists>)"
      ]
     },
     "execution_count": 89,
     "metadata": {},
     "output_type": "execute_result"
    },
    {
     "data": {
      "image/png": "[encoded data removed]",
      "text/plain": [
       "<Figure size 432x288 with 1 Axes>"
      ]
     },
     "metadata": {
      "needs_background": "light"
     },
     "output_type": "display_data"
    }
   ],
   "source": [
    "plt.hist(train['fare'])"
   ]
  },
  {
   "cell_type": "code",
   "execution_count": 86,
   "id": "5314ccab-5b68-4119-ae5c-499d11ec9bd8",
   "metadata": {},
   "outputs": [],
   "source": [
    "survived_fares = train[train.survived==1].fare\n",
    "died_fares = train[train.survived==0].fare"
   ]
  },
  {
   "cell_type": "code",
   "execution_count": null,
   "id": "339b7aef-ec0b-45b3-85e5-698544f33d8e",
   "metadata": {},
   "outputs": [],
   "source": [
    "# fare is less normal than age,\n",
    "# maybe we want to go for a non parametric test\n",
    "# stats.mannwhitneyu("
   ]
  },
  {
   "cell_type": "code",
   "execution_count": 91,
   "id": "f047ed5a-18a0-4388-86a9-d2cf4fd9e591",
   "metadata": {},
   "outputs": [],
   "source": [
    "α = 0.05"
   ]
  },
  {
   "cell_type": "code",
   "execution_count": 92,
   "id": "434c3e3f-9c79-4402-bafe-6ae082eac33e",
   "metadata": {},
   "outputs": [
    {
     "name": "stdout",
     "output_type": "stream",
     "text": [
      "we can reject the null hypothesis!\n",
      "p value: 1.3383707559824992e-17\n"
     ]
    }
   ],
   "source": [
    "stat, p = stats.mannwhitneyu(survived_fares, died_fares)\n",
    "if p < α:\n",
    "    print('we can reject the null hypothesis!')\n",
    "    print(f'p value: {p}')\n",
    "else:\n",
    "    print('we fail to reject the null hypothesis!')\n",
    "    print(f'p value: {p}')"
   ]
  },
  {
   "cell_type": "code",
   "execution_count": 93,
   "id": "9022b6a8-df33-4a65-a4ce-2cd6ed2fa2fd",
   "metadata": {},
   "outputs": [],
   "source": [
    "# we can actually say that there is a rejection that \n",
    "# there is not an equivalent mean here!\n",
    "# There is however not a ton of visual evidence to say\n",
    "# that this is going to be an especially significant driver\n",
    "# of the target of surivival based on\n",
    "# what we saw with our box and swarm plots"
   ]
  },
  {
   "cell_type": "markdown",
   "id": "80a0c665-97e7-400d-82b0-9a3c7c9b00f9",
   "metadata": {
    "tags": []
   },
   "source": [
    "### Multivariate analysis"
   ]
  },
  {
   "cell_type": "code",
   "execution_count": 95,
   "id": "468b87bd-ef1b-41ca-a35e-b10e33a9068d",
   "metadata": {},
   "outputs": [
    {
     "data": {
      "text/plain": [
       "<AxesSubplot:xlabel='age', ylabel='sex'>"
      ]
     },
     "execution_count": 95,
     "metadata": {},
     "output_type": "execute_result"
    },
    {
     "data": {
      "image/png": "[encoded data removed]",
      "text/plain": [
       "<Figure size 432x288 with 1 Axes>"
      ]
     },
     "metadata": {
      "needs_background": "light"
     },
     "output_type": "display_data"
    }
   ],
   "source": [
    "sns.swarmplot(data=train,\n",
    "              x= 'age',\n",
    "              y= 'sex',\n",
    "              hue='survived')"
   ]
  },
  {
   "cell_type": "code",
   "execution_count": 97,
   "id": "0c73a4c6-e281-4ff8-a599-e3544327c3ef",
   "metadata": {},
   "outputs": [
    {
     "data": {
      "text/plain": [
       "<AxesSubplot:xlabel='age', ylabel='sex'>"
      ]
     },
     "execution_count": 97,
     "metadata": {},
     "output_type": "execute_result"
    },
    {
     "data": {
      "image/png": "[encoded data removed]",
      "text/plain": [
       "<Figure size 432x288 with 1 Axes>"
      ]
     },
     "metadata": {
      "needs_background": "light"
     },
     "output_type": "display_data"
    }
   ],
   "source": [
    "sns.boxplot(data=train,\n",
    "              x= 'age',\n",
    "              y= 'sex',\n",
    "              hue='survived')"
   ]
  },
  {
   "cell_type": "code",
   "execution_count": 96,
   "id": "b7da7ed7-4370-4ca5-90fe-f1901c070894",
   "metadata": {},
   "outputs": [
    {
     "data": {
      "text/plain": [
       "male      324\n",
       "female    174\n",
       "Name: sex, dtype: int64"
      ]
     },
     "execution_count": 96,
     "metadata": {},
     "output_type": "execute_result"
    }
   ],
   "source": [
    "train.sex.value_counts()"
   ]
  },
  {
   "cell_type": "code",
   "execution_count": 98,
   "id": "e28e5e67-3c42-4117-a35c-f0ece16ed4e0",
   "metadata": {},
   "outputs": [],
   "source": [
    "# initial visual takeways:\n",
    "# it appears that there is a difference in age of women that surived versus\n",
    "# women that perished"
   ]
  },
  {
   "cell_type": "markdown",
   "id": "780cafe0-e9bc-4f27-aecf-772e63ae4a35",
   "metadata": {},
   "source": [
    "older_women vs younger women:\n",
    "is there a difference in the mean age of women that\n",
    "surived versus women that did not survive:"
   ]
  },
  {
   "cell_type": "markdown",
   "id": "3270d8a7-3bf0-40f5-9f7b-2ad40bce4b3b",
   "metadata": {},
   "source": [
    "H$_0$: The average age of women that surived is less than or equal the age of women that did not survive\n",
    "\n",
    "H$_a$: The average age of women that survived is greater than the average age of women that did not survive"
   ]
  },
  {
   "cell_type": "code",
   "execution_count": 100,
   "id": "f106d085-e1f4-4637-abbb-268ab1757abd",
   "metadata": {},
   "outputs": [
    {
     "data": {
      "text/plain": [
       "array(['female', 'male'], dtype=object)"
      ]
     },
     "execution_count": 100,
     "metadata": {},
     "output_type": "execute_result"
    }
   ],
   "source": [
    "train.sex.unique()"
   ]
  },
  {
   "cell_type": "code",
   "execution_count": 102,
   "id": "89ace6b4-e962-46af-961b-96ac4d0480d1",
   "metadata": {},
   "outputs": [
    {
     "data": {
      "text/plain": [
       "573    30.53944\n",
       "540    36.00000\n",
       "393    23.00000\n",
       "184     4.00000\n",
       "496    54.00000\n",
       "         ...   \n",
       "309    30.00000\n",
       "483    63.00000\n",
       "651    18.00000\n",
       "25     38.00000\n",
       "727    30.53944\n",
       "Name: age, Length: 131, dtype: float64"
      ]
     },
     "execution_count": 102,
     "metadata": {},
     "output_type": "execute_result"
    }
   ],
   "source": [
    "train[(train.sex == 'female') & (train.survived == 1)].age"
   ]
  },
  {
   "cell_type": "code",
   "execution_count": 103,
   "id": "0283ff40-09e3-4c32-96aa-379f67b9c75c",
   "metadata": {},
   "outputs": [],
   "source": [
    "alive_girls_age = train[(train.sex == 'female') & (train.survived == 1)].age\n",
    "dead_girls_age = train[(train.sex == 'female') & (train.survived == 0)].age"
   ]
  },
  {
   "cell_type": "code",
   "execution_count": 104,
   "id": "c74f17bb-1ba3-4f4c-b38e-9af817c748d1",
   "metadata": {},
   "outputs": [
    {
     "data": {
      "text/plain": [
       "LeveneResult(statistic=0.0021039552347499233, pvalue=0.9634679605397489)"
      ]
     },
     "execution_count": 104,
     "metadata": {},
     "output_type": "execute_result"
    }
   ],
   "source": [
    "# parameters:\n",
    "# age looks pretty normal\n",
    "# levene test for equal variance:\n",
    "# h0: women that survived's age has equal variance to women \n",
    "# that did not survive age\n",
    "# ha: women that survived age has inequal variance to women \n",
    "# that did not survive\n",
    "stats.levene(alive_girls_age, dead_girls_age)"
   ]
  },
  {
   "cell_type": "code",
   "execution_count": 105,
   "id": "109999a5-c430-4b93-b669-2bb60f7bf703",
   "metadata": {},
   "outputs": [],
   "source": [
    "# high p value, fail to reject null, presume equal variance"
   ]
  },
  {
   "cell_type": "code",
   "execution_count": 106,
   "id": "0c1e24f6-3fc8-4cad-b3e9-75d45d5a71de",
   "metadata": {},
   "outputs": [
    {
     "name": "stdout",
     "output_type": "stream",
     "text": [
      "we fail to reject the null hypothesis\n"
     ]
    }
   ],
   "source": [
    "t_stat, p = stats.ttest_ind(alive_girls_age, dead_girls_age)\n",
    "if (t_stat > 0) and (p < α):\n",
    "    print('we can reject the null hypothesis')\n",
    "else:\n",
    "    print('we fail to reject the null hypothesis')"
   ]
  },
  {
   "cell_type": "code",
   "execution_count": 107,
   "id": "b456d756-b30c-4bde-a062-bf213cb3b4de",
   "metadata": {},
   "outputs": [
    {
     "data": {
      "text/plain": [
       "0.13636812881149415"
      ]
     },
     "execution_count": 107,
     "metadata": {},
     "output_type": "execute_result"
    }
   ],
   "source": [
    "p"
   ]
  },
  {
   "cell_type": "code",
   "execution_count": null,
   "id": "220d8f53-4da5-4a8f-9e97-b56968088e93",
   "metadata": {},
   "outputs": [],
   "source": []
  }
 ],
 "metadata": {
  "kernelspec": {
   "display_name": "Python 3",
   "language": "python",
   "name": "python3"
  },
  "language_info": {
   "codemirror_mode": {
    "name": "ipython",
    "version": 3
   },
   "file_extension": ".py",
   "mimetype": "text/x-python",
   "name": "python",
   "nbconvert_exporter": "python",
   "pygments_lexer": "ipython3",
   "version": "3.9.4"
  }
 },
 "nbformat": 4,
 "nbformat_minor": 5
}
