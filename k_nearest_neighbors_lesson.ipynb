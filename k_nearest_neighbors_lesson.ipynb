{
 "cells": [
  {
   "cell_type": "markdown",
   "id": "9163bb59",
   "metadata": {},
   "source": [
    "# KNN\n",
    "\n",
    "### What is KNN?\n",
    "\n",
    "- Supervised algorithm\n",
    "- Makes predictions based on how close a new data point is to known data points\n",
    "- Lazy (computation is performed when the model is implemented)\n",
    "- Sensitive to scaling\n",
    "\n",
    "Link: [KNN Diagram](https://cambridgecoding.files.wordpress.com/2016/01/knn2.jpg)\n",
    "\n",
    "#### Pros:\n",
    "\n",
    "1. Simple to implement \n",
    "2. Performs calculations \"just in time\"\n",
    "3. Data is easy to keep up to date to keep predictions accurate\n",
    "\n",
    "#### Cons:\n",
    "\n",
    "1. Need to determine how many neighbors is optimal\n",
    "2. Computation cost is high (has to calculate every single distance to every feature)\n",
    "3. Data must be stored and accessible to the model\n",
    "4. Complexity arises with higher dimensions (multiple features)"
   ]
  },
  {
   "cell_type": "code",
   "execution_count": 38,
   "id": "8427cf99",
   "metadata": {},
   "outputs": [],
   "source": [
    "# DS Libraries\n",
    "import pandas as pd\n",
    "import numpy as np\n",
    "\n",
    "# Data visualization\n",
    "import matplotlib.pyplot as plt\n",
    "import seaborn as sns\n",
    "\n",
    "# knn submodules from scikit learn\n",
    "from sklearn.model_selection import train_test_split\n",
    "from sklearn.neighbors import KNeighborsClassifier\n",
    "from sklearn.metrics import classification_report, confusion_matrix, plot_confusion_matrix\n",
    "\n",
    "# Data Acquisition\n",
    "from pydataset import data"
   ]
  },
  {
   "cell_type": "markdown",
   "id": "eb0c04b9",
   "metadata": {},
   "source": [
    "## Acquire data\n",
    "\n",
    "- Use the `iris` dataset from pydata"
   ]
  },
  {
   "cell_type": "code",
   "execution_count": 48,
   "id": "2bbd9558-fa50-4243-9649-fe0d7df660f0",
   "metadata": {},
   "outputs": [],
   "source": [
    "df = data('iris')\n",
    "\n",
    "## Change column names\n",
    "df.columns = [col.lower().replace('.', '_') for col in df]\n"
   ]
  },
  {
   "cell_type": "markdown",
   "id": "4b62257b",
   "metadata": {},
   "source": [
    "#### Note: Inspect the units of the features\n",
    "\n",
    "Scaling is important for an algorithm like knn"
   ]
  },
  {
   "cell_type": "markdown",
   "id": "12ceb089",
   "metadata": {},
   "source": [
    "## Prepare/Preprocessing"
   ]
  },
  {
   "cell_type": "markdown",
   "id": "82cfa8a6",
   "metadata": {},
   "source": [
    "[Train Test Split Documentation](https://scikit-learn.org/stable/modules/generated/sklearn.model_selection.train_test_split.html)"
   ]
  },
  {
   "cell_type": "code",
   "execution_count": null,
   "id": "7431d0c4",
   "metadata": {},
   "outputs": [],
   "source": []
  },
  {
   "cell_type": "code",
   "execution_count": null,
   "id": "1e8be468",
   "metadata": {},
   "outputs": [],
   "source": []
  },
  {
   "cell_type": "markdown",
   "id": "07e4bcac",
   "metadata": {},
   "source": [
    "### 1. Split into train, validate, test\n"
   ]
  },
  {
   "cell_type": "code",
   "execution_count": 44,
   "id": "36851e68-f47c-442d-8db9-302800a6d1cc",
   "metadata": {},
   "outputs": [],
   "source": [
    "train, test = train_test_split(df, \n",
    "                               stratify=df['species'], \n",
    "                               train_size=0.8, \n",
    "                               random_state=1729)\n",
    "\n",
    "train, validate = train_test_split(train, \n",
    "                                   stratify=train['species'], \n",
    "                                   train_size=0.7, \n",
    "                                   random_state=1729)"
   ]
  },
  {
   "cell_type": "markdown",
   "id": "1ff7158c",
   "metadata": {},
   "source": [
    "### 2. Spliting based on features"
   ]
  },
  {
   "cell_type": "markdown",
   "id": "09f2212f",
   "metadata": {},
   "source": [
    "Create X and Y columns where: \n",
    "\n",
    "   - X is the feature\n",
    "   \n",
    "   - Y is the target"
   ]
  },
  {
   "cell_type": "code",
   "execution_count": null,
   "id": "c7bbf473",
   "metadata": {},
   "outputs": [],
   "source": []
  },
  {
   "cell_type": "code",
   "execution_count": null,
   "id": "a2bf9171-13b2-49dd-89d6-d41a5dcc5d84",
   "metadata": {},
   "outputs": [],
   "source": []
  },
  {
   "cell_type": "code",
   "execution_count": null,
   "id": "ce9654ba-019a-4d1b-b7bb-2dc040d7c9ac",
   "metadata": {},
   "outputs": [],
   "source": []
  },
  {
   "cell_type": "markdown",
   "id": "fa2cc75c",
   "metadata": {},
   "source": [
    "## k-nearest neighbors model\n",
    "\n",
    "\n",
    "[Documentation](https://scikit-learn.org/stable/modules/generated/sklearn.neighbors.NearestNeighbors.html)\n"
   ]
  },
  {
   "cell_type": "markdown",
   "id": "d165a2cb",
   "metadata": {},
   "source": [
    "\n",
    "#### Create KNN Object"
   ]
  },
  {
   "cell_type": "code",
   "execution_count": null,
   "id": "d5105e76-6442-4622-b3ea-cb127b795601",
   "metadata": {},
   "outputs": [],
   "source": []
  },
  {
   "cell_type": "code",
   "execution_count": 24,
   "id": "bf08ef82",
   "metadata": {},
   "outputs": [],
   "source": []
  },
  {
   "cell_type": "markdown",
   "id": "ec61bcf1",
   "metadata": {},
   "source": [
    "#### Fit the Model to the Training Data"
   ]
  },
  {
   "cell_type": "code",
   "execution_count": null,
   "id": "2d5354fb",
   "metadata": {},
   "outputs": [],
   "source": []
  },
  {
   "cell_type": "markdown",
   "id": "a8dfbcc8",
   "metadata": {},
   "source": [
    "#### Make Predictions"
   ]
  },
  {
   "cell_type": "code",
   "execution_count": null,
   "id": "d76be200",
   "metadata": {},
   "outputs": [],
   "source": []
  },
  {
   "cell_type": "code",
   "execution_count": null,
   "id": "76fc4c73",
   "metadata": {},
   "outputs": [],
   "source": []
  },
  {
   "cell_type": "markdown",
   "id": "ec4c70e5",
   "metadata": {},
   "source": [
    "#### Estimate Probability of the Prediction"
   ]
  },
  {
   "cell_type": "code",
   "execution_count": null,
   "id": "e7d1fee1",
   "metadata": {},
   "outputs": [],
   "source": []
  },
  {
   "cell_type": "code",
   "execution_count": null,
   "id": "6206c764-c490-42b7-9d49-cf06e14971c0",
   "metadata": {},
   "outputs": [],
   "source": []
  },
  {
   "cell_type": "markdown",
   "id": "913df819",
   "metadata": {},
   "source": [
    "## Evaluate Model"
   ]
  },
  {
   "cell_type": "markdown",
   "id": "95e3bdf1",
   "metadata": {},
   "source": [
    "#### Compute the Accuracy"
   ]
  },
  {
   "cell_type": "code",
   "execution_count": 31,
   "id": "b1b7c632",
   "metadata": {},
   "outputs": [],
   "source": []
  },
  {
   "cell_type": "markdown",
   "id": "4bb894ba-b142-4983-9665-213632ce0d55",
   "metadata": {},
   "source": [
    "#### Create a Classification Report"
   ]
  },
  {
   "cell_type": "code",
   "execution_count": null,
   "id": "23abda2b",
   "metadata": {},
   "outputs": [],
   "source": []
  },
  {
   "cell_type": "markdown",
   "id": "06634c05",
   "metadata": {},
   "source": [
    "## Changing the k value"
   ]
  },
  {
   "cell_type": "code",
   "execution_count": null,
   "id": "3a122e64-f880-4e6f-bd01-bda9af2d11ff",
   "metadata": {},
   "outputs": [],
   "source": []
  },
  {
   "cell_type": "code",
   "execution_count": null,
   "id": "8bb1c461-34db-47cc-ab30-e692ff592ee4",
   "metadata": {},
   "outputs": [],
   "source": []
  },
  {
   "cell_type": "code",
   "execution_count": null,
   "id": "b47aa370",
   "metadata": {},
   "outputs": [],
   "source": []
  },
  {
   "cell_type": "markdown",
   "id": "6bc403b0",
   "metadata": {},
   "source": [
    "## Finding the best value for k"
   ]
  },
  {
   "cell_type": "code",
   "execution_count": null,
   "id": "e1b44609-2901-424e-9b01-bacebafb20db",
   "metadata": {},
   "outputs": [],
   "source": []
  },
  {
   "cell_type": "code",
   "execution_count": null,
   "id": "ab625ad4",
   "metadata": {},
   "outputs": [],
   "source": []
  },
  {
   "cell_type": "code",
   "execution_count": null,
   "id": "2469b5c1",
   "metadata": {},
   "outputs": [],
   "source": []
  },
  {
   "cell_type": "markdown",
   "id": "362c0ec7",
   "metadata": {},
   "source": [
    "## Moving forward\n",
    "\n",
    "- We selected `sepal_length` and `sepal_width` as features. \n",
    "     - Build new models with different and/or additional features. \n",
    "\n",
    "\n",
    "- Tuning hyperparameters\n",
    "\n",
    "    `'weights'`: Uniform weight is the default (all points are treated equally). \n",
    "    Switch to a distance-weighted approach where nearer neighbors are given more weight in the voting process\n",
    "    \n",
    "    `'algorithm'`: Large datasets use a sampling algorithm to save on computational cost. We can try different samplers. \n",
    "    \n",
    "    `'metric'`: There is more than one way to measure distance\n",
    "\n",
    "\n",
    "- There are very similar models that we can try e.g. `RadiusNeighborsClassifier`"
   ]
  },
  {
   "cell_type": "code",
   "execution_count": null,
   "id": "114f218e",
   "metadata": {},
   "outputs": [],
   "source": []
  }
 ],
 "metadata": {
  "kernelspec": {
   "display_name": "Python 3 (ipykernel)",
   "language": "python",
   "name": "python3"
  },
  "language_info": {
   "codemirror_mode": {
    "name": "ipython",
    "version": 3
   },
   "file_extension": ".py",
   "mimetype": "text/x-python",
   "name": "python",
   "nbconvert_exporter": "python",
   "pygments_lexer": "ipython3",
   "version": "3.9.13"
  }
 },
 "nbformat": 4,
 "nbformat_minor": 5
}
