{
 "cells": [
  {
   "cell_type": "code",
   "execution_count": 52,
   "id": "80258c95-f907-4f97-aebc-6bd0966af08f",
   "metadata": {},
   "outputs": [],
   "source": [
    "import pandas as pd\n",
    "import numpy as np\n",
    "from acquire import get_titanic_data\n",
    "from prepare import clean_titanic\n",
    "import warnings\n",
    "warnings.filterwarnings('ignore')"
   ]
  },
  {
   "cell_type": "code",
   "execution_count": 53,
   "id": "242bf661-caef-4b0f-811c-1a52337d6e69",
   "metadata": {},
   "outputs": [],
   "source": [
    "# assigning train, validate, and test \n",
    "# to the output of clean_titanic\n",
    "# which is being calld on the return\n",
    "# of the invocation of get_titanic_data()\n",
    "train, val, test = clean_titanic(get_titanic_data())"
   ]
  },
  {
   "cell_type": "markdown",
   "id": "5db964ba-6340-4415-9991-b6558ec71e82",
   "metadata": {},
   "source": [
    "Create a new notebook, knn_model, and work with the titanic dataset to answer the following:"
   ]
  },
  {
   "cell_type": "markdown",
   "id": "18a2f713-a83d-472d-8ffe-ebb62bc3fb46",
   "metadata": {},
   "source": [
    "Fit a K-Nearest Neighbors classifier to your training sample and transform (i.e. make predictions on the training sample)"
   ]
  },
  {
   "cell_type": "code",
   "execution_count": 54,
   "id": "956db109-febb-4b76-9af7-7618e60e4bb0",
   "metadata": {},
   "outputs": [],
   "source": [
    "from sklearn.neighbors import KNeighborsClassifier as KNN"
   ]
  },
  {
   "cell_type": "code",
   "execution_count": 55,
   "id": "4890b8bf-7f82-49c4-9cfb-db51ae1d06c4",
   "metadata": {},
   "outputs": [],
   "source": [
    "# make the sklearn knn object\n",
    "clf = KNN()"
   ]
  },
  {
   "cell_type": "code",
   "execution_count": 59,
   "id": "70e8b68b-4616-43ae-ba5a-01fb4e94c5f3",
   "metadata": {},
   "outputs": [],
   "source": [
    "X_cols = train.columns.to_list()\n",
    "y_col = 'survived'"
   ]
  },
  {
   "cell_type": "code",
   "execution_count": 60,
   "id": "d41e8a5c-7ab2-4992-9eac-3dec374b72bb",
   "metadata": {},
   "outputs": [],
   "source": [
    "# drop out the values we def dont want in X currently:\n",
    "# 1: our target:\n",
    "X_cols.remove('survived')\n",
    "# 2: nonencoded features (not nice to these types of algorithms)\n",
    "X_cols.remove('sex')\n",
    "X_cols.remove('embark_town')"
   ]
  },
  {
   "cell_type": "code",
   "execution_count": 65,
   "id": "35524b6d-274f-441d-b568-70441770f899",
   "metadata": {},
   "outputs": [
    {
     "data": {
      "text/plain": [
       "array([0])"
      ]
     },
     "execution_count": 65,
     "metadata": {},
     "output_type": "execute_result"
    }
   ],
   "source": [
    "train[y_col].mode().values"
   ]
  },
  {
   "cell_type": "code",
   "execution_count": 71,
   "id": "bffbf054-6a10-48ed-b84d-b6ecf49fcab5",
   "metadata": {},
   "outputs": [],
   "source": [
    "# baseline value of zero\n",
    "# for the same number of values that exist\n",
    "# within the samples in our training set\n",
    "baseline_preds = [0 for i in range(0, len(train))]"
   ]
  },
  {
   "cell_type": "code",
   "execution_count": 70,
   "id": "e231308a-76bc-4505-8e5d-f0b9fe9498eb",
   "metadata": {},
   "outputs": [
    {
     "data": {
      "text/plain": [
       "True"
      ]
     },
     "execution_count": 70,
     "metadata": {},
     "output_type": "execute_result"
    }
   ],
   "source": [
    "# verify that our range of predictions is the same as \n",
    "# the length of the dataframe itself:\n",
    "len([0 for i in range(0, len(train))]) == len(train)"
   ]
  },
  {
   "cell_type": "code",
   "execution_count": 74,
   "id": "3b7b9c07-6f6d-4c29-a06f-594e1b715ad8",
   "metadata": {},
   "outputs": [],
   "source": [
    "# establish that baseline!\n",
    "baseline_accuracy = (train[y_col] == 0).mean()"
   ]
  },
  {
   "cell_type": "code",
   "execution_count": 75,
   "id": "aabdb7da-ab0f-40fd-9549-f478f789f534",
   "metadata": {},
   "outputs": [],
   "source": [
    "# fit the model:\n",
    "# let's define an X and a y for our needs:\n",
    "X_train = train[X_cols]\n",
    "y_train = train[y_col]"
   ]
  },
  {
   "cell_type": "code",
   "execution_count": 77,
   "id": "8edfbf14-0d9e-4c2a-8143-c392cc6c3cc5",
   "metadata": {},
   "outputs": [],
   "source": [
    "# I can still reference a subset of X_train with\n",
    "# a list of column names as long as they live inside\n",
    "# of X_train!\n",
    "# X_train[['age','pclass']]"
   ]
  },
  {
   "cell_type": "code",
   "execution_count": 78,
   "id": "19ac3ec0-409c-4a53-8b19-73ce7c925c15",
   "metadata": {},
   "outputs": [
    {
     "data": {
      "text/plain": [
       "KNeighborsClassifier()"
      ]
     },
     "execution_count": 78,
     "metadata": {},
     "output_type": "execute_result"
    }
   ],
   "source": [
    "# fit the thing / train the model\n",
    "clf.fit(X_train, y_train)"
   ]
  },
  {
   "cell_type": "markdown",
   "id": "3290d329-5afc-49ec-ae3a-2272820d8326",
   "metadata": {},
   "source": [
    "Evaluate your results using the model score, confusion matrix, and classification report."
   ]
  },
  {
   "cell_type": "code",
   "execution_count": 79,
   "id": "46011590-89ea-4e5c-a464-3d9a83697742",
   "metadata": {},
   "outputs": [],
   "source": [
    "from sklearn.metrics import accuracy_score, \\\n",
    "confusion_matrix, \\\n",
    "classification_report"
   ]
  },
  {
   "cell_type": "code",
   "execution_count": 81,
   "id": "6fc54332-f2ed-4f09-8b4f-9516fed21cc0",
   "metadata": {},
   "outputs": [],
   "source": [
    "# model score\n",
    "model_score = clf.score(X_train, y_train)\n",
    "# alternatively:\n",
    "knn_preds = clf.predict(X_train)\n",
    "# Theyre the same thing!!\n",
    "accuracy = accuracy_score(y_train, knn_preds)\n",
    "print(f' model score: {model_score}, accuracy score: {accuracy}')\n",
    "# confusion matrix\n",
    "confusion_matrix(y_train, knn_preds)"
   ]
  },
  {
   "cell_type": "code",
   "execution_count": 114,
   "id": "69f30dfa-7de0-479f-8a6e-fef3fa2c8b35",
   "metadata": {},
   "outputs": [
    {
     "data": {
      "text/html": [
       "<div>\n",
       "<style scoped>\n",
       "    .dataframe tbody tr th:only-of-type {\n",
       "        vertical-align: middle;\n",
       "    }\n",
       "\n",
       "    .dataframe tbody tr th {\n",
       "        vertical-align: top;\n",
       "    }\n",
       "\n",
       "    .dataframe thead th {\n",
       "        text-align: right;\n",
       "    }\n",
       "</style>\n",
       "<table border=\"1\" class=\"dataframe\">\n",
       "  <thead>\n",
       "    <tr style=\"text-align: right;\">\n",
       "      <th>KNN_preds</th>\n",
       "      <th>0</th>\n",
       "      <th>1</th>\n",
       "    </tr>\n",
       "    <tr>\n",
       "      <th>survived</th>\n",
       "      <th></th>\n",
       "      <th></th>\n",
       "    </tr>\n",
       "  </thead>\n",
       "  <tbody>\n",
       "    <tr>\n",
       "      <th>0</th>\n",
       "      <td>264</td>\n",
       "      <td>43</td>\n",
       "    </tr>\n",
       "    <tr>\n",
       "      <th>1</th>\n",
       "      <td>48</td>\n",
       "      <td>143</td>\n",
       "    </tr>\n",
       "  </tbody>\n",
       "</table>\n",
       "</div>"
      ],
      "text/plain": [
       "KNN_preds    0    1\n",
       "survived           \n",
       "0          264   43\n",
       "1           48  143"
      ]
     },
     "execution_count": 114,
     "metadata": {},
     "output_type": "execute_result"
    }
   ],
   "source": [
    "pd.crosstab(\n",
    "y_train,pd.Series(\n",
    "    knn_preds, name='KNN_preds', index=y_train.index))"
   ]
  },
  {
   "cell_type": "code",
   "execution_count": 87,
   "id": "3e53daca-97c5-40b1-bc86-e74023524542",
   "metadata": {},
   "outputs": [
    {
     "name": "stdout",
     "output_type": "stream",
     "text": [
      "              precision    recall  f1-score   support\n",
      "\n",
      "           0       0.85      0.86      0.85       307\n",
      "           1       0.77      0.75      0.76       191\n",
      "\n",
      "    accuracy                           0.82       498\n",
      "   macro avg       0.81      0.80      0.81       498\n",
      "weighted avg       0.82      0.82      0.82       498\n",
      "\n"
     ]
    }
   ],
   "source": [
    "# classification report:\n",
    "print(classification_report(y_train, knn_preds))"
   ]
  },
  {
   "cell_type": "markdown",
   "id": "4decb6b7-8856-46e8-8dbe-003829ce6af9",
   "metadata": {},
   "source": [
    "Print and clearly label the following: Accuracy, true positive rate, false positive rate, true negative rate, false negative rate, precision, recall, f1-score, and support."
   ]
  },
  {
   "cell_type": "code",
   "execution_count": 88,
   "id": "defe5627-01dc-4933-9156-922448d01cca",
   "metadata": {
    "tags": []
   },
   "outputs": [],
   "source": [
    "def get_metrics(y, y_pred):\n",
    "    TN, FP, FN, TP = confusion_matrix(y, y_pred).ravel()\n",
    "    accuracy = (TP + TN) / (TP + TN + FP + FN)\n",
    "    TPR = recall = TP / (TP + FN)\n",
    "    FPR = FP / (FP + TN)\n",
    "    TNR = TN / (FP + TN)\n",
    "    FNR = FN / (FN + TP)\n",
    "    precision =  TP / (TP + FP)\n",
    "    f1 =  2 * ((precision * recall) / ( precision + recall))\n",
    "    support_0 = train[train.survived == 0].shape[0]\n",
    "    support_1 = train[train.survived == 1].shape[0]\n",
    "    print(f'''\n",
    "    Accuracy: {accuracy}\n",
    "    True Positive Rate: {TPR}\n",
    "    True Negative Rate: {TNR}\n",
    "    False Positive Rate: {FPR}\n",
    "    False Negative Rate: {FNR}\n",
    "    Precision : {precision}\n",
    "    f1 score: {f1}\n",
    "    supports: 0: {support_0} 1: {support_1}\n",
    "    ''')"
   ]
  },
  {
   "cell_type": "code",
   "execution_count": 89,
   "id": "687f8afb-6531-4b77-91de-7ec1989717ef",
   "metadata": {},
   "outputs": [
    {
     "name": "stdout",
     "output_type": "stream",
     "text": [
      "\n",
      "    Accuracy: 0.8172690763052208\n",
      "    True Positive Rate: 0.7486910994764397\n",
      "    True Negative Rate: 0.8599348534201955\n",
      "    False Positive Rate: 0.14006514657980457\n",
      "    False Negative Rate: 0.2513089005235602\n",
      "    Precision : 0.7688172043010753\n",
      "    f1 score: 0.7586206896551724\n",
      "    supports: 0: 307 1: 191\n",
      "    \n"
     ]
    }
   ],
   "source": [
    "get_metrics(y_train, knn_preds)"
   ]
  },
  {
   "cell_type": "markdown",
   "id": "c41cb64f-423d-4a80-8876-8af121adbb8e",
   "metadata": {},
   "source": [
    "Run through steps 1-3 setting k to 10"
   ]
  },
  {
   "cell_type": "code",
   "execution_count": 91,
   "id": "43fc0ad4-be23-4075-a20f-ab53cbdf36bc",
   "metadata": {},
   "outputs": [
    {
     "data": {
      "text/plain": [
       "0.7710843373493976"
      ]
     },
     "execution_count": 91,
     "metadata": {},
     "output_type": "execute_result"
    }
   ],
   "source": [
    "clf2 = KNN(n_neighbors=10)\n",
    "clf2.fit(X_train, y_train)\n",
    "clf2.score(X_train, y_train)"
   ]
  },
  {
   "cell_type": "markdown",
   "id": "1010fe95-b233-4280-992a-1d5f634eba79",
   "metadata": {},
   "source": [
    "Run through steps 1-3 setting k to 20"
   ]
  },
  {
   "cell_type": "code",
   "execution_count": 95,
   "id": "03dffbe0-3276-48e0-9c53-8601953a1370",
   "metadata": {},
   "outputs": [
    {
     "data": {
      "text/plain": [
       "0.7409638554216867"
      ]
     },
     "execution_count": 95,
     "metadata": {},
     "output_type": "execute_result"
    }
   ],
   "source": [
    "clf3 = KNN(n_neighbors=20)\n",
    "clf3.fit(X_train, y_train)\n",
    "clf3.score(X_train, y_train)"
   ]
  },
  {
   "cell_type": "markdown",
   "id": "bb7e1f03-7ef8-4bdc-9485-352856c27e2c",
   "metadata": {},
   "source": [
    "What are the differences in the evaluation metrics? Which performs better on your in-sample data? Why?"
   ]
  },
  {
   "cell_type": "code",
   "execution_count": null,
   "id": "401718f2-c0b9-4629-a9c5-b5c4c2dc942a",
   "metadata": {},
   "outputs": [],
   "source": [
    "# So far, the first model performs best on in-sample data:\n",
    "# it has a greater accuracy based on the 5 closest neighbors\n",
    "# we will see that the further out we reach, the more\n",
    "# potentially dissimilar the inidiviual points get to the \n",
    "# one that we are trying to predict\n",
    "# we dont want to cast too wide of a net,\n",
    "# and we want to get the best fit for the number of neighbors\n",
    "# which varies based on the data!\n",
    "# which is why you change it!\n",
    "# for the data!\n",
    "# data!"
   ]
  },
  {
   "cell_type": "markdown",
   "id": "f4b972ea-80d8-4256-9dc0-15c266bd0877",
   "metadata": {},
   "source": [
    "Which model performs best on our out-of-sample data from validate?"
   ]
  },
  {
   "cell_type": "code",
   "execution_count": 96,
   "id": "87c14810-8025-4de6-968f-7f7db2e0ee46",
   "metadata": {},
   "outputs": [],
   "source": [
    "# let's continue that thought after the logreg"
   ]
  },
  {
   "cell_type": "markdown",
   "id": "17c01892-15cb-419e-b2cd-4e66a3d2fa3f",
   "metadata": {},
   "source": [
    "--------"
   ]
  },
  {
   "cell_type": "markdown",
   "id": "caf89d3c-42df-4621-97ff-2e06d7541459",
   "metadata": {},
   "source": [
    "Create a new notebook, logistic_regression, use it to answer the following questions:"
   ]
  },
  {
   "cell_type": "markdown",
   "id": "dfb64d28-1e8c-46bd-a74f-7bcb3cee72b0",
   "metadata": {},
   "source": [
    "Create a model that includes only age, fare, and pclass. Does this model perform better than your baseline?"
   ]
  },
  {
   "cell_type": "code",
   "execution_count": 97,
   "id": "ad046e3c-e4a1-45f9-8121-f337b0c17bbe",
   "metadata": {},
   "outputs": [
    {
     "data": {
      "text/html": [
       "<div>\n",
       "<style scoped>\n",
       "    .dataframe tbody tr th:only-of-type {\n",
       "        vertical-align: middle;\n",
       "    }\n",
       "\n",
       "    .dataframe tbody tr th {\n",
       "        vertical-align: top;\n",
       "    }\n",
       "\n",
       "    .dataframe thead th {\n",
       "        text-align: right;\n",
       "    }\n",
       "</style>\n",
       "<table border=\"1\" class=\"dataframe\">\n",
       "  <thead>\n",
       "    <tr style=\"text-align: right;\">\n",
       "      <th></th>\n",
       "      <th>age</th>\n",
       "      <th>fare</th>\n",
       "      <th>pclass</th>\n",
       "    </tr>\n",
       "  </thead>\n",
       "  <tbody>\n",
       "    <tr>\n",
       "      <th>474</th>\n",
       "      <td>22.00000</td>\n",
       "      <td>9.8375</td>\n",
       "      <td>3</td>\n",
       "    </tr>\n",
       "    <tr>\n",
       "      <th>370</th>\n",
       "      <td>25.00000</td>\n",
       "      <td>55.4417</td>\n",
       "      <td>1</td>\n",
       "    </tr>\n",
       "    <tr>\n",
       "      <th>573</th>\n",
       "      <td>30.53944</td>\n",
       "      <td>7.7500</td>\n",
       "      <td>3</td>\n",
       "    </tr>\n",
       "    <tr>\n",
       "      <th>110</th>\n",
       "      <td>47.00000</td>\n",
       "      <td>52.0000</td>\n",
       "      <td>1</td>\n",
       "    </tr>\n",
       "    <tr>\n",
       "      <th>167</th>\n",
       "      <td>45.00000</td>\n",
       "      <td>27.9000</td>\n",
       "      <td>3</td>\n",
       "    </tr>\n",
       "    <tr>\n",
       "      <th>...</th>\n",
       "      <td>...</td>\n",
       "      <td>...</td>\n",
       "      <td>...</td>\n",
       "    </tr>\n",
       "    <tr>\n",
       "      <th>735</th>\n",
       "      <td>28.50000</td>\n",
       "      <td>16.1000</td>\n",
       "      <td>3</td>\n",
       "    </tr>\n",
       "    <tr>\n",
       "      <th>163</th>\n",
       "      <td>17.00000</td>\n",
       "      <td>8.6625</td>\n",
       "      <td>3</td>\n",
       "    </tr>\n",
       "    <tr>\n",
       "      <th>770</th>\n",
       "      <td>24.00000</td>\n",
       "      <td>9.5000</td>\n",
       "      <td>3</td>\n",
       "    </tr>\n",
       "    <tr>\n",
       "      <th>196</th>\n",
       "      <td>30.53944</td>\n",
       "      <td>7.7500</td>\n",
       "      <td>3</td>\n",
       "    </tr>\n",
       "    <tr>\n",
       "      <th>94</th>\n",
       "      <td>59.00000</td>\n",
       "      <td>7.2500</td>\n",
       "      <td>3</td>\n",
       "    </tr>\n",
       "  </tbody>\n",
       "</table>\n",
       "<p>498 rows × 3 columns</p>\n",
       "</div>"
      ],
      "text/plain": [
       "          age     fare  pclass\n",
       "474  22.00000   9.8375       3\n",
       "370  25.00000  55.4417       1\n",
       "573  30.53944   7.7500       3\n",
       "110  47.00000  52.0000       1\n",
       "167  45.00000  27.9000       3\n",
       "..        ...      ...     ...\n",
       "735  28.50000  16.1000       3\n",
       "163  17.00000   8.6625       3\n",
       "770  24.00000   9.5000       3\n",
       "196  30.53944   7.7500       3\n",
       "94   59.00000   7.2500       3\n",
       "\n",
       "[498 rows x 3 columns]"
      ]
     },
     "execution_count": 97,
     "metadata": {},
     "output_type": "execute_result"
    }
   ],
   "source": [
    "subset = ['age', 'fare', 'pclass']\n",
    "X_train[subset]"
   ]
  },
  {
   "cell_type": "code",
   "execution_count": 98,
   "id": "dc65bcc4-48ea-4534-9d21-33b2024ae4bb",
   "metadata": {},
   "outputs": [],
   "source": [
    "from sklearn.linear_model import LogisticRegression"
   ]
  },
  {
   "cell_type": "code",
   "execution_count": 101,
   "id": "4d6dec08-da80-4d67-a3aa-b4e68f599bf9",
   "metadata": {},
   "outputs": [
    {
     "data": {
      "text/plain": [
       "0.7449799196787149"
      ]
     },
     "execution_count": 101,
     "metadata": {},
     "output_type": "execute_result"
    }
   ],
   "source": [
    "# make our thing:\n",
    "lr = LogisticRegression()\n",
    "lr.fit(X_train[subset], y_train)\n",
    "lr.score(X_train[subset], y_train)"
   ]
  },
  {
   "cell_type": "markdown",
   "id": "12ac0ee6-b6eb-48d0-a461-f541a4d1d261",
   "metadata": {},
   "source": [
    "Include sex in your model as well. Note that you'll need to encode or create a dummy variable of this feature before including it in a model."
   ]
  },
  {
   "cell_type": "code",
   "execution_count": 103,
   "id": "4ac04e26-3857-4ddb-8ea4-6d9abee0546a",
   "metadata": {},
   "outputs": [],
   "source": [
    "subset.append('sex_male')"
   ]
  },
  {
   "cell_type": "code",
   "execution_count": 104,
   "id": "3a57a426-d080-442b-b045-0b16ac07a04e",
   "metadata": {},
   "outputs": [
    {
     "data": {
      "text/plain": [
       "0.7931726907630522"
      ]
     },
     "execution_count": 104,
     "metadata": {},
     "output_type": "execute_result"
    }
   ],
   "source": [
    "lr2 = LogisticRegression()\n",
    "lr2.fit(X_train[subset], y_train)\n",
    "lr2.score(X_train[subset], y_train)"
   ]
  },
  {
   "cell_type": "markdown",
   "id": "9aa1b3e5-7ac1-4511-92fb-345a66653d9a",
   "metadata": {},
   "source": [
    "Try out other combinations of features and models."
   ]
  },
  {
   "cell_type": "code",
   "execution_count": 105,
   "id": "87ebefcd-85c9-43dd-a637-a80eced6f1c7",
   "metadata": {},
   "outputs": [
    {
     "data": {
      "text/plain": [
       "array([[-3.40040812e-02,  1.65997921e-03, -1.19645022e+00,\n",
       "        -2.47611775e+00]])"
      ]
     },
     "execution_count": 105,
     "metadata": {},
     "output_type": "execute_result"
    }
   ],
   "source": [
    "lr2.coef_"
   ]
  },
  {
   "cell_type": "code",
   "execution_count": null,
   "id": "7db216d6-c3c5-4823-8125-02e6403cfdd8",
   "metadata": {},
   "outputs": [],
   "source": [
    "# we would likely not do this at random:\n",
    "# why?\n",
    "# computational expense!\n",
    "# lack of insight!\n",
    "# We will rely on our exploration to provide meaningful\n",
    "# combinations of features at this phase\n",
    "# consider ranking your perception of most valuable features\n",
    "# take into account stats testing"
   ]
  },
  {
   "cell_type": "markdown",
   "id": "ca44c729-bcb6-47a5-8e18-b39461e8999c",
   "metadata": {},
   "source": [
    "Use you best 3 models to predict and evaluate on your validate sample."
   ]
  },
  {
   "cell_type": "code",
   "execution_count": 107,
   "id": "55bb2381-ca50-46fd-ac18-09655ddb7a7c",
   "metadata": {},
   "outputs": [],
   "source": [
    "# validate:\n",
    "X_val, y_val = val[X_cols], val[y_col]"
   ]
  },
  {
   "cell_type": "code",
   "execution_count": 108,
   "id": "97ce3c75-881f-4a61-ab4c-5c00c161b90f",
   "metadata": {},
   "outputs": [],
   "source": [
    "# validate scores:\n",
    "# always remember to predict, and not re-fit"
   ]
  },
  {
   "cell_type": "code",
   "execution_count": 109,
   "id": "df99afd1-15b4-4f78-bda0-d22b7576f9fb",
   "metadata": {},
   "outputs": [
    {
     "name": "stdout",
     "output_type": "stream",
     "text": [
      "\n",
      "KNN model 1 validate score: 0.6401869158878505\n",
      "KNN model 2 validate score: 0.6588785046728972\n",
      "logreg model 2 validate score: 0.7336448598130841\n"
     ]
    }
   ],
   "source": [
    "print(f'''\n",
    "KNN model 1 validate score: {clf.score(X_val, y_val)}\n",
    "KNN model 2 validate score: {clf2.score(X_val, y_val)}\n",
    "logreg model 2 validate score: {lr2.score(X_val[subset], y_val)}''')"
   ]
  },
  {
   "cell_type": "markdown",
   "id": "f600015c-3bdd-4cdb-aec8-c0fe5f92af04",
   "metadata": {},
   "source": [
    "Choose you best model from the validation performation, and evaluate it on the test dataset. How do the performance metrics compare to validate? to train?"
   ]
  },
  {
   "cell_type": "code",
   "execution_count": 110,
   "id": "f5ea7ec3-5c3e-421b-bdc9-e6f3e5322359",
   "metadata": {},
   "outputs": [
    {
     "data": {
      "text/plain": [
       "0.8268156424581006"
      ]
     },
     "execution_count": 110,
     "metadata": {},
     "output_type": "execute_result"
    }
   ],
   "source": [
    "# if i were to finish here,\n",
    "# i would pick lr2 as my best model\n",
    "# and use it once on test to conclude my pipeline:\n",
    "lr2.score(test[subset], test[y_col])"
   ]
  },
  {
   "cell_type": "code",
   "execution_count": null,
   "id": "a36cf9d5-4c1e-4e85-aa20-20872ef094b1",
   "metadata": {},
   "outputs": [],
   "source": []
  }
 ],
 "metadata": {
  "kernelspec": {
   "display_name": "Python 3",
   "language": "python",
   "name": "python3"
  },
  "language_info": {
   "codemirror_mode": {
    "name": "ipython",
    "version": 3
   },
   "file_extension": ".py",
   "mimetype": "text/x-python",
   "name": "python",
   "nbconvert_exporter": "python",
   "pygments_lexer": "ipython3",
   "version": "3.9.4"
  }
 },
 "nbformat": 4,
 "nbformat_minor": 5
}
