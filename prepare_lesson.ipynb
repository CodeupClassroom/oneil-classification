{
 "cells": [
  {
   "cell_type": "markdown",
   "id": "d87e5676",
   "metadata": {},
   "source": [
    "# Prepare Data\n",
    "\n",
    "Plan - Acquire - **Prepare** - Explore - Model - Deliver\n",
    "\n",
    "**Goal**: Prepare, tidy, and clean the data so that it is ready for exploration and analysis.\n",
    "\n",
    "**Input:** 1 or more dataframes acquired through the \"acquire\" step.\n",
    "\n",
    "**Output:** 1 dataset split into 3 samples in the form of dataframes: train, validate & test.\n",
    "\n",
    "**Artifact:** `prepare.py`\n",
    "\n",
    "## Steps\n",
    "1. Summarize\n",
    "2. Clean\n",
    "3. Split"
   ]
  },
  {
   "cell_type": "markdown",
   "id": "4e67f8ef-dd7e-421a-8328-30a972639b97",
   "metadata": {},
   "source": [
    "## Objectives:\n",
    "1. Summarize the data that we acquired via pandas methods:\n",
    "    - info,describe, isna, etc\n",
    "2. Clean\n",
    "    - fix column names, fill/drop null values, deal with outliers appropriately, encode categorical information, check for data validity and address appropraitely, ensure that data is ready for split\n",
    "3. Split\n",
    "    - create three separate dataframes so that we can establish holdout sets of information that will reduce bias and allow for assessment of projections from the conclusions that we as the data profession as well as the machine learning models that we create, establish through the explore/modeling process"
   ]
  },
  {
   "cell_type": "code",
   "execution_count": 1,
   "id": "be44a036-2e01-4041-9bad-13733ac0188a",
   "metadata": {},
   "outputs": [],
   "source": [
    "# grab our new data\n",
    "# look at the new data\n",
    "# fix the new data\n",
    "# split the new data\n",
    "# return the split data\n",
    "# wrap all that in a prepare.py"
   ]
  },
  {
   "cell_type": "code",
   "execution_count": 2,
   "id": "702f69b8-b2fa-4d79-920d-3847a5937c05",
   "metadata": {},
   "outputs": [],
   "source": [
    "# welcome to prepare!\n",
    "# we will use the acquisition that we built in the last step\n",
    "# in order to get our data and do the process that we\n",
    "# just described!\n",
    "import numpy as np\n",
    "import pandas as pd\n",
    "import matplotlib.pyplot as plt\n",
    "# acquire!\n",
    "# import acquire\n",
    "# df = acquire.get_titanic_data()\n",
    "from acquire import get_titanic_data\n",
    "# df = get_titanic_data()"
   ]
  },
  {
   "cell_type": "code",
   "execution_count": 3,
   "id": "3c17bb84-dbe5-4bf2-9679-605e935b7abc",
   "metadata": {},
   "outputs": [],
   "source": [
    "df = get_titanic_data()"
   ]
  },
  {
   "cell_type": "code",
   "execution_count": 4,
   "id": "2ea7ecf4-14b3-4aa4-a239-4ac1c6456447",
   "metadata": {},
   "outputs": [
    {
     "data": {
      "text/html": [
       "<div>\n",
       "<style scoped>\n",
       "    .dataframe tbody tr th:only-of-type {\n",
       "        vertical-align: middle;\n",
       "    }\n",
       "\n",
       "    .dataframe tbody tr th {\n",
       "        vertical-align: top;\n",
       "    }\n",
       "\n",
       "    .dataframe thead th {\n",
       "        text-align: right;\n",
       "    }\n",
       "</style>\n",
       "<table border=\"1\" class=\"dataframe\">\n",
       "  <thead>\n",
       "    <tr style=\"text-align: right;\">\n",
       "      <th></th>\n",
       "      <th>passenger_id</th>\n",
       "      <th>survived</th>\n",
       "      <th>pclass</th>\n",
       "      <th>sex</th>\n",
       "      <th>age</th>\n",
       "      <th>sibsp</th>\n",
       "      <th>parch</th>\n",
       "      <th>fare</th>\n",
       "      <th>embarked</th>\n",
       "      <th>class</th>\n",
       "      <th>deck</th>\n",
       "      <th>embark_town</th>\n",
       "      <th>alone</th>\n",
       "    </tr>\n",
       "  </thead>\n",
       "  <tbody>\n",
       "    <tr>\n",
       "      <th>0</th>\n",
       "      <td>0</td>\n",
       "      <td>0</td>\n",
       "      <td>3</td>\n",
       "      <td>male</td>\n",
       "      <td>22.0</td>\n",
       "      <td>1</td>\n",
       "      <td>0</td>\n",
       "      <td>7.2500</td>\n",
       "      <td>S</td>\n",
       "      <td>Third</td>\n",
       "      <td>None</td>\n",
       "      <td>Southampton</td>\n",
       "      <td>0</td>\n",
       "    </tr>\n",
       "    <tr>\n",
       "      <th>1</th>\n",
       "      <td>1</td>\n",
       "      <td>1</td>\n",
       "      <td>1</td>\n",
       "      <td>female</td>\n",
       "      <td>38.0</td>\n",
       "      <td>1</td>\n",
       "      <td>0</td>\n",
       "      <td>71.2833</td>\n",
       "      <td>C</td>\n",
       "      <td>First</td>\n",
       "      <td>C</td>\n",
       "      <td>Cherbourg</td>\n",
       "      <td>0</td>\n",
       "    </tr>\n",
       "    <tr>\n",
       "      <th>2</th>\n",
       "      <td>2</td>\n",
       "      <td>1</td>\n",
       "      <td>3</td>\n",
       "      <td>female</td>\n",
       "      <td>26.0</td>\n",
       "      <td>0</td>\n",
       "      <td>0</td>\n",
       "      <td>7.9250</td>\n",
       "      <td>S</td>\n",
       "      <td>Third</td>\n",
       "      <td>None</td>\n",
       "      <td>Southampton</td>\n",
       "      <td>1</td>\n",
       "    </tr>\n",
       "    <tr>\n",
       "      <th>3</th>\n",
       "      <td>3</td>\n",
       "      <td>1</td>\n",
       "      <td>1</td>\n",
       "      <td>female</td>\n",
       "      <td>35.0</td>\n",
       "      <td>1</td>\n",
       "      <td>0</td>\n",
       "      <td>53.1000</td>\n",
       "      <td>S</td>\n",
       "      <td>First</td>\n",
       "      <td>C</td>\n",
       "      <td>Southampton</td>\n",
       "      <td>0</td>\n",
       "    </tr>\n",
       "    <tr>\n",
       "      <th>4</th>\n",
       "      <td>4</td>\n",
       "      <td>0</td>\n",
       "      <td>3</td>\n",
       "      <td>male</td>\n",
       "      <td>35.0</td>\n",
       "      <td>0</td>\n",
       "      <td>0</td>\n",
       "      <td>8.0500</td>\n",
       "      <td>S</td>\n",
       "      <td>Third</td>\n",
       "      <td>None</td>\n",
       "      <td>Southampton</td>\n",
       "      <td>1</td>\n",
       "    </tr>\n",
       "  </tbody>\n",
       "</table>\n",
       "</div>"
      ],
      "text/plain": [
       "   passenger_id  survived  pclass     sex   age  sibsp  parch     fare  \\\n",
       "0             0         0       3    male  22.0      1      0   7.2500   \n",
       "1             1         1       1  female  38.0      1      0  71.2833   \n",
       "2             2         1       3  female  26.0      0      0   7.9250   \n",
       "3             3         1       1  female  35.0      1      0  53.1000   \n",
       "4             4         0       3    male  35.0      0      0   8.0500   \n",
       "\n",
       "  embarked  class  deck  embark_town  alone  \n",
       "0        S  Third  None  Southampton      0  \n",
       "1        C  First     C    Cherbourg      0  \n",
       "2        S  Third  None  Southampton      1  \n",
       "3        S  First     C  Southampton      0  \n",
       "4        S  Third  None  Southampton      1  "
      ]
     },
     "execution_count": 4,
     "metadata": {},
     "output_type": "execute_result"
    }
   ],
   "source": [
    "df.head()"
   ]
  },
  {
   "cell_type": "markdown",
   "id": "f467d5db-f3f6-4007-8e66-a782009492ec",
   "metadata": {},
   "source": [
    "Let's start summarizing the information that we have in front of us:\n",
    " - df.head()\n",
    " - df.info()\n",
    " - df.describe()\n",
    " - df.isna().sum()\n",
    " - df[col].hist()\n",
    " - df[col].dtypes\n",
    " - df[col].value_counts()\n",
    " \n",
    "Goals:\n",
    " - Get an idea of the spread of information on a feature by feature basis\n",
    " - Identify where null values are\n",
    " - Identify any redundancy\n",
    " - Identify any categorical variables that require encoding\n",
    " - Identify any column names that need adjusting\n",
    " - Identify features that appear especially skewed for note in analysis\n",
    " - TLDR Get the info we need to proceed with cleaning and analysis"
   ]
  },
  {
   "cell_type": "code",
   "execution_count": 5,
   "id": "bead4929-4f70-4c87-998b-49919eb00c67",
   "metadata": {},
   "outputs": [
    {
     "name": "stdout",
     "output_type": "stream",
     "text": [
      "<class 'pandas.core.frame.DataFrame'>\n",
      "RangeIndex: 891 entries, 0 to 890\n",
      "Data columns (total 13 columns):\n",
      " #   Column        Non-Null Count  Dtype  \n",
      "---  ------        --------------  -----  \n",
      " 0   passenger_id  891 non-null    int64  \n",
      " 1   survived      891 non-null    int64  \n",
      " 2   pclass        891 non-null    int64  \n",
      " 3   sex           891 non-null    object \n",
      " 4   age           714 non-null    float64\n",
      " 5   sibsp         891 non-null    int64  \n",
      " 6   parch         891 non-null    int64  \n",
      " 7   fare          891 non-null    float64\n",
      " 8   embarked      889 non-null    object \n",
      " 9   class         891 non-null    object \n",
      " 10  deck          203 non-null    object \n",
      " 11  embark_town   889 non-null    object \n",
      " 12  alone         891 non-null    int64  \n",
      "dtypes: float64(2), int64(6), object(5)\n",
      "memory usage: 90.6+ KB\n"
     ]
    }
   ],
   "source": [
    "df.info()"
   ]
  },
  {
   "cell_type": "markdown",
   "id": "8f563b9b-2265-4e82-9d9f-001ea55ccac0",
   "metadata": {},
   "source": [
    "- Bonus goal! At this point we have not fully elaborated on our goals of analysis in this specific data set.\n",
    " - In our case, we want to examine what might be conclusive to associate conditions of a passenger on the titanic with if they survived"
   ]
  },
  {
   "cell_type": "code",
   "execution_count": 6,
   "id": "f6671fee-eb00-4273-8ab2-09fd704a7b91",
   "metadata": {},
   "outputs": [],
   "source": [
    "# Classification problem: y == target == survived ==> binary (0,1)\n",
    "# Everything else: potential independent feature"
   ]
  },
  {
   "cell_type": "markdown",
   "id": "17eae1ed-bd0d-4d8a-a465-1fc03caf1a97",
   "metadata": {},
   "source": [
    "First notes: looks like data types are mixed\n",
    "- we have some values that are objects that may need to be encoded\n",
    "- we have some columns with missing values based on .info()"
   ]
  },
  {
   "cell_type": "code",
   "execution_count": 7,
   "id": "67af2e33-39f0-4dba-8ddf-4031d1f260c0",
   "metadata": {},
   "outputs": [
    {
     "data": {
      "text/plain": [
       "Index(['passenger_id', 'survived', 'pclass', 'sex', 'age', 'sibsp', 'parch',\n",
       "       'fare', 'embarked', 'class', 'deck', 'embark_town', 'alone'],\n",
       "      dtype='object')"
      ]
     },
     "execution_count": 7,
     "metadata": {},
     "output_type": "execute_result"
    }
   ],
   "source": [
    "df.columns"
   ]
  },
  {
   "cell_type": "code",
   "execution_count": 9,
   "id": "65d8cf5b-59f3-45a4-8ae4-3d54ce581774",
   "metadata": {},
   "outputs": [
    {
     "data": {
      "text/html": [
       "<div>\n",
       "<style scoped>\n",
       "    .dataframe tbody tr th:only-of-type {\n",
       "        vertical-align: middle;\n",
       "    }\n",
       "\n",
       "    .dataframe tbody tr th {\n",
       "        vertical-align: top;\n",
       "    }\n",
       "\n",
       "    .dataframe thead th {\n",
       "        text-align: right;\n",
       "    }\n",
       "</style>\n",
       "<table border=\"1\" class=\"dataframe\">\n",
       "  <thead>\n",
       "    <tr style=\"text-align: right;\">\n",
       "      <th></th>\n",
       "      <th>sex</th>\n",
       "      <th>embarked</th>\n",
       "      <th>class</th>\n",
       "      <th>deck</th>\n",
       "      <th>embark_town</th>\n",
       "    </tr>\n",
       "  </thead>\n",
       "  <tbody>\n",
       "    <tr>\n",
       "      <th>0</th>\n",
       "      <td>male</td>\n",
       "      <td>S</td>\n",
       "      <td>Third</td>\n",
       "      <td>None</td>\n",
       "      <td>Southampton</td>\n",
       "    </tr>\n",
       "    <tr>\n",
       "      <th>1</th>\n",
       "      <td>female</td>\n",
       "      <td>C</td>\n",
       "      <td>First</td>\n",
       "      <td>C</td>\n",
       "      <td>Cherbourg</td>\n",
       "    </tr>\n",
       "    <tr>\n",
       "      <th>2</th>\n",
       "      <td>female</td>\n",
       "      <td>S</td>\n",
       "      <td>Third</td>\n",
       "      <td>None</td>\n",
       "      <td>Southampton</td>\n",
       "    </tr>\n",
       "    <tr>\n",
       "      <th>3</th>\n",
       "      <td>female</td>\n",
       "      <td>S</td>\n",
       "      <td>First</td>\n",
       "      <td>C</td>\n",
       "      <td>Southampton</td>\n",
       "    </tr>\n",
       "    <tr>\n",
       "      <th>4</th>\n",
       "      <td>male</td>\n",
       "      <td>S</td>\n",
       "      <td>Third</td>\n",
       "      <td>None</td>\n",
       "      <td>Southampton</td>\n",
       "    </tr>\n",
       "  </tbody>\n",
       "</table>\n",
       "</div>"
      ],
      "text/plain": [
       "      sex embarked  class  deck  embark_town\n",
       "0    male        S  Third  None  Southampton\n",
       "1  female        C  First     C    Cherbourg\n",
       "2  female        S  Third  None  Southampton\n",
       "3  female        S  First     C  Southampton\n",
       "4    male        S  Third  None  Southampton"
      ]
     },
     "execution_count": 9,
     "metadata": {},
     "output_type": "execute_result"
    }
   ],
   "source": [
    "# narrow down the dataframe to just object datatypes\n",
    "df.select_dtypes(include='object').head()\n",
    "# it looks like embarked and embark_town are the same deal\n",
    "# let's see if thats accurate"
   ]
  },
  {
   "cell_type": "code",
   "execution_count": 12,
   "id": "7ebee461-8a32-42fc-bc81-6aaa055a37e0",
   "metadata": {},
   "outputs": [],
   "source": [
    "# df['embark_town'].apply(lambda x: x[0])\n",
    "# note: we cant quite yet do this because we do not have the \n",
    "# capacity to address the nulls with this type of function application"
   ]
  },
  {
   "cell_type": "code",
   "execution_count": 13,
   "id": "8807686d-b593-48a3-be49-c21d65ea10d3",
   "metadata": {},
   "outputs": [],
   "source": [
    "# looks like these are the same,\n",
    "# i'll compare that first letter of embark_town to the rest of it\n",
    "# once I can take care of these nulls\n",
    "# df[['embarked','embark_town']]"
   ]
  },
  {
   "cell_type": "code",
   "execution_count": 14,
   "id": "b7525769-cd12-40be-a494-f15611378c4b",
   "metadata": {},
   "outputs": [],
   "source": [
    "# what about those nulls???"
   ]
  },
  {
   "cell_type": "code",
   "execution_count": 20,
   "id": "64695c99-2448-4f1a-82eb-f505fb12a4c2",
   "metadata": {},
   "outputs": [
    {
     "data": {
      "text/plain": [
       "age            177\n",
       "embarked         2\n",
       "deck           688\n",
       "embark_town      2\n",
       "dtype: int64"
      ]
     },
     "execution_count": 20,
     "metadata": {},
     "output_type": "execute_result"
    }
   ],
   "source": [
    "# using boolean masking -> which info is gone from which column?\n",
    "df.isna().sum()[df.isna().sum() > 0]"
   ]
  },
  {
   "cell_type": "code",
   "execution_count": 23,
   "id": "6ee6df74-27ba-4c05-b12e-f8af40fd8afc",
   "metadata": {},
   "outputs": [
    {
     "data": {
      "text/plain": [
       "age            0.198653\n",
       "embarked       0.002245\n",
       "deck           0.772166\n",
       "embark_town    0.002245\n",
       "dtype: float64"
      ]
     },
     "execution_count": 23,
     "metadata": {},
     "output_type": "execute_result"
    }
   ],
   "source": [
    "df.isna().sum()[df.isna().sum() > 0] / len(df)"
   ]
  },
  {
   "cell_type": "code",
   "execution_count": 24,
   "id": "8b327a05-14b3-474e-bbc0-0a6f7447419e",
   "metadata": {},
   "outputs": [],
   "source": [
    "# conclusions from this process:\n",
    "# deck looks useless, way too many missing values\n",
    "# age has almost 20% missing, we may or may not want to drop this one\n",
    "# it could be valuable, but for the sake of MVP we may drop it.\n",
    "# I would want to investigate more through analysis to see if these values are meaningful\n",
    "# embark and embark_town still seem to be the same"
   ]
  },
  {
   "cell_type": "code",
   "execution_count": 29,
   "id": "3a72ae58-fac0-462d-a387-8e149097fb59",
   "metadata": {},
   "outputs": [
    {
     "data": {
      "text/plain": [
       "1.0"
      ]
     },
     "execution_count": 29,
     "metadata": {},
     "output_type": "execute_result"
    }
   ],
   "source": [
    "# let's see if embark_town truly is the same as embark\n",
    "(df['embarked'].dropna() == df['embark_town'].dropna().apply(\n",
    "    lambda x: x[0])).mean()"
   ]
  },
  {
   "cell_type": "code",
   "execution_count": 30,
   "id": "c63fe8c1-df3d-40c8-8f67-bb25c8432df9",
   "metadata": {},
   "outputs": [],
   "source": [
    "# embarked and embark_town are the same thing.\n",
    "# I will elect to keep embark_town because its more descriptive\n",
    "# and represents the same info"
   ]
  },
  {
   "cell_type": "code",
   "execution_count": 31,
   "id": "0ad06402-05d9-4111-bbbd-e63cc5def58f",
   "metadata": {},
   "outputs": [],
   "source": [
    "# with only two missing values, I can impute the most common embark town,\n",
    "# or I could merely drop the rows.\n",
    "# let's go for imputation"
   ]
  },
  {
   "cell_type": "code",
   "execution_count": 32,
   "id": "d689408c-a7be-4f81-b6f4-4972e7b0943d",
   "metadata": {},
   "outputs": [],
   "source": [
    "# fill in the most common value in embark_town for the nulls:"
   ]
  },
  {
   "cell_type": "code",
   "execution_count": 33,
   "id": "bfeaf470-9afe-4529-a980-7a5abc523e8b",
   "metadata": {},
   "outputs": [
    {
     "data": {
      "text/plain": [
       "Southampton    644\n",
       "Cherbourg      168\n",
       "Queenstown      77\n",
       "Name: embark_town, dtype: int64"
      ]
     },
     "execution_count": 33,
     "metadata": {},
     "output_type": "execute_result"
    }
   ],
   "source": [
    "df.embark_town.value_counts()"
   ]
  },
  {
   "cell_type": "code",
   "execution_count": 35,
   "id": "3754e5d1-3a06-406a-970c-20244820b43d",
   "metadata": {},
   "outputs": [],
   "source": [
    "# we can fill the null values in embark_town with the most common\n",
    "# value (southhampton) b y using a fillna()\n",
    "# we can reassign df['embark_town'] to this, or use an inplace=True\n",
    "# NOTE!!! inplace=True changes the function to RETURN A NONETYPE\n",
    "df.embark_town.fillna('Southampton',inplace=True)"
   ]
  },
  {
   "cell_type": "code",
   "execution_count": 37,
   "id": "bfe14896-ad74-4178-9fb0-ce40d78408e7",
   "metadata": {},
   "outputs": [],
   "source": [
    "# to display reassignment rather than inplace:\n",
    "# dataframe = the version of df from before, but\n",
    "# without the embarked column\n",
    "df = df.drop(columns='embarked')"
   ]
  },
  {
   "cell_type": "code",
   "execution_count": 38,
   "id": "d07f54d4-5284-43ef-809a-2b7db9f0cf0b",
   "metadata": {},
   "outputs": [
    {
     "data": {
      "text/html": [
       "<div>\n",
       "<style scoped>\n",
       "    .dataframe tbody tr th:only-of-type {\n",
       "        vertical-align: middle;\n",
       "    }\n",
       "\n",
       "    .dataframe tbody tr th {\n",
       "        vertical-align: top;\n",
       "    }\n",
       "\n",
       "    .dataframe thead th {\n",
       "        text-align: right;\n",
       "    }\n",
       "</style>\n",
       "<table border=\"1\" class=\"dataframe\">\n",
       "  <thead>\n",
       "    <tr style=\"text-align: right;\">\n",
       "      <th></th>\n",
       "      <th>passenger_id</th>\n",
       "      <th>survived</th>\n",
       "      <th>pclass</th>\n",
       "      <th>sex</th>\n",
       "      <th>age</th>\n",
       "      <th>sibsp</th>\n",
       "      <th>parch</th>\n",
       "      <th>fare</th>\n",
       "      <th>class</th>\n",
       "      <th>deck</th>\n",
       "      <th>embark_town</th>\n",
       "      <th>alone</th>\n",
       "    </tr>\n",
       "  </thead>\n",
       "  <tbody>\n",
       "    <tr>\n",
       "      <th>0</th>\n",
       "      <td>0</td>\n",
       "      <td>0</td>\n",
       "      <td>3</td>\n",
       "      <td>male</td>\n",
       "      <td>22.0</td>\n",
       "      <td>1</td>\n",
       "      <td>0</td>\n",
       "      <td>7.2500</td>\n",
       "      <td>Third</td>\n",
       "      <td>None</td>\n",
       "      <td>Southampton</td>\n",
       "      <td>0</td>\n",
       "    </tr>\n",
       "    <tr>\n",
       "      <th>1</th>\n",
       "      <td>1</td>\n",
       "      <td>1</td>\n",
       "      <td>1</td>\n",
       "      <td>female</td>\n",
       "      <td>38.0</td>\n",
       "      <td>1</td>\n",
       "      <td>0</td>\n",
       "      <td>71.2833</td>\n",
       "      <td>First</td>\n",
       "      <td>C</td>\n",
       "      <td>Cherbourg</td>\n",
       "      <td>0</td>\n",
       "    </tr>\n",
       "    <tr>\n",
       "      <th>2</th>\n",
       "      <td>2</td>\n",
       "      <td>1</td>\n",
       "      <td>3</td>\n",
       "      <td>female</td>\n",
       "      <td>26.0</td>\n",
       "      <td>0</td>\n",
       "      <td>0</td>\n",
       "      <td>7.9250</td>\n",
       "      <td>Third</td>\n",
       "      <td>None</td>\n",
       "      <td>Southampton</td>\n",
       "      <td>1</td>\n",
       "    </tr>\n",
       "    <tr>\n",
       "      <th>3</th>\n",
       "      <td>3</td>\n",
       "      <td>1</td>\n",
       "      <td>1</td>\n",
       "      <td>female</td>\n",
       "      <td>35.0</td>\n",
       "      <td>1</td>\n",
       "      <td>0</td>\n",
       "      <td>53.1000</td>\n",
       "      <td>First</td>\n",
       "      <td>C</td>\n",
       "      <td>Southampton</td>\n",
       "      <td>0</td>\n",
       "    </tr>\n",
       "    <tr>\n",
       "      <th>4</th>\n",
       "      <td>4</td>\n",
       "      <td>0</td>\n",
       "      <td>3</td>\n",
       "      <td>male</td>\n",
       "      <td>35.0</td>\n",
       "      <td>0</td>\n",
       "      <td>0</td>\n",
       "      <td>8.0500</td>\n",
       "      <td>Third</td>\n",
       "      <td>None</td>\n",
       "      <td>Southampton</td>\n",
       "      <td>1</td>\n",
       "    </tr>\n",
       "  </tbody>\n",
       "</table>\n",
       "</div>"
      ],
      "text/plain": [
       "   passenger_id  survived  pclass     sex   age  sibsp  parch     fare  class  \\\n",
       "0             0         0       3    male  22.0      1      0   7.2500  Third   \n",
       "1             1         1       1  female  38.0      1      0  71.2833  First   \n",
       "2             2         1       3  female  26.0      0      0   7.9250  Third   \n",
       "3             3         1       1  female  35.0      1      0  53.1000  First   \n",
       "4             4         0       3    male  35.0      0      0   8.0500  Third   \n",
       "\n",
       "   deck  embark_town  alone  \n",
       "0  None  Southampton      0  \n",
       "1     C    Cherbourg      0  \n",
       "2  None  Southampton      1  \n",
       "3     C  Southampton      0  \n",
       "4  None  Southampton      1  "
      ]
     },
     "execution_count": 38,
     "metadata": {},
     "output_type": "execute_result"
    }
   ],
   "source": [
    "df.head()"
   ]
  },
  {
   "cell_type": "code",
   "execution_count": 40,
   "id": "df336d3c-5ee2-4626-9d4f-6f92b3088ed3",
   "metadata": {},
   "outputs": [
    {
     "data": {
      "text/plain": [
       "True"
      ]
     },
     "execution_count": 40,
     "metadata": {},
     "output_type": "execute_result"
    }
   ],
   "source": [
    "df['sex'].dtype == 'O'"
   ]
  },
  {
   "cell_type": "code",
   "execution_count": 44,
   "id": "da3e692e-d2fd-43af-bc8e-beb92b58c78b",
   "metadata": {},
   "outputs": [
    {
     "data": {
      "image/png": "[encoded data removed]",
      "text/plain": [
       "<Figure size 432x288 with 1 Axes>"
      ]
     },
     "metadata": {
      "needs_background": "light"
     },
     "output_type": "display_data"
    },
    {
     "data": {
      "image/png": "[encoded data removed]",
      "text/plain": [
       "<Figure size 432x288 with 1 Axes>"
      ]
     },
     "metadata": {
      "needs_background": "light"
     },
     "output_type": "display_data"
    },
    {
     "data": {
      "image/png": "[encoded data removed]",
      "text/plain": [
       "<Figure size 432x288 with 1 Axes>"
      ]
     },
     "metadata": {
      "needs_background": "light"
     },
     "output_type": "display_data"
    },
    {
     "data": {
      "image/png": "[encoded data removed]",
      "text/plain": [
       "<Figure size 432x288 with 1 Axes>"
      ]
     },
     "metadata": {
      "needs_background": "light"
     },
     "output_type": "display_data"
    },
    {
     "data": {
      "image/png": "[encoded data removed]",
      "text/plain": [
       "<Figure size 432x288 with 1 Axes>"
      ]
     },
     "metadata": {
      "needs_background": "light"
     },
     "output_type": "display_data"
    },
    {
     "data": {
      "image/png": "[encoded data removed]",
      "text/plain": [
       "<Figure size 432x288 with 1 Axes>"
      ]
     },
     "metadata": {
      "needs_background": "light"
     },
     "output_type": "display_data"
    },
    {
     "data": {
      "image/png": "[encoded data removed]",
      "text/plain": [
       "<Figure size 432x288 with 1 Axes>"
      ]
     },
     "metadata": {
      "needs_background": "light"
     },
     "output_type": "display_data"
    },
    {
     "data": {
      "image/png": "[encoded data removed]",
      "text/plain": [
       "<Figure size 432x288 with 1 Axes>"
      ]
     },
     "metadata": {
      "needs_background": "light"
     },
     "output_type": "display_data"
    }
   ],
   "source": [
    "# examinging the distributions\n",
    "# for every column present inside of df:\n",
    "# check if its not an object,\n",
    "# otherwise (which means its a number)\n",
    "# give me that histogram\n",
    "for col in df:\n",
    "    if df[col].dtype != 'O':\n",
    "        plt.hist(df[col])\n",
    "        plt.title(f'Distribution of {col} on the Titanic')\n",
    "        plt.show()"
   ]
  },
  {
   "cell_type": "code",
   "execution_count": null,
   "id": "9525ca48-3ea6-46ff-90e9-5450d9c75a34",
   "metadata": {},
   "outputs": [],
   "source": [
    "# other takeaways:\n",
    "# passenger_id is a repeat of the index, needs to to be dropped\n",
    "# so that we dont make any unfortunate assumptions via ML modeling\n",
    "# that draws patterns merely on an arbitrary index"
   ]
  },
  {
   "cell_type": "code",
   "execution_count": null,
   "id": "d53738fd-83cf-444f-924b-3293c5c6ede9",
   "metadata": {},
   "outputs": [],
   "source": [
    "# class versus pclass:\n",
    "# we will keep pclass, because it has the same level of information\n",
    "# while also being represented as a numerical value that will\n",
    "# play nice with any ML algorithm"
   ]
  },
  {
   "cell_type": "markdown",
   "id": "368dd474-4aad-41b1-8f29-2293b6b57566",
   "metadata": {},
   "source": [
    "what do we still need to do?\n",
    " - drop class, drop passenger_id, fill age with average age, drop deck"
   ]
  },
  {
   "cell_type": "code",
   "execution_count": 51,
   "id": "c0981483-9564-44fc-9443-4a8b09f4a83b",
   "metadata": {},
   "outputs": [],
   "source": [
    "# reassign our dataframe to the version with dropped\n",
    "df = df.drop(columns=['class','deck','passenger_id'])"
   ]
  },
  {
   "cell_type": "code",
   "execution_count": 55,
   "id": "683166ff-27bb-4b19-afd2-d748a73cecca",
   "metadata": {},
   "outputs": [],
   "source": [
    "# let's give age our average value\n",
    "df['age'] = df['age'].fillna(df.age.mean())"
   ]
  },
  {
   "cell_type": "code",
   "execution_count": 56,
   "id": "95db7e13-823d-478e-a0b8-39eb8bfc27e0",
   "metadata": {},
   "outputs": [
    {
     "name": "stdout",
     "output_type": "stream",
     "text": [
      "<class 'pandas.core.frame.DataFrame'>\n",
      "RangeIndex: 891 entries, 0 to 890\n",
      "Data columns (total 9 columns):\n",
      " #   Column       Non-Null Count  Dtype  \n",
      "---  ------       --------------  -----  \n",
      " 0   survived     891 non-null    int64  \n",
      " 1   pclass       891 non-null    int64  \n",
      " 2   sex          891 non-null    object \n",
      " 3   age          891 non-null    float64\n",
      " 4   sibsp        891 non-null    int64  \n",
      " 5   parch        891 non-null    int64  \n",
      " 6   fare         891 non-null    float64\n",
      " 7   embark_town  891 non-null    object \n",
      " 8   alone        891 non-null    int64  \n",
      "dtypes: float64(2), int64(5), object(2)\n",
      "memory usage: 62.8+ KB\n"
     ]
    }
   ],
   "source": [
    "df.info()"
   ]
  },
  {
   "cell_type": "code",
   "execution_count": 57,
   "id": "6af8af4e-cb6a-415a-b073-d53fcd2929c5",
   "metadata": {},
   "outputs": [
    {
     "data": {
      "text/html": [
       "<div>\n",
       "<style scoped>\n",
       "    .dataframe tbody tr th:only-of-type {\n",
       "        vertical-align: middle;\n",
       "    }\n",
       "\n",
       "    .dataframe tbody tr th {\n",
       "        vertical-align: top;\n",
       "    }\n",
       "\n",
       "    .dataframe thead th {\n",
       "        text-align: right;\n",
       "    }\n",
       "</style>\n",
       "<table border=\"1\" class=\"dataframe\">\n",
       "  <thead>\n",
       "    <tr style=\"text-align: right;\">\n",
       "      <th></th>\n",
       "      <th>count</th>\n",
       "      <th>mean</th>\n",
       "      <th>std</th>\n",
       "      <th>min</th>\n",
       "      <th>25%</th>\n",
       "      <th>50%</th>\n",
       "      <th>75%</th>\n",
       "      <th>max</th>\n",
       "    </tr>\n",
       "  </thead>\n",
       "  <tbody>\n",
       "    <tr>\n",
       "      <th>survived</th>\n",
       "      <td>891.0</td>\n",
       "      <td>0.383838</td>\n",
       "      <td>0.486592</td>\n",
       "      <td>0.00</td>\n",
       "      <td>0.0000</td>\n",
       "      <td>0.000000</td>\n",
       "      <td>1.0</td>\n",
       "      <td>1.0000</td>\n",
       "    </tr>\n",
       "    <tr>\n",
       "      <th>pclass</th>\n",
       "      <td>891.0</td>\n",
       "      <td>2.308642</td>\n",
       "      <td>0.836071</td>\n",
       "      <td>1.00</td>\n",
       "      <td>2.0000</td>\n",
       "      <td>3.000000</td>\n",
       "      <td>3.0</td>\n",
       "      <td>3.0000</td>\n",
       "    </tr>\n",
       "    <tr>\n",
       "      <th>age</th>\n",
       "      <td>891.0</td>\n",
       "      <td>29.699118</td>\n",
       "      <td>13.002015</td>\n",
       "      <td>0.42</td>\n",
       "      <td>22.0000</td>\n",
       "      <td>29.699118</td>\n",
       "      <td>35.0</td>\n",
       "      <td>80.0000</td>\n",
       "    </tr>\n",
       "    <tr>\n",
       "      <th>sibsp</th>\n",
       "      <td>891.0</td>\n",
       "      <td>0.523008</td>\n",
       "      <td>1.102743</td>\n",
       "      <td>0.00</td>\n",
       "      <td>0.0000</td>\n",
       "      <td>0.000000</td>\n",
       "      <td>1.0</td>\n",
       "      <td>8.0000</td>\n",
       "    </tr>\n",
       "    <tr>\n",
       "      <th>parch</th>\n",
       "      <td>891.0</td>\n",
       "      <td>0.381594</td>\n",
       "      <td>0.806057</td>\n",
       "      <td>0.00</td>\n",
       "      <td>0.0000</td>\n",
       "      <td>0.000000</td>\n",
       "      <td>0.0</td>\n",
       "      <td>6.0000</td>\n",
       "    </tr>\n",
       "    <tr>\n",
       "      <th>fare</th>\n",
       "      <td>891.0</td>\n",
       "      <td>32.204208</td>\n",
       "      <td>49.693429</td>\n",
       "      <td>0.00</td>\n",
       "      <td>7.9104</td>\n",
       "      <td>14.454200</td>\n",
       "      <td>31.0</td>\n",
       "      <td>512.3292</td>\n",
       "    </tr>\n",
       "    <tr>\n",
       "      <th>alone</th>\n",
       "      <td>891.0</td>\n",
       "      <td>0.602694</td>\n",
       "      <td>0.489615</td>\n",
       "      <td>0.00</td>\n",
       "      <td>0.0000</td>\n",
       "      <td>1.000000</td>\n",
       "      <td>1.0</td>\n",
       "      <td>1.0000</td>\n",
       "    </tr>\n",
       "  </tbody>\n",
       "</table>\n",
       "</div>"
      ],
      "text/plain": [
       "          count       mean        std   min      25%        50%   75%  \\\n",
       "survived  891.0   0.383838   0.486592  0.00   0.0000   0.000000   1.0   \n",
       "pclass    891.0   2.308642   0.836071  1.00   2.0000   3.000000   3.0   \n",
       "age       891.0  29.699118  13.002015  0.42  22.0000  29.699118  35.0   \n",
       "sibsp     891.0   0.523008   1.102743  0.00   0.0000   0.000000   1.0   \n",
       "parch     891.0   0.381594   0.806057  0.00   0.0000   0.000000   0.0   \n",
       "fare      891.0  32.204208  49.693429  0.00   7.9104  14.454200  31.0   \n",
       "alone     891.0   0.602694   0.489615  0.00   0.0000   1.000000   1.0   \n",
       "\n",
       "               max  \n",
       "survived    1.0000  \n",
       "pclass      3.0000  \n",
       "age        80.0000  \n",
       "sibsp       8.0000  \n",
       "parch       6.0000  \n",
       "fare      512.3292  \n",
       "alone       1.0000  "
      ]
     },
     "execution_count": 57,
     "metadata": {},
     "output_type": "execute_result"
    }
   ],
   "source": [
    "df.describe().T"
   ]
  },
  {
   "cell_type": "code",
   "execution_count": 59,
   "id": "9c7de3bc-30b6-4c89-914e-03f9aa8fa7d2",
   "metadata": {},
   "outputs": [
    {
     "data": {
      "text/plain": [
       "258    512.3292\n",
       "Name: fare, dtype: float64"
      ]
     },
     "execution_count": 59,
     "metadata": {},
     "output_type": "execute_result"
    }
   ],
   "source": [
    "# why is the decimal so granular here?\n",
    "# does this outlier represent a granular decimal value?\n",
    "# we may want to investigate this outlier\n",
    "# stay tuned for anomaly detection!\n",
    "df.fare.nlargest(n=1)"
   ]
  },
  {
   "cell_type": "code",
   "execution_count": 63,
   "id": "08811ffa-3f4c-417c-b039-3f2dad22c791",
   "metadata": {},
   "outputs": [
    {
     "data": {
      "text/html": [
       "<div>\n",
       "<style scoped>\n",
       "    .dataframe tbody tr th:only-of-type {\n",
       "        vertical-align: middle;\n",
       "    }\n",
       "\n",
       "    .dataframe tbody tr th {\n",
       "        vertical-align: top;\n",
       "    }\n",
       "\n",
       "    .dataframe thead th {\n",
       "        text-align: right;\n",
       "    }\n",
       "</style>\n",
       "<table border=\"1\" class=\"dataframe\">\n",
       "  <thead>\n",
       "    <tr style=\"text-align: right;\">\n",
       "      <th></th>\n",
       "      <th>survived</th>\n",
       "      <th>pclass</th>\n",
       "      <th>sex</th>\n",
       "      <th>age</th>\n",
       "      <th>sibsp</th>\n",
       "      <th>parch</th>\n",
       "      <th>fare</th>\n",
       "      <th>embark_town</th>\n",
       "      <th>alone</th>\n",
       "      <th>Queenstown</th>\n",
       "      <th>Southampton</th>\n",
       "    </tr>\n",
       "  </thead>\n",
       "  <tbody>\n",
       "    <tr>\n",
       "      <th>0</th>\n",
       "      <td>0</td>\n",
       "      <td>3</td>\n",
       "      <td>male</td>\n",
       "      <td>22.000000</td>\n",
       "      <td>1</td>\n",
       "      <td>0</td>\n",
       "      <td>7.2500</td>\n",
       "      <td>Southampton</td>\n",
       "      <td>0</td>\n",
       "      <td>0</td>\n",
       "      <td>1</td>\n",
       "    </tr>\n",
       "    <tr>\n",
       "      <th>1</th>\n",
       "      <td>1</td>\n",
       "      <td>1</td>\n",
       "      <td>female</td>\n",
       "      <td>38.000000</td>\n",
       "      <td>1</td>\n",
       "      <td>0</td>\n",
       "      <td>71.2833</td>\n",
       "      <td>Cherbourg</td>\n",
       "      <td>0</td>\n",
       "      <td>0</td>\n",
       "      <td>0</td>\n",
       "    </tr>\n",
       "    <tr>\n",
       "      <th>2</th>\n",
       "      <td>1</td>\n",
       "      <td>3</td>\n",
       "      <td>female</td>\n",
       "      <td>26.000000</td>\n",
       "      <td>0</td>\n",
       "      <td>0</td>\n",
       "      <td>7.9250</td>\n",
       "      <td>Southampton</td>\n",
       "      <td>1</td>\n",
       "      <td>0</td>\n",
       "      <td>1</td>\n",
       "    </tr>\n",
       "    <tr>\n",
       "      <th>3</th>\n",
       "      <td>1</td>\n",
       "      <td>1</td>\n",
       "      <td>female</td>\n",
       "      <td>35.000000</td>\n",
       "      <td>1</td>\n",
       "      <td>0</td>\n",
       "      <td>53.1000</td>\n",
       "      <td>Southampton</td>\n",
       "      <td>0</td>\n",
       "      <td>0</td>\n",
       "      <td>1</td>\n",
       "    </tr>\n",
       "    <tr>\n",
       "      <th>4</th>\n",
       "      <td>0</td>\n",
       "      <td>3</td>\n",
       "      <td>male</td>\n",
       "      <td>35.000000</td>\n",
       "      <td>0</td>\n",
       "      <td>0</td>\n",
       "      <td>8.0500</td>\n",
       "      <td>Southampton</td>\n",
       "      <td>1</td>\n",
       "      <td>0</td>\n",
       "      <td>1</td>\n",
       "    </tr>\n",
       "    <tr>\n",
       "      <th>...</th>\n",
       "      <td>...</td>\n",
       "      <td>...</td>\n",
       "      <td>...</td>\n",
       "      <td>...</td>\n",
       "      <td>...</td>\n",
       "      <td>...</td>\n",
       "      <td>...</td>\n",
       "      <td>...</td>\n",
       "      <td>...</td>\n",
       "      <td>...</td>\n",
       "      <td>...</td>\n",
       "    </tr>\n",
       "    <tr>\n",
       "      <th>886</th>\n",
       "      <td>0</td>\n",
       "      <td>2</td>\n",
       "      <td>male</td>\n",
       "      <td>27.000000</td>\n",
       "      <td>0</td>\n",
       "      <td>0</td>\n",
       "      <td>13.0000</td>\n",
       "      <td>Southampton</td>\n",
       "      <td>1</td>\n",
       "      <td>0</td>\n",
       "      <td>1</td>\n",
       "    </tr>\n",
       "    <tr>\n",
       "      <th>887</th>\n",
       "      <td>1</td>\n",
       "      <td>1</td>\n",
       "      <td>female</td>\n",
       "      <td>19.000000</td>\n",
       "      <td>0</td>\n",
       "      <td>0</td>\n",
       "      <td>30.0000</td>\n",
       "      <td>Southampton</td>\n",
       "      <td>1</td>\n",
       "      <td>0</td>\n",
       "      <td>1</td>\n",
       "    </tr>\n",
       "    <tr>\n",
       "      <th>888</th>\n",
       "      <td>0</td>\n",
       "      <td>3</td>\n",
       "      <td>female</td>\n",
       "      <td>29.699118</td>\n",
       "      <td>1</td>\n",
       "      <td>2</td>\n",
       "      <td>23.4500</td>\n",
       "      <td>Southampton</td>\n",
       "      <td>0</td>\n",
       "      <td>0</td>\n",
       "      <td>1</td>\n",
       "    </tr>\n",
       "    <tr>\n",
       "      <th>889</th>\n",
       "      <td>1</td>\n",
       "      <td>1</td>\n",
       "      <td>male</td>\n",
       "      <td>26.000000</td>\n",
       "      <td>0</td>\n",
       "      <td>0</td>\n",
       "      <td>30.0000</td>\n",
       "      <td>Cherbourg</td>\n",
       "      <td>1</td>\n",
       "      <td>0</td>\n",
       "      <td>0</td>\n",
       "    </tr>\n",
       "    <tr>\n",
       "      <th>890</th>\n",
       "      <td>0</td>\n",
       "      <td>3</td>\n",
       "      <td>male</td>\n",
       "      <td>32.000000</td>\n",
       "      <td>0</td>\n",
       "      <td>0</td>\n",
       "      <td>7.7500</td>\n",
       "      <td>Queenstown</td>\n",
       "      <td>1</td>\n",
       "      <td>1</td>\n",
       "      <td>0</td>\n",
       "    </tr>\n",
       "  </tbody>\n",
       "</table>\n",
       "<p>891 rows × 11 columns</p>\n",
       "</div>"
      ],
      "text/plain": [
       "     survived  pclass     sex        age  sibsp  parch     fare  embark_town  \\\n",
       "0           0       3    male  22.000000      1      0   7.2500  Southampton   \n",
       "1           1       1  female  38.000000      1      0  71.2833    Cherbourg   \n",
       "2           1       3  female  26.000000      0      0   7.9250  Southampton   \n",
       "3           1       1  female  35.000000      1      0  53.1000  Southampton   \n",
       "4           0       3    male  35.000000      0      0   8.0500  Southampton   \n",
       "..        ...     ...     ...        ...    ...    ...      ...          ...   \n",
       "886         0       2    male  27.000000      0      0  13.0000  Southampton   \n",
       "887         1       1  female  19.000000      0      0  30.0000  Southampton   \n",
       "888         0       3  female  29.699118      1      2  23.4500  Southampton   \n",
       "889         1       1    male  26.000000      0      0  30.0000    Cherbourg   \n",
       "890         0       3    male  32.000000      0      0   7.7500   Queenstown   \n",
       "\n",
       "     alone  Queenstown  Southampton  \n",
       "0        0           0            1  \n",
       "1        0           0            0  \n",
       "2        1           0            1  \n",
       "3        0           0            1  \n",
       "4        1           0            1  \n",
       "..     ...         ...          ...  \n",
       "886      1           0            1  \n",
       "887      1           0            1  \n",
       "888      0           0            1  \n",
       "889      1           0            0  \n",
       "890      1           1            0  \n",
       "\n",
       "[891 rows x 11 columns]"
      ]
     },
     "execution_count": 63,
     "metadata": {},
     "output_type": "execute_result"
    }
   ],
   "source": [
    "# introducing pd.get_dummies()\n",
    "# pd.concat\n",
    "# takes in a list of two things I want to glue together\n",
    "# the first is our original dataframe\n",
    "# the second is the dummy columns represented\n",
    "# by pd.get_dummies() output\n",
    "# axes: 0 == rows, 1 == colummns\n",
    "pd.concat(\n",
    "    [df,\n",
    "     pd.get_dummies(df['embark_town'], drop_first=True)],\n",
    "    axis=1)"
   ]
  },
  {
   "cell_type": "code",
   "execution_count": 66,
   "id": "418018d4-589e-4de4-8119-c09232600a50",
   "metadata": {},
   "outputs": [],
   "source": [
    "df = pd.concat(\n",
    "    [df, pd.get_dummies(df['sex'],\n",
    "                        drop_first=True)], axis=1)"
   ]
  },
  {
   "cell_type": "code",
   "execution_count": 67,
   "id": "964342b2-bf7e-41b0-ae90-4c6aae99cf57",
   "metadata": {},
   "outputs": [
    {
     "name": "stdout",
     "output_type": "stream",
     "text": [
      "<class 'pandas.core.frame.DataFrame'>\n",
      "RangeIndex: 891 entries, 0 to 890\n",
      "Data columns (total 10 columns):\n",
      " #   Column       Non-Null Count  Dtype  \n",
      "---  ------       --------------  -----  \n",
      " 0   survived     891 non-null    int64  \n",
      " 1   pclass       891 non-null    int64  \n",
      " 2   sex          891 non-null    object \n",
      " 3   age          891 non-null    float64\n",
      " 4   sibsp        891 non-null    int64  \n",
      " 5   parch        891 non-null    int64  \n",
      " 6   fare         891 non-null    float64\n",
      " 7   embark_town  891 non-null    object \n",
      " 8   alone        891 non-null    int64  \n",
      " 9   male         891 non-null    uint8  \n",
      "dtypes: float64(2), int64(5), object(2), uint8(1)\n",
      "memory usage: 63.6+ KB\n"
     ]
    }
   ],
   "source": [
    "df.info()"
   ]
  },
  {
   "cell_type": "code",
   "execution_count": null,
   "id": "7754199c-1c20-43a8-85b2-207daacd2e22",
   "metadata": {},
   "outputs": [],
   "source": [
    "# cleaned_titanic = clean_titanic(get_titanic_data())"
   ]
  },
  {
   "cell_type": "code",
   "execution_count": null,
   "id": "9b8a7079-bdf0-41d7-a8de-456a2e32a930",
   "metadata": {},
   "outputs": [],
   "source": []
  },
  {
   "cell_type": "code",
   "execution_count": 69,
   "id": "43aa3600-cb08-4a8d-9af6-5c27b339c825",
   "metadata": {},
   "outputs": [],
   "source": [
    "def clean_titanic(df):\n",
    "    '''\n",
    "    clean titanic will take in a single pandas dataframe\n",
    "    and will proceed to drop redundant columns\n",
    "    and nonuseful information\n",
    "    in addition to addressing null values\n",
    "    and encoding categorical variables\n",
    "    '''\n",
    "    #drop out any redundant, excessively empty, or bad columns\n",
    "    df = df.drop(columns=['passenger_id','embarked','deck','class'])\n",
    "    # impute average age and most common embark_town:\n",
    "    df['age'] = df['age'].fillna(df.age.mean())\n",
    "    df['embark_town'] = df['embark_town'].fillna('Southampton')\n",
    "    # encode categorical values:\n",
    "    df = pd.concat(\n",
    "    [df, pd.get_dummies(df[['sex', 'embark_town']],\n",
    "                        drop_first=True)], axis=1)\n",
    "    return df"
   ]
  },
  {
   "cell_type": "code",
   "execution_count": 73,
   "id": "22011150-e01c-44d3-8c1d-1a51a279c534",
   "metadata": {},
   "outputs": [
    {
     "data": {
      "text/html": [
       "<div>\n",
       "<style scoped>\n",
       "    .dataframe tbody tr th:only-of-type {\n",
       "        vertical-align: middle;\n",
       "    }\n",
       "\n",
       "    .dataframe tbody tr th {\n",
       "        vertical-align: top;\n",
       "    }\n",
       "\n",
       "    .dataframe thead th {\n",
       "        text-align: right;\n",
       "    }\n",
       "</style>\n",
       "<table border=\"1\" class=\"dataframe\">\n",
       "  <thead>\n",
       "    <tr style=\"text-align: right;\">\n",
       "      <th></th>\n",
       "      <th>survived</th>\n",
       "      <th>pclass</th>\n",
       "      <th>sex</th>\n",
       "      <th>age</th>\n",
       "      <th>sibsp</th>\n",
       "      <th>parch</th>\n",
       "      <th>fare</th>\n",
       "      <th>embark_town</th>\n",
       "      <th>alone</th>\n",
       "      <th>sex_male</th>\n",
       "      <th>embark_town_Queenstown</th>\n",
       "      <th>embark_town_Southampton</th>\n",
       "    </tr>\n",
       "  </thead>\n",
       "  <tbody>\n",
       "    <tr>\n",
       "      <th>0</th>\n",
       "      <td>0</td>\n",
       "      <td>3</td>\n",
       "      <td>male</td>\n",
       "      <td>22.000000</td>\n",
       "      <td>1</td>\n",
       "      <td>0</td>\n",
       "      <td>7.2500</td>\n",
       "      <td>Southampton</td>\n",
       "      <td>0</td>\n",
       "      <td>1</td>\n",
       "      <td>0</td>\n",
       "      <td>1</td>\n",
       "    </tr>\n",
       "    <tr>\n",
       "      <th>1</th>\n",
       "      <td>1</td>\n",
       "      <td>1</td>\n",
       "      <td>female</td>\n",
       "      <td>38.000000</td>\n",
       "      <td>1</td>\n",
       "      <td>0</td>\n",
       "      <td>71.2833</td>\n",
       "      <td>Cherbourg</td>\n",
       "      <td>0</td>\n",
       "      <td>0</td>\n",
       "      <td>0</td>\n",
       "      <td>0</td>\n",
       "    </tr>\n",
       "    <tr>\n",
       "      <th>2</th>\n",
       "      <td>1</td>\n",
       "      <td>3</td>\n",
       "      <td>female</td>\n",
       "      <td>26.000000</td>\n",
       "      <td>0</td>\n",
       "      <td>0</td>\n",
       "      <td>7.9250</td>\n",
       "      <td>Southampton</td>\n",
       "      <td>1</td>\n",
       "      <td>0</td>\n",
       "      <td>0</td>\n",
       "      <td>1</td>\n",
       "    </tr>\n",
       "    <tr>\n",
       "      <th>3</th>\n",
       "      <td>1</td>\n",
       "      <td>1</td>\n",
       "      <td>female</td>\n",
       "      <td>35.000000</td>\n",
       "      <td>1</td>\n",
       "      <td>0</td>\n",
       "      <td>53.1000</td>\n",
       "      <td>Southampton</td>\n",
       "      <td>0</td>\n",
       "      <td>0</td>\n",
       "      <td>0</td>\n",
       "      <td>1</td>\n",
       "    </tr>\n",
       "    <tr>\n",
       "      <th>4</th>\n",
       "      <td>0</td>\n",
       "      <td>3</td>\n",
       "      <td>male</td>\n",
       "      <td>35.000000</td>\n",
       "      <td>0</td>\n",
       "      <td>0</td>\n",
       "      <td>8.0500</td>\n",
       "      <td>Southampton</td>\n",
       "      <td>1</td>\n",
       "      <td>1</td>\n",
       "      <td>0</td>\n",
       "      <td>1</td>\n",
       "    </tr>\n",
       "    <tr>\n",
       "      <th>...</th>\n",
       "      <td>...</td>\n",
       "      <td>...</td>\n",
       "      <td>...</td>\n",
       "      <td>...</td>\n",
       "      <td>...</td>\n",
       "      <td>...</td>\n",
       "      <td>...</td>\n",
       "      <td>...</td>\n",
       "      <td>...</td>\n",
       "      <td>...</td>\n",
       "      <td>...</td>\n",
       "      <td>...</td>\n",
       "    </tr>\n",
       "    <tr>\n",
       "      <th>886</th>\n",
       "      <td>0</td>\n",
       "      <td>2</td>\n",
       "      <td>male</td>\n",
       "      <td>27.000000</td>\n",
       "      <td>0</td>\n",
       "      <td>0</td>\n",
       "      <td>13.0000</td>\n",
       "      <td>Southampton</td>\n",
       "      <td>1</td>\n",
       "      <td>1</td>\n",
       "      <td>0</td>\n",
       "      <td>1</td>\n",
       "    </tr>\n",
       "    <tr>\n",
       "      <th>887</th>\n",
       "      <td>1</td>\n",
       "      <td>1</td>\n",
       "      <td>female</td>\n",
       "      <td>19.000000</td>\n",
       "      <td>0</td>\n",
       "      <td>0</td>\n",
       "      <td>30.0000</td>\n",
       "      <td>Southampton</td>\n",
       "      <td>1</td>\n",
       "      <td>0</td>\n",
       "      <td>0</td>\n",
       "      <td>1</td>\n",
       "    </tr>\n",
       "    <tr>\n",
       "      <th>888</th>\n",
       "      <td>0</td>\n",
       "      <td>3</td>\n",
       "      <td>female</td>\n",
       "      <td>29.699118</td>\n",
       "      <td>1</td>\n",
       "      <td>2</td>\n",
       "      <td>23.4500</td>\n",
       "      <td>Southampton</td>\n",
       "      <td>0</td>\n",
       "      <td>0</td>\n",
       "      <td>0</td>\n",
       "      <td>1</td>\n",
       "    </tr>\n",
       "    <tr>\n",
       "      <th>889</th>\n",
       "      <td>1</td>\n",
       "      <td>1</td>\n",
       "      <td>male</td>\n",
       "      <td>26.000000</td>\n",
       "      <td>0</td>\n",
       "      <td>0</td>\n",
       "      <td>30.0000</td>\n",
       "      <td>Cherbourg</td>\n",
       "      <td>1</td>\n",
       "      <td>1</td>\n",
       "      <td>0</td>\n",
       "      <td>0</td>\n",
       "    </tr>\n",
       "    <tr>\n",
       "      <th>890</th>\n",
       "      <td>0</td>\n",
       "      <td>3</td>\n",
       "      <td>male</td>\n",
       "      <td>32.000000</td>\n",
       "      <td>0</td>\n",
       "      <td>0</td>\n",
       "      <td>7.7500</td>\n",
       "      <td>Queenstown</td>\n",
       "      <td>1</td>\n",
       "      <td>1</td>\n",
       "      <td>1</td>\n",
       "      <td>0</td>\n",
       "    </tr>\n",
       "  </tbody>\n",
       "</table>\n",
       "<p>891 rows × 12 columns</p>\n",
       "</div>"
      ],
      "text/plain": [
       "     survived  pclass     sex        age  sibsp  parch     fare  embark_town  \\\n",
       "0           0       3    male  22.000000      1      0   7.2500  Southampton   \n",
       "1           1       1  female  38.000000      1      0  71.2833    Cherbourg   \n",
       "2           1       3  female  26.000000      0      0   7.9250  Southampton   \n",
       "3           1       1  female  35.000000      1      0  53.1000  Southampton   \n",
       "4           0       3    male  35.000000      0      0   8.0500  Southampton   \n",
       "..        ...     ...     ...        ...    ...    ...      ...          ...   \n",
       "886         0       2    male  27.000000      0      0  13.0000  Southampton   \n",
       "887         1       1  female  19.000000      0      0  30.0000  Southampton   \n",
       "888         0       3  female  29.699118      1      2  23.4500  Southampton   \n",
       "889         1       1    male  26.000000      0      0  30.0000    Cherbourg   \n",
       "890         0       3    male  32.000000      0      0   7.7500   Queenstown   \n",
       "\n",
       "     alone  sex_male  embark_town_Queenstown  embark_town_Southampton  \n",
       "0        0         1                       0                        1  \n",
       "1        0         0                       0                        0  \n",
       "2        1         0                       0                        1  \n",
       "3        0         0                       0                        1  \n",
       "4        1         1                       0                        1  \n",
       "..     ...       ...                     ...                      ...  \n",
       "886      1         1                       0                        1  \n",
       "887      1         0                       0                        1  \n",
       "888      0         0                       0                        1  \n",
       "889      1         1                       0                        0  \n",
       "890      1         1                       1                        0  \n",
       "\n",
       "[891 rows x 12 columns]"
      ]
     },
     "execution_count": 73,
     "metadata": {},
     "output_type": "execute_result"
    }
   ],
   "source": [
    "# also acceptable:\n",
    "# acquired_df = get_titanic_data()\n",
    "# claned_df = clean_titanic(acquired_df)\n",
    "\n",
    "# nested version\n",
    "clean_titanic(get_titanic_data())"
   ]
  },
  {
   "cell_type": "code",
   "execution_count": 74,
   "id": "6a65f0f0-062e-4735-9a69-1be5c440e1b5",
   "metadata": {},
   "outputs": [],
   "source": [
    "from sklearn.model_selection import train_test_split"
   ]
  },
  {
   "cell_type": "code",
   "execution_count": 75,
   "id": "417bc5aa-736f-4a66-ae9c-c1c64b5b92d4",
   "metadata": {},
   "outputs": [],
   "source": [
    "# split our df into train_val and test:\n",
    "# split our train_val into train and validate:\n",
    "# theres no *real* number that needs to represent the train test proportion\n",
    "# the best base value is going to be an 80/20 split\n",
    "# in cases where you have an excess of data,\n",
    "# you can get away with allocating more for your test\n",
    "# and vice versa if you are limited on data\n",
    "train_val, test = train_test_split(df,\n",
    "                                   train_size=0.8,\n",
    "                                   random_state=1349,\n",
    "                                   stratify=df['survived'])"
   ]
  },
  {
   "cell_type": "code",
   "execution_count": 76,
   "id": "b5f69d59-3353-4406-8c44-196d048f6ddf",
   "metadata": {},
   "outputs": [
    {
     "data": {
      "text/plain": [
       "((712, 10), (179, 10))"
      ]
     },
     "execution_count": 76,
     "metadata": {},
     "output_type": "execute_result"
    }
   ],
   "source": [
    "train_val.shape, test.shape"
   ]
  },
  {
   "cell_type": "code",
   "execution_count": 77,
   "id": "36344c67-7ff4-4f79-bb81-2fcd381c26e1",
   "metadata": {},
   "outputs": [],
   "source": [
    "train, validate = train_test_split(train_val,\n",
    "                                   train_size=0.7,\n",
    "                                   random_state=1349,\n",
    "                                   stratify=train_val['survived'])"
   ]
  },
  {
   "cell_type": "code",
   "execution_count": 78,
   "id": "55772f07-0ed0-4794-937c-a3c954ad867a",
   "metadata": {},
   "outputs": [
    {
     "data": {
      "text/plain": [
       "True"
      ]
     },
     "execution_count": 78,
     "metadata": {},
     "output_type": "execute_result"
    }
   ],
   "source": [
    "train.shape[0] + validate.shape[0] + test.shape[0] == df.shape[0]"
   ]
  },
  {
   "cell_type": "code",
   "execution_count": 79,
   "id": "06941041-abed-40ee-b093-a019dcc7d1b2",
   "metadata": {},
   "outputs": [
    {
     "data": {
      "text/html": [
       "<div>\n",
       "<style scoped>\n",
       "    .dataframe tbody tr th:only-of-type {\n",
       "        vertical-align: middle;\n",
       "    }\n",
       "\n",
       "    .dataframe tbody tr th {\n",
       "        vertical-align: top;\n",
       "    }\n",
       "\n",
       "    .dataframe thead th {\n",
       "        text-align: right;\n",
       "    }\n",
       "</style>\n",
       "<table border=\"1\" class=\"dataframe\">\n",
       "  <thead>\n",
       "    <tr style=\"text-align: right;\">\n",
       "      <th></th>\n",
       "      <th>survived</th>\n",
       "      <th>pclass</th>\n",
       "      <th>sex</th>\n",
       "      <th>age</th>\n",
       "      <th>sibsp</th>\n",
       "      <th>parch</th>\n",
       "      <th>fare</th>\n",
       "      <th>embark_town</th>\n",
       "      <th>alone</th>\n",
       "      <th>male</th>\n",
       "    </tr>\n",
       "  </thead>\n",
       "  <tbody>\n",
       "    <tr>\n",
       "      <th>474</th>\n",
       "      <td>0</td>\n",
       "      <td>3</td>\n",
       "      <td>female</td>\n",
       "      <td>22.000000</td>\n",
       "      <td>0</td>\n",
       "      <td>0</td>\n",
       "      <td>9.8375</td>\n",
       "      <td>Southampton</td>\n",
       "      <td>1</td>\n",
       "      <td>0</td>\n",
       "    </tr>\n",
       "    <tr>\n",
       "      <th>370</th>\n",
       "      <td>1</td>\n",
       "      <td>1</td>\n",
       "      <td>male</td>\n",
       "      <td>25.000000</td>\n",
       "      <td>1</td>\n",
       "      <td>0</td>\n",
       "      <td>55.4417</td>\n",
       "      <td>Cherbourg</td>\n",
       "      <td>0</td>\n",
       "      <td>1</td>\n",
       "    </tr>\n",
       "    <tr>\n",
       "      <th>573</th>\n",
       "      <td>1</td>\n",
       "      <td>3</td>\n",
       "      <td>female</td>\n",
       "      <td>29.699118</td>\n",
       "      <td>0</td>\n",
       "      <td>0</td>\n",
       "      <td>7.7500</td>\n",
       "      <td>Queenstown</td>\n",
       "      <td>1</td>\n",
       "      <td>0</td>\n",
       "    </tr>\n",
       "    <tr>\n",
       "      <th>110</th>\n",
       "      <td>0</td>\n",
       "      <td>1</td>\n",
       "      <td>male</td>\n",
       "      <td>47.000000</td>\n",
       "      <td>0</td>\n",
       "      <td>0</td>\n",
       "      <td>52.0000</td>\n",
       "      <td>Southampton</td>\n",
       "      <td>1</td>\n",
       "      <td>1</td>\n",
       "    </tr>\n",
       "    <tr>\n",
       "      <th>167</th>\n",
       "      <td>0</td>\n",
       "      <td>3</td>\n",
       "      <td>female</td>\n",
       "      <td>45.000000</td>\n",
       "      <td>1</td>\n",
       "      <td>4</td>\n",
       "      <td>27.9000</td>\n",
       "      <td>Southampton</td>\n",
       "      <td>0</td>\n",
       "      <td>0</td>\n",
       "    </tr>\n",
       "  </tbody>\n",
       "</table>\n",
       "</div>"
      ],
      "text/plain": [
       "     survived  pclass     sex        age  sibsp  parch     fare  embark_town  \\\n",
       "474         0       3  female  22.000000      0      0   9.8375  Southampton   \n",
       "370         1       1    male  25.000000      1      0  55.4417    Cherbourg   \n",
       "573         1       3  female  29.699118      0      0   7.7500   Queenstown   \n",
       "110         0       1    male  47.000000      0      0  52.0000  Southampton   \n",
       "167         0       3  female  45.000000      1      4  27.9000  Southampton   \n",
       "\n",
       "     alone  male  \n",
       "474      1     0  \n",
       "370      0     1  \n",
       "573      1     0  \n",
       "110      1     1  \n",
       "167      0     0  "
      ]
     },
     "execution_count": 79,
     "metadata": {},
     "output_type": "execute_result"
    }
   ],
   "source": [
    "train.head()"
   ]
  },
  {
   "cell_type": "code",
   "execution_count": 81,
   "id": "48f274a3-a717-4f25-b47b-359214a40a39",
   "metadata": {},
   "outputs": [],
   "source": [
    "def split_titanic_data(df, target='survived'):\n",
    "    '''\n",
    "    split titanic data will split data based on \n",
    "    the values present in a cleaned version of titanic\n",
    "    that is from clean_titanic\n",
    "    \n",
    "    '''\n",
    "    train_val, test = train_test_split(df,\n",
    "                                   train_size=0.8,\n",
    "                                   random_state=1349,\n",
    "                                   stratify=df[target])\n",
    "    train, validate = train_test_split(train_val,\n",
    "                                   train_size=0.7,\n",
    "                                   random_state=1349,\n",
    "                                   stratify=train_val[target])\n",
    "    return train, validate, test"
   ]
  },
  {
   "cell_type": "code",
   "execution_count": 85,
   "id": "65591089-c86f-40bf-b217-9eea7fee3af1",
   "metadata": {},
   "outputs": [],
   "source": [
    "def prep_titanic(df):\n",
    "    df = clean_titanic(df)\n",
    "    return split_titanic_data(df)"
   ]
  },
  {
   "cell_type": "code",
   "execution_count": 87,
   "id": "d6a0f029-610e-4732-93d8-9e28fc4be4a2",
   "metadata": {},
   "outputs": [],
   "source": [
    "train, validate, test = prep_titanic(get_titanic_data())"
   ]
  },
  {
   "cell_type": "code",
   "execution_count": null,
   "id": "3026c8bb-5cc7-46c0-b711-62e126bf4b7d",
   "metadata": {},
   "outputs": [],
   "source": []
  }
 ],
 "metadata": {
  "kernelspec": {
   "display_name": "Python 3",
   "language": "python",
   "name": "python3"
  },
  "language_info": {
   "codemirror_mode": {
    "name": "ipython",
    "version": 3
   },
   "file_extension": ".py",
   "mimetype": "text/x-python",
   "name": "python",
   "nbconvert_exporter": "python",
   "pygments_lexer": "ipython3",
   "version": "3.9.4"
  }
 },
 "nbformat": 4,
 "nbformat_minor": 5
}
